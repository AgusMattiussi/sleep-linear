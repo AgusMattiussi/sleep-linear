{
 "cells": [
  {
   "cell_type": "markdown",
   "metadata": {},
   "source": [
    "Dataset: **Montreal Archive of Sleep Studies** (MASS) \n",
    "http://ceams-carsm.ca/mass/"
   ]
  },
  {
   "cell_type": "code",
   "execution_count": 1,
   "metadata": {
    "collapsed": true,
    "jupyter": {
     "outputs_hidden": true
    },
    "tags": []
   },
   "outputs": [],
   "source": [
    "# !pip install mne pyedflib seglearn tsfel tsfresh antropy"
   ]
  },
  {
   "cell_type": "code",
   "execution_count": 1,
   "metadata": {},
   "outputs": [],
   "source": [
    "%load_ext autoreload\n",
    "%autoreload 2"
   ]
  },
  {
   "cell_type": "code",
   "execution_count": 2,
   "metadata": {},
   "outputs": [],
   "source": [
    "import sys\n",
    "\n",
    "sys.path.append(\"../../ML_tools/src/\")\n",
    "\n",
    "sys.path.append(\"../src/\")"
   ]
  },
  {
   "cell_type": "code",
   "execution_count": 3,
   "metadata": {},
   "outputs": [],
   "source": [
    "import os\n",
    "\n",
    "import numpy as np\n",
    "import pandas as pd\n",
    "import matplotlib.pyplot as plt\n",
    "\n",
    "from tqdm.auto import tqdm"
   ]
  },
  {
   "cell_type": "code",
   "execution_count": 4,
   "metadata": {},
   "outputs": [],
   "source": [
    "import plotly.graph_objects as go\n",
    "from plotly.subplots import make_subplots\n",
    "\n",
    "from plotly_resampler import FigureResampler"
   ]
  },
  {
   "cell_type": "markdown",
   "metadata": {},
   "source": [
    "## Download the data"
   ]
  },
  {
   "cell_type": "markdown",
   "metadata": {},
   "source": [
    "In order to access the data you should submit a request as is described here; http://ceams-carsm.ca/mass/ "
   ]
  },
  {
   "cell_type": "markdown",
   "metadata": {},
   "source": [
    "# Create dataloader"
   ]
  },
  {
   "cell_type": "markdown",
   "metadata": {
    "tags": []
   },
   "source": [
    "## Some EDF loading funcs"
   ]
  },
  {
   "cell_type": "code",
   "execution_count": 5,
   "metadata": {},
   "outputs": [],
   "source": [
    "from data import load_signals, load_annotations, annotation_to_30s_labels"
   ]
  },
  {
   "cell_type": "markdown",
   "metadata": {
    "tags": []
   },
   "source": [
    "## Load some data"
   ]
  },
  {
   "cell_type": "code",
   "execution_count": 6,
   "metadata": {},
   "outputs": [
    {
     "data": {
      "text/plain": [
       "['SS3_EDF_part2',\n",
       " 'SS3_EDF_part1',\n",
       " 'SS5_EDF.zip',\n",
       " 'SS1_Annotations',\n",
       " 'SS1_EDF_1_30.zip',\n",
       " 'SS1_EDF_part2.zip',\n",
       " 'SS5_Annotations',\n",
       " 'SS4_Annotations',\n",
       " 'SS2_Annotations',\n",
       " 'SS3_Annotations',\n",
       " 'SS2_EDF_part1.zip',\n",
       " 'SS4_EDF_part1.zip']"
      ]
     },
     "execution_count": 6,
     "metadata": {},
     "output_type": "execute_result"
    }
   ],
   "source": [
    "data_folder = \"../../../../data/sleep/MASSDB/\"\n",
    "\n",
    "os.listdir(data_folder)"
   ]
  },
  {
   "cell_type": "code",
   "execution_count": 7,
   "metadata": {},
   "outputs": [
    {
     "data": {
      "text/plain": [
       "['01-03-0021 PSG.edf',\n",
       " '01-03-0006 Base.edf',\n",
       " '01-03-0006 PSG.edf',\n",
       " '01-03-0025 Base.edf',\n",
       " '01-03-0009 PSG.edf',\n",
       " '01-03-0007 PSG.edf',\n",
       " '01-03-0024 PSG.edf',\n",
       " '01-03-0030 PSG.edf',\n",
       " '01-03-0032 Base.edf',\n",
       " '01-03-0024 Base.edf']"
      ]
     },
     "execution_count": 7,
     "metadata": {},
     "output_type": "execute_result"
    }
   ],
   "source": [
    "os.listdir(data_folder + \"SS3_EDF_part1\")[:10]"
   ]
  },
  {
   "cell_type": "code",
   "execution_count": 8,
   "metadata": {},
   "outputs": [
    {
     "data": {
      "text/plain": [
       "70"
      ]
     },
     "execution_count": 8,
     "metadata": {},
     "output_type": "execute_result"
    }
   ],
   "source": [
    "len(os.listdir(data_folder + \"SS3_EDF_part1\"))"
   ]
  },
  {
   "cell_type": "code",
   "execution_count": 9,
   "metadata": {},
   "outputs": [
    {
     "name": "stdout",
     "output_type": "stream",
     "text": [
      "13G\t../../../../data/sleep/MASSDB/SS3_EDF_part1\n"
     ]
    }
   ],
   "source": [
    "!du -hs ../../../../data/sleep/MASSDB/SS3_EDF_part1"
   ]
  },
  {
   "cell_type": "markdown",
   "metadata": {},
   "source": [
    "=> In total 70 files (35 PSG files - 35 hypnogram files) => 13 GB"
   ]
  },
  {
   "cell_type": "code",
   "execution_count": null,
   "metadata": {},
   "outputs": [],
   "source": []
  },
  {
   "cell_type": "code",
   "execution_count": 10,
   "metadata": {},
   "outputs": [
    {
     "data": {
      "text/plain": [
       "['01-03-0047 Base.edf',\n",
       " '01-03-0062 PSG.edf',\n",
       " '01-03-0039 Base.edf',\n",
       " '01-03-0048 PSG.edf',\n",
       " '01-03-0036 Base.edf',\n",
       " '01-03-0053 Base.edf',\n",
       " '01-03-0037 Base.edf',\n",
       " '01-03-0053 PSG.edf',\n",
       " '01-03-0061 Base.edf',\n",
       " '01-03-0064 PSG.edf']"
      ]
     },
     "execution_count": 10,
     "metadata": {},
     "output_type": "execute_result"
    }
   ],
   "source": [
    "os.listdir(data_folder + \"SS3_EDF_part2\")[:10]"
   ]
  },
  {
   "cell_type": "code",
   "execution_count": 11,
   "metadata": {},
   "outputs": [
    {
     "data": {
      "text/plain": [
       "54"
      ]
     },
     "execution_count": 11,
     "metadata": {},
     "output_type": "execute_result"
    }
   ],
   "source": [
    "len(os.listdir(data_folder + \"SS3_EDF_part2\"))"
   ]
  },
  {
   "cell_type": "code",
   "execution_count": 12,
   "metadata": {},
   "outputs": [
    {
     "name": "stdout",
     "output_type": "stream",
     "text": [
      "12G\t../../../../data/sleep/MASSDB/SS3_EDF_part2\n"
     ]
    }
   ],
   "source": [
    "!du -hs ../../../../data/sleep/MASSDB/SS3_EDF_part2"
   ]
  },
  {
   "cell_type": "markdown",
   "metadata": {},
   "source": [
    "=> In total 54 files (27 PSG files - 27 hypnogram files) => 12 GB"
   ]
  },
  {
   "cell_type": "code",
   "execution_count": null,
   "metadata": {},
   "outputs": [],
   "source": []
  },
  {
   "cell_type": "code",
   "execution_count": 13,
   "metadata": {},
   "outputs": [
    {
     "data": {
      "text/html": [
       "<div>\n",
       "<style scoped>\n",
       "    .dataframe tbody tr th:only-of-type {\n",
       "        vertical-align: middle;\n",
       "    }\n",
       "\n",
       "    .dataframe tbody tr th {\n",
       "        vertical-align: top;\n",
       "    }\n",
       "\n",
       "    .dataframe thead th {\n",
       "        text-align: right;\n",
       "    }\n",
       "</style>\n",
       "<table border=\"1\" class=\"dataframe\">\n",
       "  <thead>\n",
       "    <tr style=\"text-align: right;\">\n",
       "      <th></th>\n",
       "      <th>psg_file</th>\n",
       "      <th>label_file</th>\n",
       "      <th>subfolder</th>\n",
       "      <th>patient_id</th>\n",
       "    </tr>\n",
       "  </thead>\n",
       "  <tbody>\n",
       "    <tr>\n",
       "      <th>0</th>\n",
       "      <td>01-03-0001 PSG.edf</td>\n",
       "      <td>01-03-0001 Base.edf</td>\n",
       "      <td>SS3_EDF_part1</td>\n",
       "      <td>01-03-0001</td>\n",
       "    </tr>\n",
       "    <tr>\n",
       "      <th>1</th>\n",
       "      <td>01-03-0002 PSG.edf</td>\n",
       "      <td>01-03-0002 Base.edf</td>\n",
       "      <td>SS3_EDF_part1</td>\n",
       "      <td>01-03-0002</td>\n",
       "    </tr>\n",
       "    <tr>\n",
       "      <th>2</th>\n",
       "      <td>01-03-0003 PSG.edf</td>\n",
       "      <td>01-03-0003 Base.edf</td>\n",
       "      <td>SS3_EDF_part1</td>\n",
       "      <td>01-03-0003</td>\n",
       "    </tr>\n",
       "    <tr>\n",
       "      <th>3</th>\n",
       "      <td>01-03-0004 PSG.edf</td>\n",
       "      <td>01-03-0004 Base.edf</td>\n",
       "      <td>SS3_EDF_part1</td>\n",
       "      <td>01-03-0004</td>\n",
       "    </tr>\n",
       "    <tr>\n",
       "      <th>4</th>\n",
       "      <td>01-03-0005 PSG.edf</td>\n",
       "      <td>01-03-0005 Base.edf</td>\n",
       "      <td>SS3_EDF_part1</td>\n",
       "      <td>01-03-0005</td>\n",
       "    </tr>\n",
       "    <tr>\n",
       "      <th>...</th>\n",
       "      <td>...</td>\n",
       "      <td>...</td>\n",
       "      <td>...</td>\n",
       "      <td>...</td>\n",
       "    </tr>\n",
       "    <tr>\n",
       "      <th>22</th>\n",
       "      <td>01-03-0060 PSG.edf</td>\n",
       "      <td>01-03-0060 Base.edf</td>\n",
       "      <td>SS3_EDF_part2</td>\n",
       "      <td>01-03-0060</td>\n",
       "    </tr>\n",
       "    <tr>\n",
       "      <th>23</th>\n",
       "      <td>01-03-0061 PSG.edf</td>\n",
       "      <td>01-03-0061 Base.edf</td>\n",
       "      <td>SS3_EDF_part2</td>\n",
       "      <td>01-03-0061</td>\n",
       "    </tr>\n",
       "    <tr>\n",
       "      <th>24</th>\n",
       "      <td>01-03-0062 PSG.edf</td>\n",
       "      <td>01-03-0062 Base.edf</td>\n",
       "      <td>SS3_EDF_part2</td>\n",
       "      <td>01-03-0062</td>\n",
       "    </tr>\n",
       "    <tr>\n",
       "      <th>25</th>\n",
       "      <td>01-03-0063 PSG.edf</td>\n",
       "      <td>01-03-0063 Base.edf</td>\n",
       "      <td>SS3_EDF_part2</td>\n",
       "      <td>01-03-0063</td>\n",
       "    </tr>\n",
       "    <tr>\n",
       "      <th>26</th>\n",
       "      <td>01-03-0064 PSG.edf</td>\n",
       "      <td>01-03-0064 Base.edf</td>\n",
       "      <td>SS3_EDF_part2</td>\n",
       "      <td>01-03-0064</td>\n",
       "    </tr>\n",
       "  </tbody>\n",
       "</table>\n",
       "<p>62 rows × 4 columns</p>\n",
       "</div>"
      ],
      "text/plain": [
       "              psg_file           label_file      subfolder  patient_id\n",
       "0   01-03-0001 PSG.edf  01-03-0001 Base.edf  SS3_EDF_part1  01-03-0001\n",
       "1   01-03-0002 PSG.edf  01-03-0002 Base.edf  SS3_EDF_part1  01-03-0002\n",
       "2   01-03-0003 PSG.edf  01-03-0003 Base.edf  SS3_EDF_part1  01-03-0003\n",
       "3   01-03-0004 PSG.edf  01-03-0004 Base.edf  SS3_EDF_part1  01-03-0004\n",
       "4   01-03-0005 PSG.edf  01-03-0005 Base.edf  SS3_EDF_part1  01-03-0005\n",
       "..                 ...                  ...            ...         ...\n",
       "22  01-03-0060 PSG.edf  01-03-0060 Base.edf  SS3_EDF_part2  01-03-0060\n",
       "23  01-03-0061 PSG.edf  01-03-0061 Base.edf  SS3_EDF_part2  01-03-0061\n",
       "24  01-03-0062 PSG.edf  01-03-0062 Base.edf  SS3_EDF_part2  01-03-0062\n",
       "25  01-03-0063 PSG.edf  01-03-0063 Base.edf  SS3_EDF_part2  01-03-0063\n",
       "26  01-03-0064 PSG.edf  01-03-0064 Base.edf  SS3_EDF_part2  01-03-0064\n",
       "\n",
       "[62 rows x 4 columns]"
      ]
     },
     "execution_count": 13,
     "metadata": {},
     "output_type": "execute_result"
    }
   ],
   "source": [
    "dfs = []\n",
    "sub_folders = [\"SS3_EDF_part1\", \"SS3_EDF_part2\"]\n",
    "for sub_folder in sub_folders:\n",
    "    sorted_files = sorted(os.listdir(data_folder + sub_folder))\n",
    "    psg_hypnogram_files = [(h, p) for p, h in zip(sorted_files[::2], sorted_files[1:][::2])]\n",
    "    df_files = pd.DataFrame(psg_hypnogram_files, columns=[\"psg_file\", \"label_file\"])\n",
    "    df_files[\"subfolder\"] = sub_folder\n",
    "    dfs += [df_files]\n",
    "    \n",
    "df_files = pd.concat(dfs)\n",
    "    \n",
    "# Because for the SC study patients were monitored for 2 consecutive nights\n",
    "df_files[\"patient_id\"] = df_files.psg_file.apply(lambda f: f.split(\" \")[0])\n",
    "df_files"
   ]
  },
  {
   "cell_type": "code",
   "execution_count": 14,
   "metadata": {},
   "outputs": [
    {
     "data": {
      "text/plain": [
       "62"
      ]
     },
     "execution_count": 14,
     "metadata": {},
     "output_type": "execute_result"
    }
   ],
   "source": [
    "df_files.psg_file.nunique()"
   ]
  },
  {
   "cell_type": "code",
   "execution_count": 15,
   "metadata": {},
   "outputs": [
    {
     "data": {
      "text/plain": [
       "62"
      ]
     },
     "execution_count": 15,
     "metadata": {},
     "output_type": "execute_result"
    }
   ],
   "source": [
    "df_files.patient_id.nunique()"
   ]
  },
  {
   "cell_type": "markdown",
   "metadata": {},
   "source": [
    "=> psg file can be used as recordingid   \n",
    "=> patient id can be used as patient id "
   ]
  },
  {
   "cell_type": "code",
   "execution_count": null,
   "metadata": {},
   "outputs": [],
   "source": []
  },
  {
   "cell_type": "code",
   "execution_count": 16,
   "metadata": {
    "tags": []
   },
   "outputs": [
    {
     "data": {
      "text/plain": [
       "[(('ECG ECGI', 256), 43),\n",
       " (('ECG ECGI', 512), 19),\n",
       " (('EEG A2-LER', 256), 43),\n",
       " (('EEG C3-LER', 256), 62),\n",
       " (('EEG C4-LER', 256), 62),\n",
       " (('EEG Cz-LER', 256), 62),\n",
       " (('EEG F3-LER', 256), 62),\n",
       " (('EEG F4-LER', 256), 62),\n",
       " (('EEG F7-LER', 256), 62),\n",
       " (('EEG F8-LER', 256), 62),\n",
       " (('EEG Fp1-LER', 256), 62),\n",
       " (('EEG Fp2-LER', 256), 62),\n",
       " (('EEG Fz-LER', 256), 62),\n",
       " (('EEG O1-LER', 256), 62),\n",
       " (('EEG O2-LER', 256), 62),\n",
       " (('EEG Oz-LER', 256), 62),\n",
       " (('EEG P3-LER', 256), 62),\n",
       " (('EEG P4-LER', 256), 62),\n",
       " (('EEG Pz-LER', 256), 62),\n",
       " (('EEG T3-LER', 256), 62),\n",
       " (('EEG T4-LER', 256), 62),\n",
       " (('EEG T5-LER', 256), 62),\n",
       " (('EEG T6-LER', 256), 62),\n",
       " (('EMG Chin1', 128), 43),\n",
       " (('EMG Chin1', 256), 19),\n",
       " (('EMG Chin2', 128), 43),\n",
       " (('EMG Chin2', 256), 19),\n",
       " (('EMG Chin3', 128), 43),\n",
       " (('EMG Chin3', 256), 19),\n",
       " (('EOG Left Horiz', 256), 62),\n",
       " (('EOG Right Horiz', 256), 62),\n",
       " (('Resp Belt Abdo', 64), 19),\n",
       " (('Resp Belt Thor', 64), 19)]"
      ]
     },
     "execution_count": 16,
     "metadata": {},
     "output_type": "execute_result"
    }
   ],
   "source": [
    "signal_dict = {}\n",
    "\n",
    "for idx in range(len(df_files)):\n",
    "    sig, freq = load_signals(data_folder + df_files.iloc[idx].subfolder + \"/\" + df_files.iloc[idx].psg_file, only_info=True)\n",
    "    for s, f in zip(sig, freq):\n",
    "        if (s,f) in signal_dict.keys():\n",
    "            signal_dict[(s,f)].append(idx)\n",
    "        else:\n",
    "            signal_dict[(s,f)] = [idx]\n",
    "            \n",
    "sorted([(k, len(v)) for k, v in signal_dict.items()])"
   ]
  },
  {
   "cell_type": "code",
   "execution_count": 17,
   "metadata": {},
   "outputs": [],
   "source": [
    "common_signals = [\n",
    "    'EOG Left Horiz', 'EOG Right Horiz',  # All have the same sampling rate (100 Hz)\n",
    "    'EEG C3-LER', 'EEG A2-LER', 'EEG F4-LER', 'EEG F8-LER', 'EEG Cz-LER', #'EEG P4-LER',\n",
    "    # 'EEG Cz-LER', 'EEG Pz-LER', 'EEG Oz-LER',\n",
    "    'EMG Chin1', 'EMG Chin2', #'EMG Chin3',  # Different sampling rate: 100 Hz for telemetry & 1 Hz for cassette\n",
    "]\n",
    "\n",
    "common_signals = [\n",
    "    'EOG Left Horiz', 'EOG Right Horiz',  # All have the same sampling rate (100 Hz)\n",
    "    'EEG C4-LER', 'EEG O1-LER', 'EEG F4-LER', 'EEG F8-LER', 'EEG Cz-LER', #'EEG P4-LER',\n",
    "    # 'EEG Cz-LER', 'EEG Pz-LER', 'EEG Oz-LER',\n",
    "    'EMG Chin1', 'EMG Chin2', #'EMG Chin3',  # Different sampling rate: 100 Hz for telemetry & 1 Hz for cassette\n",
    "]"
   ]
  },
  {
   "cell_type": "code",
   "execution_count": 18,
   "metadata": {},
   "outputs": [],
   "source": [
    "data = load_signals(data_folder + df_files.iloc[0].subfolder + \"/\" + df_files.iloc[0].psg_file, retrieve_signals=common_signals + ['ECG ECGI'])\n",
    "annotations = load_annotations(\n",
    "    data_folder + df_files.iloc[0].subfolder + \"/\" + df_files.iloc[0].label_file,\n",
    "    data_folder + df_files.iloc[0].subfolder + \"/\" + df_files.iloc[0].psg_file\n",
    ")"
   ]
  },
  {
   "cell_type": "code",
   "execution_count": 19,
   "metadata": {},
   "outputs": [],
   "source": [
    "# Used for plotting\n",
    "cats = [\n",
    "    \"Sleep stage ?\",\n",
    "    \"Movement time\",\n",
    "    \"Sleep stage W\",\n",
    "    \"Sleep stage 1\",\n",
    "    \"Sleep stage 2\",\n",
    "    \"Sleep stage 3\",\n",
    "    \"Sleep stage 4\",\n",
    "    \"Sleep stage R\",\n",
    "][::-1]\n"
   ]
  },
  {
   "cell_type": "markdown",
   "metadata": {
    "tags": []
   },
   "source": [
    "# EDA + pipeline (for 1 patient)"
   ]
  },
  {
   "cell_type": "code",
   "execution_count": 20,
   "metadata": {},
   "outputs": [
    {
     "name": "stdout",
     "output_type": "stream",
     "text": [
      "Dash app running on http://127.0.0.1:8042/\n"
     ]
    }
   ],
   "source": [
    "idxs = [\"EOG\", \"EEG\", \"EMG\"]\n",
    "\n",
    "fig = FigureResampler(\n",
    "    make_subplots(\n",
    "        rows=len(idxs) + 1 + 1,\n",
    "        cols=1,\n",
    "        shared_xaxes=True,\n",
    "        subplot_titles=idxs + [\"ECG\"] + [\"Hypnogram\"],\n",
    "        vertical_spacing=0.05,\n",
    "    ),\n",
    "    default_n_shown_samples=2_000,\n",
    ")\n",
    "\n",
    "\n",
    "for s in data:\n",
    "    if \"ECG\" in s.name:\n",
    "        fig.add_trace(\n",
    "            go.Scattergl(\n",
    "                x=[], y=[], name=\"ECG\", line_width=1\n",
    "            ),\n",
    "            hf_x=s.index,\n",
    "            hf_y=s.values,\n",
    "            row=len(idxs) + 1,\n",
    "            col=1,\n",
    "        )\n",
    "\n",
    "    try:\n",
    "        idx = idxs.index(s.name.split(\" \")[0]) + 1\n",
    "    except:\n",
    "        continue\n",
    "    fig.add_trace(\n",
    "        go.Scattergl(\n",
    "            x=[], y=[], name=s.name, line_width=1,\n",
    "        ),\n",
    "        hf_x=s.index,\n",
    "        hf_y=s.values,\n",
    "        row=idx,\n",
    "        col=1,\n",
    "    )\n",
    "\n",
    "fig.add_trace(\n",
    "    go.Scattergl(\n",
    "        x=[], y=[], name=\"Hypnogram\", line_width=1.5, line_shape=\"hv\",\n",
    "    ),\n",
    "    hf_x=annotation_to_30s_labels(annotations).index,\n",
    "    hf_y=annotation_to_30s_labels(annotations)[\"label\"].values,\n",
    "    row=len(idxs) + 2,\n",
    "    col=1,\n",
    ")\n",
    "\n",
    "fig.update_layout(height=900)\n",
    "fig.update_yaxes(categoryorder=\"array\", categoryarray=cats)\n",
    "\n",
    "fig.update_layout(\n",
    "    legend_traceorder=\"normal\",\n",
    "    template=\"plotly_white\",\n",
    "    #     legend=dict(orientation=\"h\", y=1.07, xanchor=\"right\", x=1),\n",
    ")\n",
    "\n",
    "fig.show_dash(port=8042)"
   ]
  },
  {
   "cell_type": "markdown",
   "metadata": {
    "tags": []
   },
   "source": [
    "## Process the signals"
   ]
  },
  {
   "cell_type": "code",
   "execution_count": 21,
   "metadata": {},
   "outputs": [
    {
     "data": {
      "text/plain": [
       "[\n",
       "\tbutter_bandpass_filter {'lowcut': 0.4, 'highcut': 30, 'fs': 256} :  ('EEG C4-LER',) ('EEG O1-LER',) ('EEG F4-LER',) ('EEG F8-LER',) ('EEG Cz-LER',) ('EOG Left Horiz',) ('EOG Right Horiz',)\n",
       "\tbutter_bandpass_filter {'lowcut': 0.5, 'highcut': 10} :  ('EMG Chin1',) ('EMG Chin2',)\n",
       "\taverage {} :  ('EOG Left Horiz', 'EOG Right Horiz') ('EMG Chin1', 'EMG Chin2')\n",
       "\tcreate_montage {} :  ('EEG C4-LER', 'EEG O1-LER') ('EEG F4-LER', 'EOG Left Horiz')\n",
       "\tresample {'fs': 100} :  ('EEG C4-LER - EEG O1-LER',) ('EEG F4-LER - EOG Left Horiz',) ('EOG Left Horiz_EOG Right Horiz_[AVG]',) ('EMG Chin1_EMG Chin2_[AVG]',)\n",
       "]"
      ]
     },
     "execution_count": 21,
     "metadata": {},
     "output_type": "execute_result"
    }
   ],
   "source": [
    "## Processing\n",
    "from scipy.signal import butter, lfilter, iirnotch\n",
    "\n",
    "from tsflex.processing import SeriesPipeline, SeriesProcessor\n",
    "\n",
    "def determine_fs(sig):\n",
    "    return int(10**9 / data[0].index.to_series().diff().median().to_timedelta64().astype(float))\n",
    "\n",
    "def butter_bandpass_filter(sig, lowcut, highcut, fs=None, order=5):\n",
    "    if fs is None:\n",
    "        fs = determine_fs(sig)\n",
    "    nyq = 0.5 * fs\n",
    "    low = lowcut / nyq\n",
    "    high = highcut / nyq\n",
    "    b, a = butter(order, [low, high], btype=\"band\")\n",
    "    y = lfilter(b, a, sig)\n",
    "    return y\n",
    "\n",
    "def resample(sig, fs):\n",
    "    return sig.resample(pd.Timedelta(10**3/fs, unit=\"ms\")).mean().interpolate()\n",
    "\n",
    "def create_montage(sig1, sig2):\n",
    "    return (sig1 - sig2).rename(sig1.name + \" - \" + sig2.name)\n",
    "\n",
    "def average(sig1, sig2):\n",
    "    return (sig1 + sig2).rename(sig1.name + \"_\" + sig2.name + \"_[AVG]\") / 2\n",
    "\n",
    "eeg_signals = [s for s in common_signals if s.startswith(\"EEG\")]\n",
    "eog_signals = [s for s in common_signals if s.startswith(\"EOG\")]\n",
    "emg_signals = [s for s in common_signals if s.startswith(\"EMG\")]\n",
    "\n",
    "eeg_bandpass = SeriesProcessor(\n",
    "    function=butter_bandpass_filter,\n",
    "    series_names=eeg_signals + eog_signals,\n",
    "    lowcut=0.4,\n",
    "    highcut=30,\n",
    "    fs=256,\n",
    ")\n",
    "\n",
    "emg_bandpass = SeriesProcessor(\n",
    "    function=butter_bandpass_filter,\n",
    "    series_names=emg_signals,\n",
    "    lowcut=0.5,\n",
    "    highcut=10,\n",
    ")\n",
    "\n",
    "## OG pipeline\n",
    "process_pipe = SeriesPipeline(\n",
    "    [\n",
    "        eeg_bandpass,\n",
    "        emg_bandpass,\n",
    "        SeriesProcessor(resample, series_names=common_signals, fs=100),\n",
    "        SeriesProcessor(\n",
    "            create_montage, \n",
    "            series_names=[(\"EEG C4-LER\", \"EEG O1-LER\"), (\"EEG F4-LER\", \"EOG Left Horiz\")],#, (\"EEG F8-LER\", \"EEG Cz-LER\")]\n",
    "        ),\n",
    "        SeriesProcessor(\n",
    "            average,\n",
    "            series_names=[(\"EOG Left Horiz\", \"EOG Right Horiz\"), (\"EMG Chin1\", \"EMG Chin2\")]\n",
    "        ),\n",
    "        # emg_bandpass,\n",
    "    ]\n",
    ")\n",
    "\n",
    "out_signals = ['EEG C4-LER - EEG O1-LER',\n",
    "#  'EEG F8-LER - EEG Cz-LER',\n",
    " 'EEG F4-LER - EOG Left Horiz',\n",
    " 'EOG Left Horiz_EOG Right Horiz_[AVG]',\n",
    " 'EMG Chin1_EMG Chin2_[AVG]']\n",
    "\n",
    "process_pipe = SeriesPipeline(\n",
    "    [        \n",
    "        eeg_bandpass,\n",
    "        emg_bandpass,\n",
    "        SeriesProcessor(\n",
    "            average,\n",
    "            series_names=[(\"EOG Left Horiz\", \"EOG Right Horiz\"), (\"EMG Chin1\", \"EMG Chin2\")]\n",
    "        ),\n",
    "        SeriesProcessor(\n",
    "            create_montage, \n",
    "            series_names=[(\"EEG C4-LER\", \"EEG O1-LER\"), (\"EEG F4-LER\", \"EOG Left Horiz\")]#, (\"EEG F8-LER\", \"EEG Cz-LER\")]\n",
    "        ),\n",
    "        SeriesProcessor(resample, series_names=out_signals, fs=100),\n",
    "    ]\n",
    ")\n",
    "\n",
    "process_pipe"
   ]
  },
  {
   "cell_type": "code",
   "execution_count": 22,
   "metadata": {},
   "outputs": [
    {
     "name": "stdout",
     "output_type": "stream",
     "text": [
      "CPU times: user 2.07 s, sys: 710 ms, total: 2.78 s\n",
      "Wall time: 2.72 s\n"
     ]
    }
   ],
   "source": [
    "%%time\n",
    "data_processed = process_pipe.process(data, return_all_series=False, drop_keys=eeg_signals + eog_signals + emg_signals)\n",
    "# data_processed = process_pipe.process(data, return_all_series=False)#, drop_keys=eeg_signals + eog_signals + emg_signals)"
   ]
  },
  {
   "cell_type": "code",
   "execution_count": 23,
   "metadata": {},
   "outputs": [
    {
     "name": "stdout",
     "output_type": "stream",
     "text": [
      "Dash app running on http://127.0.0.1:8042/\n"
     ]
    }
   ],
   "source": [
    "for s in data_processed:\n",
    "    idx = idxs.index(s.name.split(\" \")[0]) + 1\n",
    "    fig.add_trace(\n",
    "        go.Scatter(x=[], y=[], name=s.name + \" processed\", line_width=1),\n",
    "        hf_x=s.index,\n",
    "        hf_y=s.values,\n",
    "        row=idx,\n",
    "        col=1,\n",
    "    )\n",
    "    \n",
    "fig.show_dash(port=8042)"
   ]
  },
  {
   "cell_type": "markdown",
   "metadata": {
    "tags": []
   },
   "source": [
    "## Extract the features"
   ]
  },
  {
   "cell_type": "code",
   "execution_count": 24,
   "metadata": {},
   "outputs": [
    {
     "name": "stdout",
     "output_type": "stream",
     "text": [
      "['EEG C4-LER - EEG O1-LER', 'EEG F4-LER - EOG Left Horiz']\n",
      "['EOG Left Horiz_EOG Right Horiz_[AVG]']\n",
      "['EMG Chin1_EMG Chin2_[AVG]']\n"
     ]
    }
   ],
   "source": [
    "eeg_cols = [s.name for s in data_processed if s.name.startswith(\"EEG\")]\n",
    "eog_cols = [s.name for s in data_processed if s.name.startswith(\"EOG\")]\n",
    "emg_cols = [s.name for s in data_processed if s.name.startswith(\"EMG\")]\n",
    "print(eeg_cols)\n",
    "print(eog_cols)\n",
    "print(emg_cols)"
   ]
  },
  {
   "cell_type": "code",
   "execution_count": 25,
   "metadata": {},
   "outputs": [
    {
     "data": {
      "text/plain": [
       "{'fft_aggregated': [{'aggtype': 'centroid'},\n",
       "  {'aggtype': 'variance'},\n",
       "  {'aggtype': 'skew'},\n",
       "  {'aggtype': 'kurtosis'}],\n",
       " 'fourier_entropy': [{'bins': 2},\n",
       "  {'bins': 3},\n",
       "  {'bins': 5},\n",
       "  {'bins': 10},\n",
       "  {'bins': 30},\n",
       "  {'bins': 60},\n",
       "  {'bins': 100}],\n",
       " 'binned_entropy': [{'max_bins': 5},\n",
       "  {'max_bins': 10},\n",
       "  {'max_bins': 30},\n",
       "  {'max_bins': 60}]}"
      ]
     },
     "execution_count": 25,
     "metadata": {},
     "output_type": "execute_result"
    }
   ],
   "source": [
    "# Create the collection of tsfresh features to extract\n",
    "\n",
    "tsfresh_settings = {\n",
    "    \"fft_aggregated\": [\n",
    "        {\"aggtype\": \"centroid\"},\n",
    "        {\"aggtype\": \"variance\"},\n",
    "        {\"aggtype\": \"skew\"},\n",
    "        {\"aggtype\": \"kurtosis\"},\n",
    "    ],\n",
    "    \"fourier_entropy\": [\n",
    "        {\"bins\": 2},\n",
    "        {\"bins\": 3},\n",
    "        {\"bins\": 5},\n",
    "        {\"bins\": 10},\n",
    "        {\"bins\": 30},\n",
    "        {\"bins\": 60},\n",
    "        {\"bins\": 100},\n",
    "    ],\n",
    "    \"binned_entropy\": [\n",
    "        {\"max_bins\": 5},\n",
    "        {\"max_bins\": 10},\n",
    "        {\"max_bins\": 30},\n",
    "        {\"max_bins\": 60},\n",
    "    ],\n",
    "}\n",
    "\n",
    "tsfresh_settings"
   ]
  },
  {
   "cell_type": "code",
   "execution_count": 26,
   "metadata": {
    "tags": []
   },
   "outputs": [],
   "source": [
    "import antropy as ant\n",
    "import scipy.stats as ss\n",
    "from yasa import bandpower\n",
    "\n",
    "import scipy.stats as ss\n",
    "from tsflex.features import (\n",
    "    FeatureCollection,\n",
    "    FuncWrapper,\n",
    "    MultipleFeatureDescriptors,\n",
    "    FuncWrapper,\n",
    ")\n",
    "from tsflex.features.integrations import tsfresh_settings_wrapper\n",
    "\n",
    "\n",
    "def wrapped_higuchi_fd(x):\n",
    "    x = np.array(x, dtype=\"float64\")\n",
    "    return ant.higuchi_fd(x)\n",
    "\n",
    "\n",
    "bands = [\n",
    "    (0.4, 1, \"sdelta\"),\n",
    "    (1, 4, \"fdelta\"),\n",
    "    (4, 8, \"theta\"),\n",
    "    (8, 12, \"alpha\"),\n",
    "    (12, 16, \"sigma\"),\n",
    "    (16, 30, \"beta\"),\n",
    "]\n",
    "bandpowers_ouputs = [b[2] for b in bands] + [\"TotalAbsPow\"]\n",
    "\n",
    "\n",
    "def wrapped_bandpowers(x, sf, bands):\n",
    "    return bandpower(x, sf=sf, bands=bands).values[0][:-2]\n",
    "\n",
    "\n",
    "time_funcs = [\n",
    "    np.std,\n",
    "    ss.iqr,\n",
    "    ss.skew,\n",
    "    ss.kurtosis,\n",
    "    ant.num_zerocross,\n",
    "    FuncWrapper(\n",
    "        ant.hjorth_params, output_names=[\"horth_mobility\", \"hjorth_complexity\"]\n",
    "    ),\n",
    "    wrapped_higuchi_fd,\n",
    "    ant.petrosian_fd,\n",
    "    ant.perm_entropy,\n",
    "] + tsfresh_settings_wrapper(tsfresh_settings)\n",
    "\n",
    "freq_funcs = [\n",
    "    FuncWrapper(wrapped_bandpowers, sf=100, bands=bands, output_names=bandpowers_ouputs)\n",
    "]\n",
    "\n",
    "time_feats = MultipleFeatureDescriptors(\n",
    "    time_funcs, eeg_cols + eog_cols + emg_cols,\n",
    "    windows=[\"30s\", \"60s\", \"90s\"], strides=\"30s\",\n",
    ")\n",
    "freq_feats = MultipleFeatureDescriptors(\n",
    "    freq_funcs, eeg_cols + eog_cols,\n",
    "    windows=[\"30s\", \"60s\", \"90s\"], strides=\"30s\",\n",
    ")\n",
    "\n",
    "feature_collection = FeatureCollection([time_feats, freq_feats])\n",
    "# fc"
   ]
  },
  {
   "cell_type": "code",
   "execution_count": 27,
   "metadata": {},
   "outputs": [],
   "source": [
    "import logging \n",
    "\n",
    "from tsflex.features.logger import logger\n",
    "logger.setLevel(level=logging.ERROR)\n",
    "\n",
    "from tsflex.processing.logger import logger\n",
    "logger.setLevel(level=logging.ERROR)"
   ]
  },
  {
   "cell_type": "code",
   "execution_count": 28,
   "metadata": {
    "tags": []
   },
   "outputs": [
    {
     "data": {
      "application/vnd.jupyter.widget-view+json": {
       "model_id": "7fb38c82ab9b410ebf6aa7020e8e7c10",
       "version_major": 2,
       "version_minor": 0
      },
      "text/plain": [
       "  0%|          | 0/261 [00:00<?, ?it/s]"
      ]
     },
     "metadata": {},
     "output_type": "display_data"
    },
    {
     "data": {
      "text/html": [
       "<div>\n",
       "<style scoped>\n",
       "    .dataframe tbody tr th:only-of-type {\n",
       "        vertical-align: middle;\n",
       "    }\n",
       "\n",
       "    .dataframe tbody tr th {\n",
       "        vertical-align: top;\n",
       "    }\n",
       "\n",
       "    .dataframe thead th {\n",
       "        text-align: right;\n",
       "    }\n",
       "</style>\n",
       "<table border=\"1\" class=\"dataframe\">\n",
       "  <thead>\n",
       "    <tr style=\"text-align: right;\">\n",
       "      <th></th>\n",
       "      <th>EEG C4-LER - EEG O1-LER__TotalAbsPow__w=1m30s_s=30s</th>\n",
       "      <th>EEG C4-LER - EEG O1-LER__TotalAbsPow__w=1m_s=30s</th>\n",
       "      <th>EEG C4-LER - EEG O1-LER__TotalAbsPow__w=30s_s=30s</th>\n",
       "      <th>EEG C4-LER - EEG O1-LER__alpha__w=1m30s_s=30s</th>\n",
       "      <th>EEG C4-LER - EEG O1-LER__alpha__w=1m_s=30s</th>\n",
       "      <th>EEG C4-LER - EEG O1-LER__alpha__w=30s_s=30s</th>\n",
       "      <th>EEG C4-LER - EEG O1-LER__beta__w=1m30s_s=30s</th>\n",
       "      <th>EEG C4-LER - EEG O1-LER__beta__w=1m_s=30s</th>\n",
       "      <th>EEG C4-LER - EEG O1-LER__beta__w=30s_s=30s</th>\n",
       "      <th>EEG C4-LER - EEG O1-LER__binned_entropy_{'max_bins': 10}__w=1m30s_s=30s</th>\n",
       "      <th>...</th>\n",
       "      <th>EOG Left Horiz_EOG Right Horiz_[AVG]__skew__w=30s_s=30s</th>\n",
       "      <th>EOG Left Horiz_EOG Right Horiz_[AVG]__std__w=1m30s_s=30s</th>\n",
       "      <th>EOG Left Horiz_EOG Right Horiz_[AVG]__std__w=1m_s=30s</th>\n",
       "      <th>EOG Left Horiz_EOG Right Horiz_[AVG]__std__w=30s_s=30s</th>\n",
       "      <th>EOG Left Horiz_EOG Right Horiz_[AVG]__theta__w=1m30s_s=30s</th>\n",
       "      <th>EOG Left Horiz_EOG Right Horiz_[AVG]__theta__w=1m_s=30s</th>\n",
       "      <th>EOG Left Horiz_EOG Right Horiz_[AVG]__theta__w=30s_s=30s</th>\n",
       "      <th>EOG Left Horiz_EOG Right Horiz_[AVG]__wrapped_higuchi_fd__w=1m30s_s=30s</th>\n",
       "      <th>EOG Left Horiz_EOG Right Horiz_[AVG]__wrapped_higuchi_fd__w=1m_s=30s</th>\n",
       "      <th>EOG Left Horiz_EOG Right Horiz_[AVG]__wrapped_higuchi_fd__w=30s_s=30s</th>\n",
       "    </tr>\n",
       "  </thead>\n",
       "  <tbody>\n",
       "    <tr>\n",
       "      <th>2000-01-01 21:28:23</th>\n",
       "      <td>NaN</td>\n",
       "      <td>NaN</td>\n",
       "      <td>42.457673</td>\n",
       "      <td>NaN</td>\n",
       "      <td>NaN</td>\n",
       "      <td>0.147711</td>\n",
       "      <td>NaN</td>\n",
       "      <td>NaN</td>\n",
       "      <td>0.060797</td>\n",
       "      <td>NaN</td>\n",
       "      <td>...</td>\n",
       "      <td>-1.300548</td>\n",
       "      <td>NaN</td>\n",
       "      <td>NaN</td>\n",
       "      <td>9.632114</td>\n",
       "      <td>NaN</td>\n",
       "      <td>NaN</td>\n",
       "      <td>0.089987</td>\n",
       "      <td>NaN</td>\n",
       "      <td>NaN</td>\n",
       "      <td>1.622883</td>\n",
       "    </tr>\n",
       "    <tr>\n",
       "      <th>2000-01-01 21:28:53</th>\n",
       "      <td>NaN</td>\n",
       "      <td>38.621956</td>\n",
       "      <td>38.987855</td>\n",
       "      <td>NaN</td>\n",
       "      <td>0.109785</td>\n",
       "      <td>0.074727</td>\n",
       "      <td>NaN</td>\n",
       "      <td>0.05605</td>\n",
       "      <td>0.04344</td>\n",
       "      <td>NaN</td>\n",
       "      <td>...</td>\n",
       "      <td>-0.236141</td>\n",
       "      <td>NaN</td>\n",
       "      <td>12.814378</td>\n",
       "      <td>15.328005</td>\n",
       "      <td>NaN</td>\n",
       "      <td>0.073491</td>\n",
       "      <td>0.045014</td>\n",
       "      <td>NaN</td>\n",
       "      <td>1.537349</td>\n",
       "      <td>1.450732</td>\n",
       "    </tr>\n",
       "    <tr>\n",
       "      <th>2000-01-01 21:29:23</th>\n",
       "      <td>35.66086</td>\n",
       "      <td>32.425519</td>\n",
       "      <td>44.962163</td>\n",
       "      <td>0.168682</td>\n",
       "      <td>0.18713</td>\n",
       "      <td>0.458264</td>\n",
       "      <td>0.05987</td>\n",
       "      <td>0.057253</td>\n",
       "      <td>0.05073</td>\n",
       "      <td>1.076488</td>\n",
       "      <td>...</td>\n",
       "      <td>0.119529</td>\n",
       "      <td>14.119242</td>\n",
       "      <td>15.891333</td>\n",
       "      <td>16.412610</td>\n",
       "      <td>0.063796</td>\n",
       "      <td>0.051673</td>\n",
       "      <td>0.067629</td>\n",
       "      <td>1.513740</td>\n",
       "      <td>1.457032</td>\n",
       "      <td>1.467876</td>\n",
       "    </tr>\n",
       "    <tr>\n",
       "      <th>2000-01-01 21:29:53</th>\n",
       "      <td>29.378379</td>\n",
       "      <td>32.836996</td>\n",
       "      <td>27.899303</td>\n",
       "      <td>0.218926</td>\n",
       "      <td>0.316914</td>\n",
       "      <td>0.221476</td>\n",
       "      <td>0.065742</td>\n",
       "      <td>0.065687</td>\n",
       "      <td>0.072345</td>\n",
       "      <td>1.055687</td>\n",
       "      <td>...</td>\n",
       "      <td>-0.123054</td>\n",
       "      <td>13.155476</td>\n",
       "      <td>11.906914</td>\n",
       "      <td>3.754816</td>\n",
       "      <td>0.076116</td>\n",
       "      <td>0.075971</td>\n",
       "      <td>0.090717</td>\n",
       "      <td>1.513196</td>\n",
       "      <td>1.553211</td>\n",
       "      <td>1.676340</td>\n",
       "    </tr>\n",
       "    <tr>\n",
       "      <th>2000-01-01 21:30:23</th>\n",
       "      <td>27.176844</td>\n",
       "      <td>23.646118</td>\n",
       "      <td>18.956875</td>\n",
       "      <td>0.237448</td>\n",
       "      <td>0.17418</td>\n",
       "      <td>0.147383</td>\n",
       "      <td>0.068801</td>\n",
       "      <td>0.06996</td>\n",
       "      <td>0.072987</td>\n",
       "      <td>1.690932</td>\n",
       "      <td>...</td>\n",
       "      <td>0.440301</td>\n",
       "      <td>10.440067</td>\n",
       "      <td>5.362053</td>\n",
       "      <td>6.588197</td>\n",
       "      <td>0.089699</td>\n",
       "      <td>0.107171</td>\n",
       "      <td>0.102644</td>\n",
       "      <td>1.547175</td>\n",
       "      <td>1.605256</td>\n",
       "      <td>1.532670</td>\n",
       "    </tr>\n",
       "    <tr>\n",
       "      <th>...</th>\n",
       "      <td>...</td>\n",
       "      <td>...</td>\n",
       "      <td>...</td>\n",
       "      <td>...</td>\n",
       "      <td>...</td>\n",
       "      <td>...</td>\n",
       "      <td>...</td>\n",
       "      <td>...</td>\n",
       "      <td>...</td>\n",
       "      <td>...</td>\n",
       "      <td>...</td>\n",
       "      <td>...</td>\n",
       "      <td>...</td>\n",
       "      <td>...</td>\n",
       "      <td>...</td>\n",
       "      <td>...</td>\n",
       "      <td>...</td>\n",
       "      <td>...</td>\n",
       "      <td>...</td>\n",
       "      <td>...</td>\n",
       "      <td>...</td>\n",
       "    </tr>\n",
       "    <tr>\n",
       "      <th>2000-01-02 05:59:53</th>\n",
       "      <td>67.457257</td>\n",
       "      <td>65.833353</td>\n",
       "      <td>55.544329</td>\n",
       "      <td>0.070965</td>\n",
       "      <td>0.080932</td>\n",
       "      <td>0.088443</td>\n",
       "      <td>0.019352</td>\n",
       "      <td>0.019928</td>\n",
       "      <td>0.029542</td>\n",
       "      <td>1.642027</td>\n",
       "      <td>...</td>\n",
       "      <td>-0.057074</td>\n",
       "      <td>6.756273</td>\n",
       "      <td>6.074860</td>\n",
       "      <td>6.215825</td>\n",
       "      <td>0.139421</td>\n",
       "      <td>0.152136</td>\n",
       "      <td>0.187128</td>\n",
       "      <td>1.410516</td>\n",
       "      <td>1.433275</td>\n",
       "      <td>1.476446</td>\n",
       "    </tr>\n",
       "    <tr>\n",
       "      <th>2000-01-02 06:00:23</th>\n",
       "      <td>78.736117</td>\n",
       "      <td>83.661787</td>\n",
       "      <td>151.995921</td>\n",
       "      <td>0.089132</td>\n",
       "      <td>0.089835</td>\n",
       "      <td>0.084587</td>\n",
       "      <td>0.022012</td>\n",
       "      <td>0.028249</td>\n",
       "      <td>0.061087</td>\n",
       "      <td>0.507468</td>\n",
       "      <td>...</td>\n",
       "      <td>0.278932</td>\n",
       "      <td>61.811473</td>\n",
       "      <td>75.587059</td>\n",
       "      <td>106.715272</td>\n",
       "      <td>0.136022</td>\n",
       "      <td>0.134824</td>\n",
       "      <td>0.032963</td>\n",
       "      <td>1.270499</td>\n",
       "      <td>1.259598</td>\n",
       "      <td>1.234685</td>\n",
       "    </tr>\n",
       "    <tr>\n",
       "      <th>2000-01-02 06:00:53</th>\n",
       "      <td>72.088155</td>\n",
       "      <td>92.1134</td>\n",
       "      <td>63.986004</td>\n",
       "      <td>0.110996</td>\n",
       "      <td>0.11289</td>\n",
       "      <td>0.135875</td>\n",
       "      <td>0.045194</td>\n",
       "      <td>0.099761</td>\n",
       "      <td>0.147312</td>\n",
       "      <td>0.517686</td>\n",
       "      <td>...</td>\n",
       "      <td>0.861418</td>\n",
       "      <td>67.744800</td>\n",
       "      <td>82.853550</td>\n",
       "      <td>48.386638</td>\n",
       "      <td>0.070451</td>\n",
       "      <td>0.057948</td>\n",
       "      <td>0.068542</td>\n",
       "      <td>1.297602</td>\n",
       "      <td>1.284611</td>\n",
       "      <td>1.376458</td>\n",
       "    </tr>\n",
       "    <tr>\n",
       "      <th>2000-01-02 06:01:23</th>\n",
       "      <td>116.554523</td>\n",
       "      <td>94.892555</td>\n",
       "      <td>285.597411</td>\n",
       "      <td>0.077191</td>\n",
       "      <td>0.072359</td>\n",
       "      <td>0.020969</td>\n",
       "      <td>0.11665</td>\n",
       "      <td>0.146382</td>\n",
       "      <td>0.07232</td>\n",
       "      <td>0.710774</td>\n",
       "      <td>...</td>\n",
       "      <td>0.614399</td>\n",
       "      <td>80.366705</td>\n",
       "      <td>63.199168</td>\n",
       "      <td>75.146153</td>\n",
       "      <td>0.085664</td>\n",
       "      <td>0.092577</td>\n",
       "      <td>0.083237</td>\n",
       "      <td>1.290983</td>\n",
       "      <td>1.331246</td>\n",
       "      <td>1.304121</td>\n",
       "    </tr>\n",
       "    <tr>\n",
       "      <th>2000-01-02 06:01:53</th>\n",
       "      <td>144.475238</td>\n",
       "      <td>313.554024</td>\n",
       "      <td>306.732188</td>\n",
       "      <td>0.050367</td>\n",
       "      <td>0.020928</td>\n",
       "      <td>0.02435</td>\n",
       "      <td>0.11211</td>\n",
       "      <td>0.065843</td>\n",
       "      <td>0.066542</td>\n",
       "      <td>0.883048</td>\n",
       "      <td>...</td>\n",
       "      <td>0.280129</td>\n",
       "      <td>72.457972</td>\n",
       "      <td>81.881639</td>\n",
       "      <td>88.102048</td>\n",
       "      <td>0.054511</td>\n",
       "      <td>0.04811</td>\n",
       "      <td>0.022119</td>\n",
       "      <td>1.305338</td>\n",
       "      <td>1.282856</td>\n",
       "      <td>1.261031</td>\n",
       "    </tr>\n",
       "  </tbody>\n",
       "</table>\n",
       "<p>1028 rows × 363 columns</p>\n",
       "</div>"
      ],
      "text/plain": [
       "                    EEG C4-LER - EEG O1-LER__TotalAbsPow__w=1m30s_s=30s  \\\n",
       "2000-01-01 21:28:23                                                NaN    \n",
       "2000-01-01 21:28:53                                                NaN    \n",
       "2000-01-01 21:29:23                                           35.66086    \n",
       "2000-01-01 21:29:53                                          29.378379    \n",
       "2000-01-01 21:30:23                                          27.176844    \n",
       "...                                                                ...    \n",
       "2000-01-02 05:59:53                                          67.457257    \n",
       "2000-01-02 06:00:23                                          78.736117    \n",
       "2000-01-02 06:00:53                                          72.088155    \n",
       "2000-01-02 06:01:23                                         116.554523    \n",
       "2000-01-02 06:01:53                                         144.475238    \n",
       "\n",
       "                    EEG C4-LER - EEG O1-LER__TotalAbsPow__w=1m_s=30s  \\\n",
       "2000-01-01 21:28:23                                              NaN   \n",
       "2000-01-01 21:28:53                                        38.621956   \n",
       "2000-01-01 21:29:23                                        32.425519   \n",
       "2000-01-01 21:29:53                                        32.836996   \n",
       "2000-01-01 21:30:23                                        23.646118   \n",
       "...                                                              ...   \n",
       "2000-01-02 05:59:53                                        65.833353   \n",
       "2000-01-02 06:00:23                                        83.661787   \n",
       "2000-01-02 06:00:53                                          92.1134   \n",
       "2000-01-02 06:01:23                                        94.892555   \n",
       "2000-01-02 06:01:53                                       313.554024   \n",
       "\n",
       "                    EEG C4-LER - EEG O1-LER__TotalAbsPow__w=30s_s=30s  \\\n",
       "2000-01-01 21:28:23                                         42.457673   \n",
       "2000-01-01 21:28:53                                         38.987855   \n",
       "2000-01-01 21:29:23                                         44.962163   \n",
       "2000-01-01 21:29:53                                         27.899303   \n",
       "2000-01-01 21:30:23                                         18.956875   \n",
       "...                                                               ...   \n",
       "2000-01-02 05:59:53                                         55.544329   \n",
       "2000-01-02 06:00:23                                        151.995921   \n",
       "2000-01-02 06:00:53                                         63.986004   \n",
       "2000-01-02 06:01:23                                        285.597411   \n",
       "2000-01-02 06:01:53                                        306.732188   \n",
       "\n",
       "                    EEG C4-LER - EEG O1-LER__alpha__w=1m30s_s=30s  \\\n",
       "2000-01-01 21:28:23                                           NaN   \n",
       "2000-01-01 21:28:53                                           NaN   \n",
       "2000-01-01 21:29:23                                      0.168682   \n",
       "2000-01-01 21:29:53                                      0.218926   \n",
       "2000-01-01 21:30:23                                      0.237448   \n",
       "...                                                           ...   \n",
       "2000-01-02 05:59:53                                      0.070965   \n",
       "2000-01-02 06:00:23                                      0.089132   \n",
       "2000-01-02 06:00:53                                      0.110996   \n",
       "2000-01-02 06:01:23                                      0.077191   \n",
       "2000-01-02 06:01:53                                      0.050367   \n",
       "\n",
       "                    EEG C4-LER - EEG O1-LER__alpha__w=1m_s=30s  \\\n",
       "2000-01-01 21:28:23                                        NaN   \n",
       "2000-01-01 21:28:53                                   0.109785   \n",
       "2000-01-01 21:29:23                                    0.18713   \n",
       "2000-01-01 21:29:53                                   0.316914   \n",
       "2000-01-01 21:30:23                                    0.17418   \n",
       "...                                                        ...   \n",
       "2000-01-02 05:59:53                                   0.080932   \n",
       "2000-01-02 06:00:23                                   0.089835   \n",
       "2000-01-02 06:00:53                                    0.11289   \n",
       "2000-01-02 06:01:23                                   0.072359   \n",
       "2000-01-02 06:01:53                                   0.020928   \n",
       "\n",
       "                    EEG C4-LER - EEG O1-LER__alpha__w=30s_s=30s  \\\n",
       "2000-01-01 21:28:23                                    0.147711   \n",
       "2000-01-01 21:28:53                                    0.074727   \n",
       "2000-01-01 21:29:23                                    0.458264   \n",
       "2000-01-01 21:29:53                                    0.221476   \n",
       "2000-01-01 21:30:23                                    0.147383   \n",
       "...                                                         ...   \n",
       "2000-01-02 05:59:53                                    0.088443   \n",
       "2000-01-02 06:00:23                                    0.084587   \n",
       "2000-01-02 06:00:53                                    0.135875   \n",
       "2000-01-02 06:01:23                                    0.020969   \n",
       "2000-01-02 06:01:53                                     0.02435   \n",
       "\n",
       "                    EEG C4-LER - EEG O1-LER__beta__w=1m30s_s=30s  \\\n",
       "2000-01-01 21:28:23                                          NaN   \n",
       "2000-01-01 21:28:53                                          NaN   \n",
       "2000-01-01 21:29:23                                      0.05987   \n",
       "2000-01-01 21:29:53                                     0.065742   \n",
       "2000-01-01 21:30:23                                     0.068801   \n",
       "...                                                          ...   \n",
       "2000-01-02 05:59:53                                     0.019352   \n",
       "2000-01-02 06:00:23                                     0.022012   \n",
       "2000-01-02 06:00:53                                     0.045194   \n",
       "2000-01-02 06:01:23                                      0.11665   \n",
       "2000-01-02 06:01:53                                      0.11211   \n",
       "\n",
       "                    EEG C4-LER - EEG O1-LER__beta__w=1m_s=30s  \\\n",
       "2000-01-01 21:28:23                                       NaN   \n",
       "2000-01-01 21:28:53                                   0.05605   \n",
       "2000-01-01 21:29:23                                  0.057253   \n",
       "2000-01-01 21:29:53                                  0.065687   \n",
       "2000-01-01 21:30:23                                   0.06996   \n",
       "...                                                       ...   \n",
       "2000-01-02 05:59:53                                  0.019928   \n",
       "2000-01-02 06:00:23                                  0.028249   \n",
       "2000-01-02 06:00:53                                  0.099761   \n",
       "2000-01-02 06:01:23                                  0.146382   \n",
       "2000-01-02 06:01:53                                  0.065843   \n",
       "\n",
       "                    EEG C4-LER - EEG O1-LER__beta__w=30s_s=30s  \\\n",
       "2000-01-01 21:28:23                                   0.060797   \n",
       "2000-01-01 21:28:53                                    0.04344   \n",
       "2000-01-01 21:29:23                                    0.05073   \n",
       "2000-01-01 21:29:53                                   0.072345   \n",
       "2000-01-01 21:30:23                                   0.072987   \n",
       "...                                                        ...   \n",
       "2000-01-02 05:59:53                                   0.029542   \n",
       "2000-01-02 06:00:23                                   0.061087   \n",
       "2000-01-02 06:00:53                                   0.147312   \n",
       "2000-01-02 06:01:23                                    0.07232   \n",
       "2000-01-02 06:01:53                                   0.066542   \n",
       "\n",
       "                     EEG C4-LER - EEG O1-LER__binned_entropy_{'max_bins': 10}__w=1m30s_s=30s  \\\n",
       "2000-01-01 21:28:23                                                NaN                         \n",
       "2000-01-01 21:28:53                                                NaN                         \n",
       "2000-01-01 21:29:23                                           1.076488                         \n",
       "2000-01-01 21:29:53                                           1.055687                         \n",
       "2000-01-01 21:30:23                                           1.690932                         \n",
       "...                                                                ...                         \n",
       "2000-01-02 05:59:53                                           1.642027                         \n",
       "2000-01-02 06:00:23                                           0.507468                         \n",
       "2000-01-02 06:00:53                                           0.517686                         \n",
       "2000-01-02 06:01:23                                           0.710774                         \n",
       "2000-01-02 06:01:53                                           0.883048                         \n",
       "\n",
       "                     ...  \\\n",
       "2000-01-01 21:28:23  ...   \n",
       "2000-01-01 21:28:53  ...   \n",
       "2000-01-01 21:29:23  ...   \n",
       "2000-01-01 21:29:53  ...   \n",
       "2000-01-01 21:30:23  ...   \n",
       "...                  ...   \n",
       "2000-01-02 05:59:53  ...   \n",
       "2000-01-02 06:00:23  ...   \n",
       "2000-01-02 06:00:53  ...   \n",
       "2000-01-02 06:01:23  ...   \n",
       "2000-01-02 06:01:53  ...   \n",
       "\n",
       "                     EOG Left Horiz_EOG Right Horiz_[AVG]__skew__w=30s_s=30s  \\\n",
       "2000-01-01 21:28:23                                          -1.300548         \n",
       "2000-01-01 21:28:53                                          -0.236141         \n",
       "2000-01-01 21:29:23                                           0.119529         \n",
       "2000-01-01 21:29:53                                          -0.123054         \n",
       "2000-01-01 21:30:23                                           0.440301         \n",
       "...                                                                ...         \n",
       "2000-01-02 05:59:53                                          -0.057074         \n",
       "2000-01-02 06:00:23                                           0.278932         \n",
       "2000-01-02 06:00:53                                           0.861418         \n",
       "2000-01-02 06:01:23                                           0.614399         \n",
       "2000-01-02 06:01:53                                           0.280129         \n",
       "\n",
       "                     EOG Left Horiz_EOG Right Horiz_[AVG]__std__w=1m30s_s=30s  \\\n",
       "2000-01-01 21:28:23                                                NaN          \n",
       "2000-01-01 21:28:53                                                NaN          \n",
       "2000-01-01 21:29:23                                          14.119242          \n",
       "2000-01-01 21:29:53                                          13.155476          \n",
       "2000-01-01 21:30:23                                          10.440067          \n",
       "...                                                                ...          \n",
       "2000-01-02 05:59:53                                           6.756273          \n",
       "2000-01-02 06:00:23                                          61.811473          \n",
       "2000-01-02 06:00:53                                          67.744800          \n",
       "2000-01-02 06:01:23                                          80.366705          \n",
       "2000-01-02 06:01:53                                          72.457972          \n",
       "\n",
       "                     EOG Left Horiz_EOG Right Horiz_[AVG]__std__w=1m_s=30s  \\\n",
       "2000-01-01 21:28:23                                                NaN       \n",
       "2000-01-01 21:28:53                                          12.814378       \n",
       "2000-01-01 21:29:23                                          15.891333       \n",
       "2000-01-01 21:29:53                                          11.906914       \n",
       "2000-01-01 21:30:23                                           5.362053       \n",
       "...                                                                ...       \n",
       "2000-01-02 05:59:53                                           6.074860       \n",
       "2000-01-02 06:00:23                                          75.587059       \n",
       "2000-01-02 06:00:53                                          82.853550       \n",
       "2000-01-02 06:01:23                                          63.199168       \n",
       "2000-01-02 06:01:53                                          81.881639       \n",
       "\n",
       "                     EOG Left Horiz_EOG Right Horiz_[AVG]__std__w=30s_s=30s  \\\n",
       "2000-01-01 21:28:23                                           9.632114        \n",
       "2000-01-01 21:28:53                                          15.328005        \n",
       "2000-01-01 21:29:23                                          16.412610        \n",
       "2000-01-01 21:29:53                                           3.754816        \n",
       "2000-01-01 21:30:23                                           6.588197        \n",
       "...                                                                ...        \n",
       "2000-01-02 05:59:53                                           6.215825        \n",
       "2000-01-02 06:00:23                                         106.715272        \n",
       "2000-01-02 06:00:53                                          48.386638        \n",
       "2000-01-02 06:01:23                                          75.146153        \n",
       "2000-01-02 06:01:53                                          88.102048        \n",
       "\n",
       "                     EOG Left Horiz_EOG Right Horiz_[AVG]__theta__w=1m30s_s=30s  \\\n",
       "2000-01-01 21:28:23                                                NaN            \n",
       "2000-01-01 21:28:53                                                NaN            \n",
       "2000-01-01 21:29:23                                           0.063796            \n",
       "2000-01-01 21:29:53                                           0.076116            \n",
       "2000-01-01 21:30:23                                           0.089699            \n",
       "...                                                                ...            \n",
       "2000-01-02 05:59:53                                           0.139421            \n",
       "2000-01-02 06:00:23                                           0.136022            \n",
       "2000-01-02 06:00:53                                           0.070451            \n",
       "2000-01-02 06:01:23                                           0.085664            \n",
       "2000-01-02 06:01:53                                           0.054511            \n",
       "\n",
       "                     EOG Left Horiz_EOG Right Horiz_[AVG]__theta__w=1m_s=30s  \\\n",
       "2000-01-01 21:28:23                                                NaN         \n",
       "2000-01-01 21:28:53                                           0.073491         \n",
       "2000-01-01 21:29:23                                           0.051673         \n",
       "2000-01-01 21:29:53                                           0.075971         \n",
       "2000-01-01 21:30:23                                           0.107171         \n",
       "...                                                                ...         \n",
       "2000-01-02 05:59:53                                           0.152136         \n",
       "2000-01-02 06:00:23                                           0.134824         \n",
       "2000-01-02 06:00:53                                           0.057948         \n",
       "2000-01-02 06:01:23                                           0.092577         \n",
       "2000-01-02 06:01:53                                            0.04811         \n",
       "\n",
       "                     EOG Left Horiz_EOG Right Horiz_[AVG]__theta__w=30s_s=30s  \\\n",
       "2000-01-01 21:28:23                                           0.089987          \n",
       "2000-01-01 21:28:53                                           0.045014          \n",
       "2000-01-01 21:29:23                                           0.067629          \n",
       "2000-01-01 21:29:53                                           0.090717          \n",
       "2000-01-01 21:30:23                                           0.102644          \n",
       "...                                                                ...          \n",
       "2000-01-02 05:59:53                                           0.187128          \n",
       "2000-01-02 06:00:23                                           0.032963          \n",
       "2000-01-02 06:00:53                                           0.068542          \n",
       "2000-01-02 06:01:23                                           0.083237          \n",
       "2000-01-02 06:01:53                                           0.022119          \n",
       "\n",
       "                     EOG Left Horiz_EOG Right Horiz_[AVG]__wrapped_higuchi_fd__w=1m30s_s=30s  \\\n",
       "2000-01-01 21:28:23                                                NaN                         \n",
       "2000-01-01 21:28:53                                                NaN                         \n",
       "2000-01-01 21:29:23                                           1.513740                         \n",
       "2000-01-01 21:29:53                                           1.513196                         \n",
       "2000-01-01 21:30:23                                           1.547175                         \n",
       "...                                                                ...                         \n",
       "2000-01-02 05:59:53                                           1.410516                         \n",
       "2000-01-02 06:00:23                                           1.270499                         \n",
       "2000-01-02 06:00:53                                           1.297602                         \n",
       "2000-01-02 06:01:23                                           1.290983                         \n",
       "2000-01-02 06:01:53                                           1.305338                         \n",
       "\n",
       "                     EOG Left Horiz_EOG Right Horiz_[AVG]__wrapped_higuchi_fd__w=1m_s=30s  \\\n",
       "2000-01-01 21:28:23                                                NaN                      \n",
       "2000-01-01 21:28:53                                           1.537349                      \n",
       "2000-01-01 21:29:23                                           1.457032                      \n",
       "2000-01-01 21:29:53                                           1.553211                      \n",
       "2000-01-01 21:30:23                                           1.605256                      \n",
       "...                                                                ...                      \n",
       "2000-01-02 05:59:53                                           1.433275                      \n",
       "2000-01-02 06:00:23                                           1.259598                      \n",
       "2000-01-02 06:00:53                                           1.284611                      \n",
       "2000-01-02 06:01:23                                           1.331246                      \n",
       "2000-01-02 06:01:53                                           1.282856                      \n",
       "\n",
       "                     EOG Left Horiz_EOG Right Horiz_[AVG]__wrapped_higuchi_fd__w=30s_s=30s  \n",
       "2000-01-01 21:28:23                                           1.622883                      \n",
       "2000-01-01 21:28:53                                           1.450732                      \n",
       "2000-01-01 21:29:23                                           1.467876                      \n",
       "2000-01-01 21:29:53                                           1.676340                      \n",
       "2000-01-01 21:30:23                                           1.532670                      \n",
       "...                                                                ...                      \n",
       "2000-01-02 05:59:53                                           1.476446                      \n",
       "2000-01-02 06:00:23                                           1.234685                      \n",
       "2000-01-02 06:00:53                                           1.376458                      \n",
       "2000-01-02 06:01:23                                           1.304121                      \n",
       "2000-01-02 06:01:53                                           1.261031                      \n",
       "\n",
       "[1028 rows x 363 columns]"
      ]
     },
     "execution_count": 28,
     "metadata": {},
     "output_type": "execute_result"
    }
   ],
   "source": [
    "# %%time\n",
    "feats = feature_collection.calculate(data_processed, return_df=True, show_progress=True)\n",
    "feats"
   ]
  },
  {
   "cell_type": "markdown",
   "metadata": {
    "tags": []
   },
   "source": [
    "# Pipeline for all patients"
   ]
  },
  {
   "cell_type": "code",
   "execution_count": 39,
   "metadata": {
    "tags": []
   },
   "outputs": [
    {
     "data": {
      "application/vnd.jupyter.widget-view+json": {
       "model_id": "42c15702f3dc4a4b832a8ff48b5587eb",
       "version_major": 2,
       "version_minor": 0
      },
      "text/plain": [
       "0it [00:00, ?it/s]"
      ]
     },
     "metadata": {},
     "output_type": "display_data"
    }
   ],
   "source": [
    "from tqdm.auto import tqdm\n",
    "\n",
    "def slice_data(series_list, start):\n",
    "    return [s[s.index >= start] for s in series_list]\n",
    "\n",
    "df_feats = []\n",
    "for sub_folder, psg_file, hypnogram_file in tqdm(zip(df_files.subfolder, df_files.psg_file, df_files.label_file)):\n",
    "    file_folder = data_folder + sub_folder + \"/\"\n",
    "    # Load the annotations\n",
    "    annotations = load_annotations(file_folder + hypnogram_file, file_folder + psg_file)\n",
    "    annotations = annotation_to_30s_labels(annotations)\n",
    "    start_idx = annotations.index.values[0]\n",
    "    # Load the data, process the data and extract features\n",
    "    data = load_signals(file_folder + psg_file, retrieve_signals=common_signals)\n",
    "    data_processed = process_pipe.process(data, drop_keys=eeg_signals + eog_signals + emg_signals)\n",
    "    df_feat = feature_collection.calculate(\n",
    "        slice_data(data_processed, start_idx), return_df=True, window_idx=\"begin\"\n",
    "    ).astype(\"float32\")\n",
    "    # Add the labels (and reduce features to only data for which we have labels)\n",
    "    df_feat = pd.merge_asof(df_feat, annotations, left_index=True, right_index=True, tolerance=pd.Timedelta(0.05, unit=\"s\"), direction=\"nearest\")\n",
    "    # Add the file name & folder\n",
    "    df_feat[\"psg_file\"] = psg_file\n",
    "    df_feat[\"patient_id\"] = psg_file.split(\" \")[0]\n",
    "    # Collect the dataframes\n",
    "    df_feats += [df_feat]\n",
    "\n",
    "df_feats = pd.concat(df_feats)\n",
    "df_feats.rename(columns={\"description\": \"label\"}, inplace=True)"
   ]
  },
  {
   "cell_type": "code",
   "execution_count": 40,
   "metadata": {},
   "outputs": [],
   "source": [
    "df_feats.to_parquet(\"../features/mass_SS3_features_ALL__ext.parquet\")"
   ]
  },
  {
   "cell_type": "markdown",
   "metadata": {},
   "source": [
    "## Load data"
   ]
  },
  {
   "cell_type": "code",
   "execution_count": 29,
   "metadata": {},
   "outputs": [
    {
     "data": {
      "text/plain": [
       "(62767, 366)"
      ]
     },
     "execution_count": 29,
     "metadata": {},
     "output_type": "execute_result"
    }
   ],
   "source": [
    "df_feats = pd.read_parquet(\"../features/mass_SS3_features_ALL__ext.parquet\")\n",
    "df_feats.shape"
   ]
  },
  {
   "cell_type": "code",
   "execution_count": 30,
   "metadata": {},
   "outputs": [
    {
     "data": {
      "text/plain": [
       "Sleep stage 2    29802\n",
       "Sleep stage R    10581\n",
       "Sleep stage 3     7653\n",
       "Sleep stage W     6442\n",
       "Sleep stage 1     4839\n",
       "Sleep stage ?     3448\n",
       "Name: label, dtype: int64"
      ]
     },
     "execution_count": 30,
     "metadata": {},
     "output_type": "execute_result"
    }
   ],
   "source": [
    "df_feats[\"label\"].value_counts()"
   ]
  },
  {
   "cell_type": "code",
   "execution_count": 31,
   "metadata": {},
   "outputs": [
    {
     "data": {
      "text/plain": [
       "0"
      ]
     },
     "execution_count": 31,
     "metadata": {},
     "output_type": "execute_result"
    }
   ],
   "source": [
    "df_feats[~df_feats.psg_file.isin(df_files.psg_file.unique())].psg_file.nunique()"
   ]
  },
  {
   "cell_type": "code",
   "execution_count": 32,
   "metadata": {},
   "outputs": [
    {
     "name": "stdout",
     "output_type": "stream",
     "text": [
      "<class 'pandas.core.frame.DataFrame'>\n",
      "DatetimeIndex: 62767 entries, 2000-01-01 21:28:00.010000 to 2000-01-02 07:14:30.010000\n",
      "Columns: 366 entries, EEG C4-LER - EEG O1-LER__TotalAbsPow__w=1m30s_s=30s to patient_id\n",
      "dtypes: float32(363), object(3)\n",
      "memory usage: 88.8+ MB\n"
     ]
    }
   ],
   "source": [
    "df_feats.info()"
   ]
  },
  {
   "cell_type": "code",
   "execution_count": 33,
   "metadata": {
    "tags": []
   },
   "outputs": [
    {
     "data": {
      "text/plain": [
       "(62767, 396)"
      ]
     },
     "execution_count": 33,
     "metadata": {},
     "output_type": "execute_result"
    }
   ],
   "source": [
    "bands = [\"alpha\", \"beta\", \"sdelta\", \"fdelta\", \"sigma\", \"theta\"]\n",
    "for eeg_sig in eeg_cols:\n",
    "    eeg_bands = [c for c in df_feats.columns if c.startswith(eeg_sig) and c.split(\"__\")[1] in bands]\n",
    "    windows = sorted(set(b.split(\"__\")[-1] for b in eeg_bands))\n",
    "    for window in windows:\n",
    "        # Select the spectral powers\n",
    "        delta = df_feats[\"__\".join([eeg_sig, \"sdelta\", window])] + df_feats[\"__\".join([eeg_sig, \"fdelta\", window])]\n",
    "        fdelta_theta = df_feats[\"__\".join([eeg_sig, \"fdelta\", window])] + df_feats[\"__\".join([eeg_sig, \"theta\", window])]\n",
    "        alpha = df_feats[\"__\".join([eeg_sig, \"alpha\", window])]\n",
    "        beta = df_feats[\"__\".join([eeg_sig, \"beta\", window])]\n",
    "        theta = df_feats[\"__\".join([eeg_sig, \"theta\", window])]\n",
    "        sigma = df_feats[\"__\".join([eeg_sig, \"sigma\", window])]\n",
    "        # Calculate the ratios\n",
    "        df_feats[\"__\".join([eeg_sig, \"fdelta+theta\", window])] = fdelta_theta.astype(\"float32\")        \n",
    "\n",
    "        df_feats[\"__\".join([eeg_sig, \"alpha/theta\", window])] = (alpha / theta).astype(\"float32\")\n",
    "        df_feats[\"__\".join([eeg_sig, \"delta/beta\", window])] = (delta / beta).astype(\"float32\")\n",
    "        df_feats[\"__\".join([eeg_sig, \"delta/sigma\", window])] = (delta / sigma).astype(\"float32\")\n",
    "        df_feats[\"__\".join([eeg_sig, \"delta/theta\", window])] = (delta / theta).astype(\"float32\")\n",
    "df_feats.shape"
   ]
  },
  {
   "cell_type": "code",
   "execution_count": 34,
   "metadata": {},
   "outputs": [],
   "source": [
    "skip_cols = [\"psg_file\", \"label\", \"patient_id\"]\n",
    "feat_cols = [c for c in df_feats.columns if c not in skip_cols]"
   ]
  },
  {
   "cell_type": "code",
   "execution_count": 35,
   "metadata": {},
   "outputs": [
    {
     "name": "stdout",
     "output_type": "stream",
     "text": [
      "131 131 131\n"
     ]
    },
    {
     "data": {
      "text/plain": [
       "(62767, 1051)"
      ]
     },
     "execution_count": 35,
     "metadata": {},
     "output_type": "execute_result"
    }
   ],
   "source": [
    "# Add the 30s features from the minute before and the minute after the epoch (= current sample of 30s) to the epoch\n",
    "feats_30s = [f for f in df_feats.columns if \"w=30s\" in f]\n",
    "feats_60s = [f for f in df_feats.columns if \"w=1m_\" in f]\n",
    "feats_90s = [f for f in df_feats.columns if \"w=1m30s\" in f]\n",
    "print(len(feats_30s), len(feats_60s), len(feats_90s))\n",
    "dfs = []\n",
    "for psg_file in df_feats.psg_file.unique():\n",
    "    sub_df = df_feats[df_feats.psg_file == psg_file]\n",
    "\n",
    "    sub_df = sub_df.merge(\n",
    "        sub_df[feats_90s].shift(1).add_suffix(\"_shift=30s\"),\n",
    "        left_index=True,\n",
    "        right_index=True,\n",
    "    )\n",
    "    sub_df = sub_df.drop(columns=feats_90s)\n",
    "\n",
    "    sub_df = sub_df.merge(\n",
    "        sub_df[feats_60s].shift(1).add_suffix(\"_shift=30s\"),\n",
    "        left_index=True,\n",
    "        right_index=True,\n",
    "    )\n",
    "\n",
    "    sub_df = sub_df.merge(\n",
    "        sub_df[feats_30s].shift(2).add_suffix(\"_shift=1m\"),\n",
    "        left_index=True,\n",
    "        right_index=True,\n",
    "    )\n",
    "    sub_df = sub_df.merge(\n",
    "        sub_df[feats_30s].shift(1).add_suffix(\"_shift=30s\"),\n",
    "        left_index=True,\n",
    "        right_index=True,\n",
    "    )\n",
    "    sub_df = sub_df.merge(\n",
    "        sub_df[feats_30s].shift(-1).add_suffix(\"_shift=-30s\"),\n",
    "        left_index=True,\n",
    "        right_index=True,\n",
    "    )\n",
    "    sub_df = sub_df.merge(\n",
    "        sub_df[feats_30s].shift(-2).add_suffix(\"_shift=-1m\"),\n",
    "        left_index=True,\n",
    "        right_index=True,\n",
    "    )\n",
    "\n",
    "    # sub_df = sub_df.merge(sub_df[feats_2m].shift(8).add_suffix(\"_shift=4m\"), left_index=True, right_index=True)\n",
    "    # sub_df = sub_df.merge(sub_df[feats_1m].shift(4).add_suffix(\"_shift=2m\"), left_index=True, right_index=True)\n",
    "    # sub_df = sub_df.merge(sub_df[feats_30s].shift(2).add_suffix(\"_shift=1m\"), left_index=True, right_index=True)\n",
    "    # sub_df = sub_df.merge(sub_df[feats_30s].shift(1).add_suffix(\"_shift=30s\"), left_index=True, right_index=True)\n",
    "    # sub_df = sub_df.merge(sub_df[feats_30s].shift(-1).add_suffix(\"_shift=-30s\"), left_index=True, right_index=True)\n",
    "    # sub_df = sub_df.merge(sub_df[feats_30s].shift(-2).add_suffix(\"_shift=-1m\"), left_index=True, right_index=True)\n",
    "    # sub_df = sub_df.merge(sub_df[feats_1m].shift(-4).add_suffix(\"_shift=-2m\"), left_index=True, right_index=True)\n",
    "    # sub_df = sub_df.merge(sub_df[feats_2m].shift(-8).add_suffix(\"_shift=-4m\"), left_index=True, right_index=True)\n",
    "    dfs += [sub_df]\n",
    "df_feats = pd.concat(dfs)\n",
    "df_feats.shape"
   ]
  },
  {
   "cell_type": "code",
   "execution_count": 36,
   "metadata": {},
   "outputs": [
    {
     "name": "stdout",
     "output_type": "stream",
     "text": [
      "<class 'pandas.core.frame.DataFrame'>\n",
      "DatetimeIndex: 62767 entries, 2000-01-01 21:28:00.010000 to 2000-01-02 07:14:30.010000\n",
      "Columns: 1051 entries, EEG C4-LER - EEG O1-LER__TotalAbsPow__w=1m_s=30s to EEG F4-LER - EOG Left Horiz__delta/theta__w=30s_s=30s_shift=-1m\n",
      "dtypes: float32(1048), object(3)\n",
      "memory usage: 252.8+ MB\n"
     ]
    }
   ],
   "source": [
    "df_feats.info()"
   ]
  },
  {
   "cell_type": "code",
   "execution_count": 37,
   "metadata": {},
   "outputs": [],
   "source": [
    "# Postprocess labels\n",
    "df_feats.loc[df_feats[\"label\"] == \"Sleep stage 4\", \"label\"] = \"Sleep stage 3\"\n",
    "df_feats.loc[df_feats[\"label\"] == \"Movement time\", \"label\"] = \"Sleep stage W\"\n",
    "df_feats = df_feats[df_feats[\"label\"] != \"Sleep stage ?\"]  # Label that is given when recording is done / end of the night\n",
    "\n",
    "df_feats = df_feats[~df_feats[\"label\"].isna()]"
   ]
  },
  {
   "cell_type": "code",
   "execution_count": 38,
   "metadata": {},
   "outputs": [
    {
     "data": {
      "text/plain": [
       "(59317, 1051)"
      ]
     },
     "execution_count": 38,
     "metadata": {},
     "output_type": "execute_result"
    }
   ],
   "source": [
    "df_feats.shape"
   ]
  },
  {
   "cell_type": "markdown",
   "metadata": {
    "tags": []
   },
   "source": [
    "## EDA on labels"
   ]
  },
  {
   "cell_type": "code",
   "execution_count": 39,
   "metadata": {},
   "outputs": [
    {
     "data": {
      "text/plain": [
       "<AxesSubplot:>"
      ]
     },
     "execution_count": 39,
     "metadata": {},
     "output_type": "execute_result"
    },
    {
     "data": {
      "image/png": "[encoded data removed]",
      "text/plain": [
       "<Figure size 432x288 with 1 Axes>"
      ]
     },
     "metadata": {
      "needs_background": "light"
     },
     "output_type": "display_data"
    }
   ],
   "source": [
    "df_feats[\"label\"].value_counts().plot(kind=\"bar\")"
   ]
  },
  {
   "cell_type": "code",
   "execution_count": 40,
   "metadata": {},
   "outputs": [
    {
     "data": {
      "text/plain": [
       "Sleep stage 2    29802\n",
       "Sleep stage R    10581\n",
       "Sleep stage 3     7653\n",
       "Sleep stage W     6442\n",
       "Sleep stage 1     4839\n",
       "Name: label, dtype: int64"
      ]
     },
     "execution_count": 40,
     "metadata": {},
     "output_type": "execute_result"
    }
   ],
   "source": [
    "df_feats[\"label\"].value_counts()"
   ]
  },
  {
   "cell_type": "markdown",
   "metadata": {},
   "source": [
    "=> There is quite some label imbalance"
   ]
  },
  {
   "cell_type": "markdown",
   "metadata": {},
   "source": [
    "## EDA on features"
   ]
  },
  {
   "cell_type": "code",
   "execution_count": 41,
   "metadata": {},
   "outputs": [],
   "source": [
    "skip_cols = [\"psg_file\", \"label\", \"patient_id\"]\n",
    "feat_cols = [c for c in df_feats.columns if c not in skip_cols]"
   ]
  },
  {
   "cell_type": "code",
   "execution_count": 42,
   "metadata": {
    "tags": []
   },
   "outputs": [],
   "source": [
    "import math\n",
    "\n",
    "import matplotlib.pyplot as plt\n",
    "\n",
    "plot_cols = [c for c in feat_cols if not \"_shift=\" in c]\n",
    "\n",
    "# n_cols = 10\n",
    "# n_rows = math.ceil(len(plot_cols) / n_cols)\n",
    "# plt.figure(figsize=(n_cols * 4.5, n_rows * 4.5))\n",
    "\n",
    "# for idx, col in enumerate(plot_cols):\n",
    "#     plt.subplot(n_rows, n_cols, idx + 1)\n",
    "#     plt.boxplot(df_feats[col].dropna(), vert=True)\n",
    "#     plt.xlabel(col)\n",
    "\n",
    "# plt.tight_layout()\n",
    "# plt.show()"
   ]
  },
  {
   "cell_type": "markdown",
   "metadata": {
    "tags": []
   },
   "source": [
    "# ML"
   ]
  },
  {
   "cell_type": "code",
   "execution_count": 43,
   "metadata": {},
   "outputs": [],
   "source": [
    "from sklearn.impute import SimpleImputer\n",
    "from sklearn.metrics import (\n",
    "    accuracy_score,\n",
    "    balanced_accuracy_score,\n",
    "    classification_report,\n",
    "    f1_score,\n",
    "    cohen_kappa_score,\n",
    "    log_loss,\n",
    ")\n",
    "from sklearn.model_selection import GroupKFold, StratifiedGroupKFold, cross_validate\n",
    "from sklearn.pipeline import Pipeline\n",
    "from sklearn.preprocessing import QuantileTransformer\n",
    "\n",
    "from sklearn.linear_model import SGDClassifier\n",
    "from sklearn.feature_selection import SelectFpr, chi2"
   ]
  },
  {
   "cell_type": "code",
   "execution_count": 44,
   "metadata": {},
   "outputs": [],
   "source": [
    "from ml_tools.visualizations.models_linear import plot_linear_classification_coefs\n",
    "from ml_tools.visualizations.models import plot_learning_curve\n",
    "from ml_tools.visualizations.evaluation import plot_confusion_matrix"
   ]
  },
  {
   "cell_type": "markdown",
   "metadata": {
    "tags": []
   },
   "source": [
    "## The simple, linear pipeline"
   ]
  },
  {
   "cell_type": "code",
   "execution_count": 45,
   "metadata": {
    "tags": []
   },
   "outputs": [],
   "source": [
    "### Create pipeline\n",
    "pipe = Pipeline(\n",
    "    [\n",
    "        (\"impute\", SimpleImputer()),\n",
    "        (\"scale\", QuantileTransformer()),\n",
    "        (\"selector\", SelectFpr(chi2, alpha=1e-5)),\n",
    "        (\n",
    "            \"linear_model\",\n",
    "            SGDClassifier(\n",
    "                loss=\"log\",\n",
    "                average=True,\n",
    "                class_weight=\"balanced\",\n",
    "                n_jobs=5,\n",
    "                random_state=0,\n",
    "            ),\n",
    "        ),\n",
    "    ]\n",
    ")"
   ]
  },
  {
   "cell_type": "markdown",
   "metadata": {
    "tags": []
   },
   "source": [
    "### Grouped 10-fold results for all the data"
   ]
  },
  {
   "cell_type": "code",
   "execution_count": 66,
   "metadata": {
    "tags": []
   },
   "outputs": [],
   "source": [
    "# Total of 10 folds\n",
    "gkfold = StratifiedGroupKFold(n_splits=10)\n",
    "cv = gkfold.split(df_feats, df_feats[\"label\"], groups=df_feats.psg_file)\n",
    "\n",
    "res = cross_validate(\n",
    "    pipe,\n",
    "    df_feats[feat_cols],\n",
    "    df_feats[\"label\"],\n",
    "    scoring=[\"f1_macro\", \"balanced_accuracy\", \"accuracy\", \"neg_log_loss\"],\n",
    "    cv=cv,\n",
    "    n_jobs=30,\n",
    "    return_train_score=True,\n",
    "    return_estimator=True,\n",
    ")"
   ]
  },
  {
   "cell_type": "code",
   "execution_count": 67,
   "metadata": {},
   "outputs": [
    {
     "name": "stdout",
     "output_type": "stream",
     "text": [
      "20-FOLD: TRAIN\n",
      "  MACRO F1:           0.8297\n",
      "  Balanced accuracy:  0.839\n",
      "  Accuracy:           0.8709\n",
      "  Log loss:           0.5593\n"
     ]
    }
   ],
   "source": [
    "print(\"20-FOLD: TRAIN\")\n",
    "print(\"  MACRO F1:          \", round(np.mean(res[\"train_f1_macro\"]), 4))\n",
    "print(\"  Balanced accuracy: \", round(np.mean(res[\"train_balanced_accuracy\"]), 4))\n",
    "print(\"  Accuracy:          \", round(np.mean(res[\"train_accuracy\"]), 4))\n",
    "print(\"  Log loss:          \", round(np.mean(-1 * res[\"train_neg_log_loss\"]), 4))"
   ]
  },
  {
   "cell_type": "code",
   "execution_count": 68,
   "metadata": {
    "tags": []
   },
   "outputs": [
    {
     "name": "stdout",
     "output_type": "stream",
     "text": [
      "20-FOLD: TEST\n",
      "  MACRO F1:           0.805\n",
      "  Balanced accuracy:  0.8148\n",
      "  Accuracy:           0.8526\n",
      "  Log loss:           0.7055\n"
     ]
    }
   ],
   "source": [
    "print(\"20-FOLD: TEST\")\n",
    "print(\"  MACRO F1:          \", round(np.mean(res[\"test_f1_macro\"]), 4))\n",
    "print(\"  Balanced accuracy: \", round(np.mean(res[\"test_balanced_accuracy\"]), 4))\n",
    "print(\"  Accuracy:          \", round(np.mean(res[\"test_accuracy\"]), 4))\n",
    "print(\"  Log loss:          \", round(np.mean(-1 * res[\"test_neg_log_loss\"]), 4))\n"
   ]
  },
  {
   "cell_type": "code",
   "execution_count": 69,
   "metadata": {
    "tags": []
   },
   "outputs": [],
   "source": [
    "preds = []\n",
    "preds_proba = []\n",
    "y_trues = []\n",
    "selected_feats = []\n",
    "cv = gkfold.split(df_feats, df_feats[\"label\"], groups=df_feats.patient_id)\n",
    "for fold_ix, (train_idx, test_idx) in enumerate(cv):\n",
    "    X_train = df_feats[feat_cols].iloc[train_idx]\n",
    "    y_train = df_feats[\"label\"].iloc[train_idx]\n",
    "    X_test = df_feats[feat_cols].iloc[test_idx]\n",
    "    y_test = df_feats[\"label\"].iloc[test_idx]\n",
    "    \n",
    "    estimator = res[\"estimator\"][fold_ix]\n",
    "    preds += [estimator.predict(X_test)]\n",
    "    preds_proba += [estimator.predict_proba(X_test)]\n",
    "    y_trues += [y_test]\n",
    "    selected_feats += [np.array(feat_cols)[estimator[\"selector\"].get_support()]]\n",
    "\n",
    "preds = np.hstack(preds)\n",
    "y_trues = np.hstack(y_trues)\n",
    "preds_proba = np.vstack(preds_proba)"
   ]
  },
  {
   "cell_type": "code",
   "execution_count": 70,
   "metadata": {},
   "outputs": [
    {
     "name": "stdout",
     "output_type": "stream",
     "text": [
      "1048 features in total\n",
      "fold 0  1037 features selected\n",
      "fold 1  1042 features selected\n",
      "fold 2  1036 features selected\n",
      "fold 3  1036 features selected\n",
      "fold 4  1040 features selected\n",
      "fold 5  1036 features selected\n",
      "fold 6  1038 features selected\n",
      "fold 7  1040 features selected\n",
      "fold 8  1040 features selected\n",
      "fold 9  1036 features selected\n",
      "\n",
      "1030 features in intersection\n",
      "1044 features in union\n"
     ]
    },
    {
     "data": {
      "text/plain": [
       "Text(0.5, 0, 'times selected')"
      ]
     },
     "execution_count": 70,
     "metadata": {},
     "output_type": "execute_result"
    },
    {
     "data": {
      "image/png": "[encoded data removed]",
      "text/plain": [
       "<Figure size 1008x360 with 1 Axes>"
      ]
     },
     "metadata": {
      "needs_background": "light"
     },
     "output_type": "display_data"
    }
   ],
   "source": [
    "print(f\"{len(feat_cols)} features in total\")\n",
    "\n",
    "selection_df = pd.DataFrame(data=set.union(*map(set, selected_feats)), columns=[\"feature\"])\n",
    "selection_df[\"times_selected\"] = 0\n",
    "\n",
    "for fold, feats in enumerate(selected_feats):\n",
    "    print(f\"fold {fold}  {len(feats)} features selected\")\n",
    "    selection_df.loc[selection_df.feature.isin(feats), \"times_selected\"] += 1\n",
    "\n",
    "print()\n",
    "print(f\"{len(set.intersection(*map(set, selected_feats)))} features in intersection\")\n",
    "print(f\"{len(set.union(*map(set, selected_feats)))} features in union\")\n",
    "\n",
    "ax = selection_df[\"times_selected\"].plot(kind=\"hist\", bins=10, figsize=(14,5))\n",
    "plt.xlabel(\"times selected\")"
   ]
  },
  {
   "cell_type": "code",
   "execution_count": 71,
   "metadata": {},
   "outputs": [
    {
     "name": "stdout",
     "output_type": "stream",
     "text": [
      "F1: 0.8070610006097982\n",
      "ACC: 0.8528583711246355\n",
      "KAPPA: 0.786015298848654\n",
      "LOG LOSS: 0.7060437119380829\n"
     ]
    }
   ],
   "source": [
    "print(\"F1:\", f1_score(preds, y_trues, average=\"macro\"))\n",
    "print(\"ACC:\", accuracy_score(preds, y_trues))\n",
    "print(\"KAPPA:\", cohen_kappa_score(preds, y_trues))\n",
    "print(\"LOG LOSS:\", log_loss(y_trues, preds_proba))"
   ]
  },
  {
   "cell_type": "code",
   "execution_count": 72,
   "metadata": {
    "tags": []
   },
   "outputs": [
    {
     "name": "stdout",
     "output_type": "stream",
     "text": [
      "               precision    recall  f1-score   support\n",
      "\n",
      "Sleep stage 1       0.55      0.56      0.56      4752\n",
      "Sleep stage 2       0.88      0.91      0.89     28672\n",
      "Sleep stage 3       0.89      0.80      0.84      8488\n",
      "Sleep stage R       0.87      0.86      0.87     10758\n",
      "Sleep stage W       0.89      0.86      0.87      6647\n",
      "\n",
      "     accuracy                           0.85     59317\n",
      "    macro avg       0.82      0.80      0.81     59317\n",
      " weighted avg       0.85      0.85      0.85     59317\n",
      "\n"
     ]
    }
   ],
   "source": [
    "print(classification_report(preds, y_trues))"
   ]
  },
  {
   "cell_type": "code",
   "execution_count": null,
   "metadata": {},
   "outputs": [],
   "source": []
  },
  {
   "cell_type": "code",
   "execution_count": 73,
   "metadata": {},
   "outputs": [
    {
     "data": {
      "text/plain": [
       "<AxesSubplot:title={'center':'Normalized confusion matrix'}, xlabel='Predicted label', ylabel='True label'>"
      ]
     },
     "execution_count": 73,
     "metadata": {},
     "output_type": "execute_result"
    },
    {
     "data": {
      "image/png": "[encoded data removed]",
      "text/plain": [
       "<Figure size 1800x864 with 4 Axes>"
      ]
     },
     "metadata": {
      "needs_background": "light"
     },
     "output_type": "display_data"
    }
   ],
   "source": [
    "classes = [\n",
    "    'Sleep stage W',\n",
    "    'Sleep stage 1',\n",
    "    'Sleep stage 2',\n",
    "    'Sleep stage 3',\n",
    "    'Sleep stage R'\n",
    "]\n",
    "\n",
    "plt.figure(figsize=(25,12))\n",
    "ax = plt.subplot(1,2,1)\n",
    "plot_confusion_matrix(y_pred=preds, y_true=y_trues, classes=classes, normalize=False, ax=ax)\n",
    "ax = plt.subplot(1,2,2)\n",
    "plot_confusion_matrix(y_pred=preds, y_true=y_trues, classes=classes, normalize=True, ax=ax)"
   ]
  },
  {
   "cell_type": "code",
   "execution_count": null,
   "metadata": {},
   "outputs": [],
   "source": []
  },
  {
   "cell_type": "code",
   "execution_count": 74,
   "metadata": {},
   "outputs": [
    {
     "data": {
      "image/png": "[encoded data removed]",
      "text/plain": [
       "<Figure size 1440x720 with 1 Axes>"
      ]
     },
     "metadata": {
      "needs_background": "light"
     },
     "output_type": "display_data"
    }
   ],
   "source": [
    "cv = gkfold.split(df_feats, df_feats[\"label\"], groups=df_feats.psg_file)\n",
    "_ = plot_learning_curve(\n",
    "    pipe,\n",
    "    title=\"Learning curve - F1 Macro\",\n",
    "    X=df_feats[feat_cols],\n",
    "    y=df_feats[\"label\"],\n",
    "    cv=cv,\n",
    "    scoring=\"f1_macro\",\n",
    "    n_jobs=20,\n",
    "    train_sizes=[0.05] + list(np.linspace(0.1,1,10))\n",
    ")\n"
   ]
  },
  {
   "cell_type": "markdown",
   "metadata": {
    "tags": []
   },
   "source": [
    "### Grouped X-fold results for all the data"
   ]
  },
  {
   "cell_type": "code",
   "execution_count": 76,
   "metadata": {
    "tags": []
   },
   "outputs": [],
   "source": [
    "# Total of 31 folds\n",
    "gkfold = StratifiedGroupKFold(n_splits=31)\n",
    "cv = gkfold.split(df_feats, df_feats[\"label\"], groups=df_feats.psg_file)\n",
    "\n",
    "res = cross_validate(\n",
    "    pipe,\n",
    "    df_feats[feat_cols],\n",
    "    df_feats[\"label\"],\n",
    "    scoring=[\"f1_macro\", \"balanced_accuracy\", \"accuracy\", \"neg_log_loss\"],\n",
    "    cv=cv,\n",
    "    n_jobs=30,\n",
    "    return_train_score=True,\n",
    "    return_estimator=True,\n",
    ")"
   ]
  },
  {
   "cell_type": "code",
   "execution_count": 77,
   "metadata": {},
   "outputs": [
    {
     "name": "stdout",
     "output_type": "stream",
     "text": [
      "31-FOLD: TRAIN\n",
      "  MACRO F1:           0.8288\n",
      "  Balanced accuracy:  0.8388\n",
      "  Accuracy:           0.87\n",
      "  Log loss:           0.5419\n"
     ]
    }
   ],
   "source": [
    "print(\"31-FOLD: TRAIN\")\n",
    "print(\"  MACRO F1:          \", round(np.mean(res[\"train_f1_macro\"]), 4))\n",
    "print(\"  Balanced accuracy: \", round(np.mean(res[\"train_balanced_accuracy\"]), 4))\n",
    "print(\"  Accuracy:          \", round(np.mean(res[\"train_accuracy\"]), 4))\n",
    "print(\"  Log loss:          \", round(np.mean(-1 * res[\"train_neg_log_loss\"]), 4))"
   ]
  },
  {
   "cell_type": "code",
   "execution_count": 78,
   "metadata": {
    "tags": []
   },
   "outputs": [
    {
     "name": "stdout",
     "output_type": "stream",
     "text": [
      "31-FOLD: TEST\n",
      "  MACRO F1:           0.7986\n",
      "  Balanced accuracy:  0.8113\n",
      "  Accuracy:           0.852\n",
      "  Log loss:           0.6748\n"
     ]
    }
   ],
   "source": [
    "print(\"31-FOLD: TEST\")\n",
    "print(\"  MACRO F1:          \", round(np.mean(res[\"test_f1_macro\"]), 4))\n",
    "print(\"  Balanced accuracy: \", round(np.mean(res[\"test_balanced_accuracy\"]), 4))\n",
    "print(\"  Accuracy:          \", round(np.mean(res[\"test_accuracy\"]), 4))\n",
    "print(\"  Log loss:          \", round(np.mean(-1 * res[\"test_neg_log_loss\"]), 4))\n"
   ]
  },
  {
   "cell_type": "code",
   "execution_count": 79,
   "metadata": {},
   "outputs": [],
   "source": [
    "preds = []\n",
    "preds_proba = []\n",
    "y_trues = []\n",
    "selected_feats = []\n",
    "cv = gkfold.split(df_feats, df_feats[\"label\"], groups=df_feats.patient_id)\n",
    "for fold_ix, (train_idx, test_idx) in enumerate(cv):\n",
    "    X_train = df_feats[feat_cols].iloc[train_idx]\n",
    "    y_train = df_feats[\"label\"].iloc[train_idx]\n",
    "    X_test = df_feats[feat_cols].iloc[test_idx]\n",
    "    y_test = df_feats[\"label\"].iloc[test_idx]\n",
    "    \n",
    "    estimator = res[\"estimator\"][fold_ix]\n",
    "    preds += [estimator.predict(X_test)]\n",
    "    preds_proba += [estimator.predict_proba(X_test)]\n",
    "    y_trues += [y_test]\n",
    "    selected_feats += [np.array(feat_cols)[estimator[\"selector\"].get_support()]]\n",
    "\n",
    "preds = np.hstack(preds)\n",
    "y_trues = np.hstack(y_trues)\n",
    "preds_proba = np.vstack(preds_proba)"
   ]
  },
  {
   "cell_type": "code",
   "execution_count": 80,
   "metadata": {},
   "outputs": [
    {
     "name": "stdout",
     "output_type": "stream",
     "text": [
      "1048 features in total\n",
      "fold 0  1042 features selected\n",
      "fold 1  1041 features selected\n",
      "fold 2  1039 features selected\n",
      "fold 3  1040 features selected\n",
      "fold 4  1040 features selected\n",
      "fold 5  1040 features selected\n",
      "fold 6  1038 features selected\n",
      "fold 7  1042 features selected\n",
      "fold 8  1040 features selected\n",
      "fold 9  1041 features selected\n",
      "fold 10  1040 features selected\n",
      "fold 11  1040 features selected\n",
      "fold 12  1040 features selected\n",
      "fold 13  1039 features selected\n",
      "fold 14  1041 features selected\n",
      "fold 15  1038 features selected\n",
      "fold 16  1039 features selected\n",
      "fold 17  1040 features selected\n",
      "fold 18  1040 features selected\n",
      "fold 19  1042 features selected\n",
      "fold 20  1038 features selected\n",
      "fold 21  1041 features selected\n",
      "fold 22  1040 features selected\n",
      "fold 23  1041 features selected\n",
      "fold 24  1040 features selected\n",
      "fold 25  1040 features selected\n",
      "fold 26  1040 features selected\n",
      "fold 27  1040 features selected\n",
      "fold 28  1042 features selected\n",
      "fold 29  1038 features selected\n",
      "fold 30  1042 features selected\n",
      "\n",
      "1035 features in intersection\n",
      "1044 features in union\n"
     ]
    },
    {
     "data": {
      "text/plain": [
       "Text(0.5, 0, 'times selected')"
      ]
     },
     "execution_count": 80,
     "metadata": {},
     "output_type": "execute_result"
    },
    {
     "data": {
      "image/png": "[encoded data removed]",
      "text/plain": [
       "<Figure size 1008x360 with 1 Axes>"
      ]
     },
     "metadata": {
      "needs_background": "light"
     },
     "output_type": "display_data"
    }
   ],
   "source": [
    "print(f\"{len(feat_cols)} features in total\")\n",
    "\n",
    "selection_df = pd.DataFrame(data=set.union(*map(set, selected_feats)), columns=[\"feature\"])\n",
    "selection_df[\"times_selected\"] = 0\n",
    "\n",
    "for fold, feats in enumerate(selected_feats):\n",
    "    print(f\"fold {fold}  {len(feats)} features selected\")\n",
    "    selection_df.loc[selection_df.feature.isin(feats), \"times_selected\"] += 1\n",
    "\n",
    "print()\n",
    "print(f\"{len(set.intersection(*map(set, selected_feats)))} features in intersection\")\n",
    "print(f\"{len(set.union(*map(set, selected_feats)))} features in union\")\n",
    "\n",
    "ax = selection_df[\"times_selected\"].plot(kind=\"hist\", bins=10, figsize=(14,5))\n",
    "plt.xlabel(\"times selected\")"
   ]
  },
  {
   "cell_type": "code",
   "execution_count": 81,
   "metadata": {},
   "outputs": [
    {
     "name": "stdout",
     "output_type": "stream",
     "text": [
      "F1: 0.8050562573857263\n",
      "ACC: 0.8520154424532596\n",
      "KAPPA: 0.7850481869399213\n",
      "LOG LOSS: 0.675304386974348\n"
     ]
    }
   ],
   "source": [
    "print(\"F1:\", f1_score(preds, y_trues, average=\"macro\"))\n",
    "print(\"ACC:\", accuracy_score(preds, y_trues))\n",
    "print(\"KAPPA:\", cohen_kappa_score(preds, y_trues))\n",
    "print(\"LOG LOSS:\", log_loss(y_trues, preds_proba))"
   ]
  },
  {
   "cell_type": "code",
   "execution_count": 82,
   "metadata": {},
   "outputs": [
    {
     "name": "stdout",
     "output_type": "stream",
     "text": [
      "               precision    recall  f1-score   support\n",
      "\n",
      "Sleep stage 1       0.55      0.55      0.55      4829\n",
      "Sleep stage 2       0.88      0.92      0.90     28534\n",
      "Sleep stage 3       0.88      0.80      0.84      8413\n",
      "Sleep stage R       0.88      0.85      0.87     10885\n",
      "Sleep stage W       0.89      0.86      0.87      6656\n",
      "\n",
      "     accuracy                           0.85     59317\n",
      "    macro avg       0.81      0.80      0.81     59317\n",
      " weighted avg       0.85      0.85      0.85     59317\n",
      "\n"
     ]
    }
   ],
   "source": [
    "print(classification_report(np.hstack(preds), np.hstack(y_trues)))"
   ]
  },
  {
   "cell_type": "code",
   "execution_count": 83,
   "metadata": {},
   "outputs": [
    {
     "data": {
      "text/plain": [
       "<AxesSubplot:title={'center':'Normalized confusion matrix'}, xlabel='Predicted label', ylabel='True label'>"
      ]
     },
     "execution_count": 83,
     "metadata": {},
     "output_type": "execute_result"
    },
    {
     "data": {
      "image/png": "[encoded data removed]",
      "text/plain": [
       "<Figure size 1800x864 with 4 Axes>"
      ]
     },
     "metadata": {
      "needs_background": "light"
     },
     "output_type": "display_data"
    }
   ],
   "source": [
    "classes = [\n",
    "    'Sleep stage W',\n",
    "    'Sleep stage 1',\n",
    "    'Sleep stage 2',\n",
    "    'Sleep stage 3',\n",
    "    'Sleep stage R'\n",
    "]\n",
    "\n",
    "plt.figure(figsize=(25,12))\n",
    "ax = plt.subplot(1,2,1)\n",
    "plot_confusion_matrix(y_pred=preds, y_true=y_trues, classes=classes, normalize=False, ax=ax)\n",
    "ax = plt.subplot(1,2,2)\n",
    "plot_confusion_matrix(y_pred=preds, y_true=y_trues, classes=classes, normalize=True, ax=ax)"
   ]
  },
  {
   "cell_type": "code",
   "execution_count": null,
   "metadata": {},
   "outputs": [],
   "source": []
  },
  {
   "cell_type": "code",
   "execution_count": 84,
   "metadata": {},
   "outputs": [
    {
     "ename": "KeyboardInterrupt",
     "evalue": "",
     "output_type": "error",
     "traceback": [
      "\u001b[0;31m---------------------------------------------------------------------------\u001b[0m",
      "\u001b[0;31mKeyboardInterrupt\u001b[0m                         Traceback (most recent call last)",
      "\u001b[0;32m/tmp/ipykernel_1285/2558215611.py\u001b[0m in \u001b[0;36m<module>\u001b[0;34m\u001b[0m\n\u001b[1;32m      8\u001b[0m     \u001b[0mscoring\u001b[0m\u001b[0;34m=\u001b[0m\u001b[0;34m\"f1_macro\"\u001b[0m\u001b[0;34m,\u001b[0m\u001b[0;34m\u001b[0m\u001b[0;34m\u001b[0m\u001b[0m\n\u001b[1;32m      9\u001b[0m     \u001b[0mn_jobs\u001b[0m\u001b[0;34m=\u001b[0m\u001b[0;36m20\u001b[0m\u001b[0;34m,\u001b[0m\u001b[0;34m\u001b[0m\u001b[0;34m\u001b[0m\u001b[0m\n\u001b[0;32m---> 10\u001b[0;31m     \u001b[0mtrain_sizes\u001b[0m\u001b[0;34m=\u001b[0m\u001b[0;34m[\u001b[0m\u001b[0;36m0.05\u001b[0m\u001b[0;34m]\u001b[0m \u001b[0;34m+\u001b[0m \u001b[0mlist\u001b[0m\u001b[0;34m(\u001b[0m\u001b[0mnp\u001b[0m\u001b[0;34m.\u001b[0m\u001b[0mlinspace\u001b[0m\u001b[0;34m(\u001b[0m\u001b[0;36m0.1\u001b[0m\u001b[0;34m,\u001b[0m\u001b[0;36m1\u001b[0m\u001b[0;34m,\u001b[0m\u001b[0;36m10\u001b[0m\u001b[0;34m)\u001b[0m\u001b[0;34m)\u001b[0m\u001b[0;34m\u001b[0m\u001b[0;34m\u001b[0m\u001b[0m\n\u001b[0m\u001b[1;32m     11\u001b[0m )\n",
      "\u001b[0;32m~/jeroen/git/ML_tools/src/ml_tools/visualizations/models.py\u001b[0m in \u001b[0;36mplot_learning_curve\u001b[0;34m(estimator, title, X, y, ylim, cv, n_jobs, train_sizes, scoring, **kwargs)\u001b[0m\n\u001b[1;32m    426\u001b[0m         \u001b[0mtrain_sizes\u001b[0m\u001b[0;34m=\u001b[0m\u001b[0mtrain_sizes\u001b[0m\u001b[0;34m,\u001b[0m\u001b[0;34m\u001b[0m\u001b[0;34m\u001b[0m\u001b[0m\n\u001b[1;32m    427\u001b[0m         \u001b[0mscoring\u001b[0m\u001b[0;34m=\u001b[0m\u001b[0mscoring\u001b[0m\u001b[0;34m,\u001b[0m\u001b[0;34m\u001b[0m\u001b[0;34m\u001b[0m\u001b[0m\n\u001b[0;32m--> 428\u001b[0;31m         \u001b[0;34m**\u001b[0m\u001b[0mkwargs\u001b[0m\u001b[0;34m,\u001b[0m\u001b[0;34m\u001b[0m\u001b[0;34m\u001b[0m\u001b[0m\n\u001b[0m\u001b[1;32m    429\u001b[0m     )\n\u001b[1;32m    430\u001b[0m     \u001b[0mtrain_scores_mean\u001b[0m \u001b[0;34m=\u001b[0m \u001b[0mnp\u001b[0m\u001b[0;34m.\u001b[0m\u001b[0mmean\u001b[0m\u001b[0;34m(\u001b[0m\u001b[0mtrain_scores\u001b[0m\u001b[0;34m,\u001b[0m \u001b[0maxis\u001b[0m\u001b[0;34m=\u001b[0m\u001b[0;36m1\u001b[0m\u001b[0;34m)\u001b[0m\u001b[0;34m\u001b[0m\u001b[0;34m\u001b[0m\u001b[0m\n",
      "\u001b[0;32m~/jeroen/git/sleep-linear/venv/lib/python3.7/site-packages/sklearn/model_selection/_validation.py\u001b[0m in \u001b[0;36mlearning_curve\u001b[0;34m(estimator, X, y, groups, train_sizes, cv, scoring, exploit_incremental_learning, n_jobs, pre_dispatch, verbose, shuffle, random_state, error_score, return_times, fit_params)\u001b[0m\n\u001b[1;32m   1566\u001b[0m                 \u001b[0mreturn_times\u001b[0m\u001b[0;34m=\u001b[0m\u001b[0mreturn_times\u001b[0m\u001b[0;34m,\u001b[0m\u001b[0;34m\u001b[0m\u001b[0;34m\u001b[0m\u001b[0m\n\u001b[1;32m   1567\u001b[0m             )\n\u001b[0;32m-> 1568\u001b[0;31m             \u001b[0;32mfor\u001b[0m \u001b[0mtrain\u001b[0m\u001b[0;34m,\u001b[0m \u001b[0mtest\u001b[0m \u001b[0;32min\u001b[0m \u001b[0mtrain_test_proportions\u001b[0m\u001b[0;34m\u001b[0m\u001b[0;34m\u001b[0m\u001b[0m\n\u001b[0m\u001b[1;32m   1569\u001b[0m         )\n\u001b[1;32m   1570\u001b[0m         \u001b[0mresults\u001b[0m \u001b[0;34m=\u001b[0m \u001b[0m_aggregate_score_dicts\u001b[0m\u001b[0;34m(\u001b[0m\u001b[0mresults\u001b[0m\u001b[0;34m)\u001b[0m\u001b[0;34m\u001b[0m\u001b[0;34m\u001b[0m\u001b[0m\n",
      "\u001b[0;32m~/jeroen/git/sleep-linear/venv/lib/python3.7/site-packages/joblib/parallel.py\u001b[0m in \u001b[0;36m__call__\u001b[0;34m(self, iterable)\u001b[0m\n\u001b[1;32m   1054\u001b[0m \u001b[0;34m\u001b[0m\u001b[0m\n\u001b[1;32m   1055\u001b[0m             \u001b[0;32mwith\u001b[0m \u001b[0mself\u001b[0m\u001b[0;34m.\u001b[0m\u001b[0m_backend\u001b[0m\u001b[0;34m.\u001b[0m\u001b[0mretrieval_context\u001b[0m\u001b[0;34m(\u001b[0m\u001b[0;34m)\u001b[0m\u001b[0;34m:\u001b[0m\u001b[0;34m\u001b[0m\u001b[0;34m\u001b[0m\u001b[0m\n\u001b[0;32m-> 1056\u001b[0;31m                 \u001b[0mself\u001b[0m\u001b[0;34m.\u001b[0m\u001b[0mretrieve\u001b[0m\u001b[0;34m(\u001b[0m\u001b[0;34m)\u001b[0m\u001b[0;34m\u001b[0m\u001b[0;34m\u001b[0m\u001b[0m\n\u001b[0m\u001b[1;32m   1057\u001b[0m             \u001b[0;31m# Make sure that we get a last message telling us we are done\u001b[0m\u001b[0;34m\u001b[0m\u001b[0;34m\u001b[0m\u001b[0;34m\u001b[0m\u001b[0m\n\u001b[1;32m   1058\u001b[0m             \u001b[0melapsed_time\u001b[0m \u001b[0;34m=\u001b[0m \u001b[0mtime\u001b[0m\u001b[0;34m.\u001b[0m\u001b[0mtime\u001b[0m\u001b[0;34m(\u001b[0m\u001b[0;34m)\u001b[0m \u001b[0;34m-\u001b[0m \u001b[0mself\u001b[0m\u001b[0;34m.\u001b[0m\u001b[0m_start_time\u001b[0m\u001b[0;34m\u001b[0m\u001b[0;34m\u001b[0m\u001b[0m\n",
      "\u001b[0;32m~/jeroen/git/sleep-linear/venv/lib/python3.7/site-packages/joblib/parallel.py\u001b[0m in \u001b[0;36mretrieve\u001b[0;34m(self)\u001b[0m\n\u001b[1;32m    933\u001b[0m             \u001b[0;32mtry\u001b[0m\u001b[0;34m:\u001b[0m\u001b[0;34m\u001b[0m\u001b[0;34m\u001b[0m\u001b[0m\n\u001b[1;32m    934\u001b[0m                 \u001b[0;32mif\u001b[0m \u001b[0mgetattr\u001b[0m\u001b[0;34m(\u001b[0m\u001b[0mself\u001b[0m\u001b[0;34m.\u001b[0m\u001b[0m_backend\u001b[0m\u001b[0;34m,\u001b[0m \u001b[0;34m'supports_timeout'\u001b[0m\u001b[0;34m,\u001b[0m \u001b[0;32mFalse\u001b[0m\u001b[0;34m)\u001b[0m\u001b[0;34m:\u001b[0m\u001b[0;34m\u001b[0m\u001b[0;34m\u001b[0m\u001b[0m\n\u001b[0;32m--> 935\u001b[0;31m                     \u001b[0mself\u001b[0m\u001b[0;34m.\u001b[0m\u001b[0m_output\u001b[0m\u001b[0;34m.\u001b[0m\u001b[0mextend\u001b[0m\u001b[0;34m(\u001b[0m\u001b[0mjob\u001b[0m\u001b[0;34m.\u001b[0m\u001b[0mget\u001b[0m\u001b[0;34m(\u001b[0m\u001b[0mtimeout\u001b[0m\u001b[0;34m=\u001b[0m\u001b[0mself\u001b[0m\u001b[0;34m.\u001b[0m\u001b[0mtimeout\u001b[0m\u001b[0;34m)\u001b[0m\u001b[0;34m)\u001b[0m\u001b[0;34m\u001b[0m\u001b[0;34m\u001b[0m\u001b[0m\n\u001b[0m\u001b[1;32m    936\u001b[0m                 \u001b[0;32melse\u001b[0m\u001b[0;34m:\u001b[0m\u001b[0;34m\u001b[0m\u001b[0;34m\u001b[0m\u001b[0m\n\u001b[1;32m    937\u001b[0m                     \u001b[0mself\u001b[0m\u001b[0;34m.\u001b[0m\u001b[0m_output\u001b[0m\u001b[0;34m.\u001b[0m\u001b[0mextend\u001b[0m\u001b[0;34m(\u001b[0m\u001b[0mjob\u001b[0m\u001b[0;34m.\u001b[0m\u001b[0mget\u001b[0m\u001b[0;34m(\u001b[0m\u001b[0;34m)\u001b[0m\u001b[0;34m)\u001b[0m\u001b[0;34m\u001b[0m\u001b[0;34m\u001b[0m\u001b[0m\n",
      "\u001b[0;32m~/jeroen/git/sleep-linear/venv/lib/python3.7/site-packages/joblib/_parallel_backends.py\u001b[0m in \u001b[0;36mwrap_future_result\u001b[0;34m(future, timeout)\u001b[0m\n\u001b[1;32m    540\u001b[0m         AsyncResults.get from multiprocessing.\"\"\"\n\u001b[1;32m    541\u001b[0m         \u001b[0;32mtry\u001b[0m\u001b[0;34m:\u001b[0m\u001b[0;34m\u001b[0m\u001b[0;34m\u001b[0m\u001b[0m\n\u001b[0;32m--> 542\u001b[0;31m             \u001b[0;32mreturn\u001b[0m \u001b[0mfuture\u001b[0m\u001b[0;34m.\u001b[0m\u001b[0mresult\u001b[0m\u001b[0;34m(\u001b[0m\u001b[0mtimeout\u001b[0m\u001b[0;34m=\u001b[0m\u001b[0mtimeout\u001b[0m\u001b[0;34m)\u001b[0m\u001b[0;34m\u001b[0m\u001b[0;34m\u001b[0m\u001b[0m\n\u001b[0m\u001b[1;32m    543\u001b[0m         \u001b[0;32mexcept\u001b[0m \u001b[0mCfTimeoutError\u001b[0m \u001b[0;32mas\u001b[0m \u001b[0me\u001b[0m\u001b[0;34m:\u001b[0m\u001b[0;34m\u001b[0m\u001b[0;34m\u001b[0m\u001b[0m\n\u001b[1;32m    544\u001b[0m             \u001b[0;32mraise\u001b[0m \u001b[0mTimeoutError\u001b[0m \u001b[0;32mfrom\u001b[0m \u001b[0me\u001b[0m\u001b[0;34m\u001b[0m\u001b[0;34m\u001b[0m\u001b[0m\n",
      "\u001b[0;32m/usr/lib/python3.7/concurrent/futures/_base.py\u001b[0m in \u001b[0;36mresult\u001b[0;34m(self, timeout)\u001b[0m\n\u001b[1;32m    428\u001b[0m                 \u001b[0;32mreturn\u001b[0m \u001b[0mself\u001b[0m\u001b[0;34m.\u001b[0m\u001b[0m__get_result\u001b[0m\u001b[0;34m(\u001b[0m\u001b[0;34m)\u001b[0m\u001b[0;34m\u001b[0m\u001b[0;34m\u001b[0m\u001b[0m\n\u001b[1;32m    429\u001b[0m \u001b[0;34m\u001b[0m\u001b[0m\n\u001b[0;32m--> 430\u001b[0;31m             \u001b[0mself\u001b[0m\u001b[0;34m.\u001b[0m\u001b[0m_condition\u001b[0m\u001b[0;34m.\u001b[0m\u001b[0mwait\u001b[0m\u001b[0;34m(\u001b[0m\u001b[0mtimeout\u001b[0m\u001b[0;34m)\u001b[0m\u001b[0;34m\u001b[0m\u001b[0;34m\u001b[0m\u001b[0m\n\u001b[0m\u001b[1;32m    431\u001b[0m \u001b[0;34m\u001b[0m\u001b[0m\n\u001b[1;32m    432\u001b[0m             \u001b[0;32mif\u001b[0m \u001b[0mself\u001b[0m\u001b[0;34m.\u001b[0m\u001b[0m_state\u001b[0m \u001b[0;32min\u001b[0m \u001b[0;34m[\u001b[0m\u001b[0mCANCELLED\u001b[0m\u001b[0;34m,\u001b[0m \u001b[0mCANCELLED_AND_NOTIFIED\u001b[0m\u001b[0;34m]\u001b[0m\u001b[0;34m:\u001b[0m\u001b[0;34m\u001b[0m\u001b[0;34m\u001b[0m\u001b[0m\n",
      "\u001b[0;32m/usr/lib/python3.7/threading.py\u001b[0m in \u001b[0;36mwait\u001b[0;34m(self, timeout)\u001b[0m\n\u001b[1;32m    294\u001b[0m         \u001b[0;32mtry\u001b[0m\u001b[0;34m:\u001b[0m    \u001b[0;31m# restore state no matter what (e.g., KeyboardInterrupt)\u001b[0m\u001b[0;34m\u001b[0m\u001b[0;34m\u001b[0m\u001b[0m\n\u001b[1;32m    295\u001b[0m             \u001b[0;32mif\u001b[0m \u001b[0mtimeout\u001b[0m \u001b[0;32mis\u001b[0m \u001b[0;32mNone\u001b[0m\u001b[0;34m:\u001b[0m\u001b[0;34m\u001b[0m\u001b[0;34m\u001b[0m\u001b[0m\n\u001b[0;32m--> 296\u001b[0;31m                 \u001b[0mwaiter\u001b[0m\u001b[0;34m.\u001b[0m\u001b[0macquire\u001b[0m\u001b[0;34m(\u001b[0m\u001b[0;34m)\u001b[0m\u001b[0;34m\u001b[0m\u001b[0;34m\u001b[0m\u001b[0m\n\u001b[0m\u001b[1;32m    297\u001b[0m                 \u001b[0mgotit\u001b[0m \u001b[0;34m=\u001b[0m \u001b[0;32mTrue\u001b[0m\u001b[0;34m\u001b[0m\u001b[0;34m\u001b[0m\u001b[0m\n\u001b[1;32m    298\u001b[0m             \u001b[0;32melse\u001b[0m\u001b[0;34m:\u001b[0m\u001b[0;34m\u001b[0m\u001b[0;34m\u001b[0m\u001b[0m\n",
      "\u001b[0;31mKeyboardInterrupt\u001b[0m: "
     ]
    },
    {
     "data": {
      "image/png": "[encoded data removed]",
      "text/plain": [
       "<Figure size 1440x720 with 1 Axes>"
      ]
     },
     "metadata": {
      "needs_background": "light"
     },
     "output_type": "display_data"
    }
   ],
   "source": [
    "cv = gkfold.split(df_feats, df_feats[\"label\"], groups=df_feats.psg_file)\n",
    "_ = plot_learning_curve(\n",
    "    pipe,\n",
    "    title=\"Learning curve - F1 Macro\",\n",
    "    X=df_feats[feat_cols],\n",
    "    y=df_feats[\"label\"],\n",
    "    cv=cv,\n",
    "    scoring=\"f1_macro\",\n",
    "    n_jobs=20,\n",
    "    train_sizes=[0.05] + list(np.linspace(0.1,1,10))\n",
    ")"
   ]
  },
  {
   "cell_type": "markdown",
   "metadata": {
    "tags": []
   },
   "source": [
    "## The simple, catboost pipeline"
   ]
  },
  {
   "cell_type": "code",
   "execution_count": 46,
   "metadata": {},
   "outputs": [],
   "source": [
    "### Create pipeline\n",
    "from catboost import CatBoostClassifier\n",
    "pipe = CatBoostClassifier(verbose=0, depth=5, n_estimators=2_000, random_state=0)"
   ]
  },
  {
   "cell_type": "markdown",
   "metadata": {
    "tags": []
   },
   "source": [
    "### Grouped 10-fold results for all the data"
   ]
  },
  {
   "cell_type": "code",
   "execution_count": 47,
   "metadata": {
    "tags": []
   },
   "outputs": [],
   "source": [
    "# Total of 10 folds\n",
    "gkfold = StratifiedGroupKFold(n_splits=10)\n",
    "cv = gkfold.split(df_feats, df_feats[\"label\"], groups=df_feats.psg_file)\n",
    "\n",
    "res = cross_validate(\n",
    "    pipe,\n",
    "    df_feats[feat_cols],\n",
    "    df_feats[\"label\"],\n",
    "    scoring=[\"f1_macro\", \"balanced_accuracy\", \"accuracy\", \"neg_log_loss\"],\n",
    "    cv=cv,\n",
    "    # n_jobs=30,\n",
    "    return_train_score=True,\n",
    "    return_estimator=True,\n",
    ")"
   ]
  },
  {
   "cell_type": "code",
   "execution_count": 48,
   "metadata": {},
   "outputs": [
    {
     "name": "stdout",
     "output_type": "stream",
     "text": [
      "20-FOLD: TRAIN\n",
      "  MACRO F1:           0.9063\n",
      "  Balanced accuracy:  0.8938\n",
      "  Accuracy:           0.9305\n",
      "  Log loss:           0.1998\n"
     ]
    }
   ],
   "source": [
    "print(\"20-FOLD: TRAIN\")\n",
    "print(\"  MACRO F1:          \", round(np.mean(res[\"train_f1_macro\"]), 4))\n",
    "print(\"  Balanced accuracy: \", round(np.mean(res[\"train_balanced_accuracy\"]), 4))\n",
    "print(\"  Accuracy:          \", round(np.mean(res[\"train_accuracy\"]), 4))\n",
    "print(\"  Log loss:          \", round(np.mean(-1 * res[\"train_neg_log_loss\"]), 4))"
   ]
  },
  {
   "cell_type": "code",
   "execution_count": 49,
   "metadata": {
    "tags": []
   },
   "outputs": [
    {
     "name": "stdout",
     "output_type": "stream",
     "text": [
      "20-FOLD: TEST\n",
      "  MACRO F1:           0.815\n",
      "  Balanced accuracy:  0.8069\n",
      "  Accuracy:           0.8669\n",
      "  Log loss:           0.3442\n"
     ]
    }
   ],
   "source": [
    "print(\"20-FOLD: TEST\")\n",
    "print(\"  MACRO F1:          \", round(np.mean(res[\"test_f1_macro\"]), 4))\n",
    "print(\"  Balanced accuracy: \", round(np.mean(res[\"test_balanced_accuracy\"]), 4))\n",
    "print(\"  Accuracy:          \", round(np.mean(res[\"test_accuracy\"]), 4))\n",
    "print(\"  Log loss:          \", round(np.mean(-1 * res[\"test_neg_log_loss\"]), 4))\n"
   ]
  },
  {
   "cell_type": "code",
   "execution_count": 50,
   "metadata": {
    "tags": []
   },
   "outputs": [],
   "source": [
    "preds = []\n",
    "preds_proba = []\n",
    "y_trues = []\n",
    "cv = gkfold.split(df_feats, df_feats[\"label\"], groups=df_feats.patient_id)\n",
    "for fold_ix, (train_idx, test_idx) in enumerate(cv):\n",
    "    X_train = df_feats[feat_cols].iloc[train_idx]\n",
    "    y_train = df_feats[\"label\"].iloc[train_idx]\n",
    "    X_test = df_feats[feat_cols].iloc[test_idx]\n",
    "    y_test = df_feats[\"label\"].iloc[test_idx]\n",
    "    \n",
    "    estimator = res[\"estimator\"][fold_ix]\n",
    "    preds += [estimator.predict(X_test).ravel()]\n",
    "    preds_proba += [estimator.predict_proba(X_test)]\n",
    "    y_trues += [y_test]\n",
    "\n",
    "preds = np.hstack(preds)\n",
    "y_trues = np.hstack(y_trues)\n",
    "preds_proba = np.vstack(preds_proba)"
   ]
  },
  {
   "cell_type": "code",
   "execution_count": 51,
   "metadata": {},
   "outputs": [
    {
     "name": "stdout",
     "output_type": "stream",
     "text": [
      "F1: 0.8172823869281292\n",
      "ACC: 0.8671544413911695\n",
      "KAPPA: 0.8026215468560806\n",
      "LOG LOSS: 0.34376646960860113\n"
     ]
    }
   ],
   "source": [
    "print(\"F1:\", f1_score(preds, y_trues, average=\"macro\"))\n",
    "print(\"ACC:\", accuracy_score(preds, y_trues))\n",
    "print(\"KAPPA:\", cohen_kappa_score(preds, y_trues))\n",
    "print(\"LOG LOSS:\", log_loss(y_trues, preds_proba))"
   ]
  },
  {
   "cell_type": "code",
   "execution_count": 52,
   "metadata": {
    "tags": []
   },
   "outputs": [
    {
     "name": "stdout",
     "output_type": "stream",
     "text": [
      "               precision    recall  f1-score   support\n",
      "\n",
      "Sleep stage 1       0.51      0.62      0.56      3930\n",
      "Sleep stage 2       0.92      0.89      0.91     30902\n",
      "Sleep stage 3       0.84      0.88      0.86      7324\n",
      "Sleep stage R       0.87      0.87      0.87     10586\n",
      "Sleep stage W       0.91      0.89      0.90      6575\n",
      "\n",
      "     accuracy                           0.87     59317\n",
      "    macro avg       0.81      0.83      0.82     59317\n",
      " weighted avg       0.87      0.87      0.87     59317\n",
      "\n"
     ]
    }
   ],
   "source": [
    "print(classification_report(preds, y_trues))"
   ]
  },
  {
   "cell_type": "code",
   "execution_count": null,
   "metadata": {},
   "outputs": [],
   "source": []
  },
  {
   "cell_type": "code",
   "execution_count": 53,
   "metadata": {},
   "outputs": [
    {
     "data": {
      "text/plain": [
       "<AxesSubplot:title={'center':'Normalized confusion matrix'}, xlabel='Predicted label', ylabel='True label'>"
      ]
     },
     "execution_count": 53,
     "metadata": {},
     "output_type": "execute_result"
    },
    {
     "data": {
      "image/png": "[encoded data removed]",
      "text/plain": [
       "<Figure size 1800x864 with 4 Axes>"
      ]
     },
     "metadata": {
      "needs_background": "light"
     },
     "output_type": "display_data"
    }
   ],
   "source": [
    "classes = [\n",
    "    'Sleep stage W',\n",
    "    'Sleep stage 1',\n",
    "    'Sleep stage 2',\n",
    "    'Sleep stage 3',\n",
    "    'Sleep stage R'\n",
    "]\n",
    "\n",
    "plt.figure(figsize=(25,12))\n",
    "ax = plt.subplot(1,2,1)\n",
    "plot_confusion_matrix(y_pred=preds, y_true=y_trues, classes=classes, normalize=False, ax=ax)\n",
    "ax = plt.subplot(1,2,2)\n",
    "plot_confusion_matrix(y_pred=preds, y_true=y_trues, classes=classes, normalize=True, ax=ax)"
   ]
  },
  {
   "cell_type": "code",
   "execution_count": null,
   "metadata": {},
   "outputs": [],
   "source": []
  },
  {
   "cell_type": "code",
   "execution_count": 54,
   "metadata": {},
   "outputs": [],
   "source": [
    "# cv = gkfold.split(df_feats, df_feats[\"label\"], groups=df_feats.psg_file)\n",
    "# _ = plot_learning_curve(\n",
    "#     pipe,\n",
    "#     title=\"Learning curve - F1 Macro\",\n",
    "#     X=df_feats[feat_cols],\n",
    "#     y=df_feats[\"label\"],\n",
    "#     cv=cv,\n",
    "#     scoring=\"f1_macro\",\n",
    "#     n_jobs=20,\n",
    "#     train_sizes=[0.05] + list(np.linspace(0.1,1,10))\n",
    "# )\n"
   ]
  }
 ],
 "metadata": {
  "interpreter": {
   "hash": "26b61bcbbba1cfbfebc1ee75928744f228d99c40d6fca4a5ce4834aa344100ec"
  },
  "kernelspec": {
   "display_name": "Python 3.7.5 ('venv': venv)",
   "language": "python",
   "name": "python3"
  },
  "language_info": {
   "codemirror_mode": {
    "name": "ipython",
    "version": 3
   },
   "file_extension": ".py",
   "mimetype": "text/x-python",
   "name": "python",
   "nbconvert_exporter": "python",
   "pygments_lexer": "ipython3",
   "version": "3.7.5"
  },
  "toc-autonumbering": true
 },
 "nbformat": 4,
 "nbformat_minor": 4
}
