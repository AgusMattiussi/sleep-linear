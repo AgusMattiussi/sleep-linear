{
 "cells": [
  {
   "cell_type": "markdown",
   "metadata": {},
   "source": [
    "Dataset: **Sleep-EDF Expanded**  \n",
    "https://physionet.org/content/sleep-edfx/1.0.0/"
   ]
  },
  {
   "cell_type": "code",
   "execution_count": 1,
   "metadata": {
    "collapsed": true,
    "jupyter": {
     "outputs_hidden": true
    },
    "tags": []
   },
   "outputs": [],
   "source": [
    "# !pip install mne pyedflib seglearn tsfel tsfresh antropy plotly-resampler tsflex powershap --upgrade"
   ]
  },
  {
   "cell_type": "code",
   "execution_count": 2,
   "metadata": {},
   "outputs": [],
   "source": [
    "%load_ext autoreload\n",
    "%autoreload 2"
   ]
  },
  {
   "cell_type": "code",
   "execution_count": 3,
   "metadata": {},
   "outputs": [],
   "source": [
    "import sys\n",
    "\n",
    "sys.path.append(\"../../ML_tools/src/\")\n",
    "\n",
    "sys.path.append(\"../src/\")"
   ]
  },
  {
   "cell_type": "code",
   "execution_count": 4,
   "metadata": {},
   "outputs": [],
   "source": [
    "import os\n",
    "\n",
    "import numpy as np\n",
    "import pandas as pd\n",
    "import matplotlib.pyplot as plt\n",
    "\n",
    "from tqdm.auto import tqdm"
   ]
  },
  {
   "cell_type": "code",
   "execution_count": 5,
   "metadata": {},
   "outputs": [],
   "source": [
    "import plotly.graph_objects as go\n",
    "from plotly.subplots import make_subplots\n",
    "\n",
    "from plotly_resampler import FigureResampler"
   ]
  },
  {
   "cell_type": "markdown",
   "metadata": {},
   "source": [
    "## Download the data"
   ]
  },
  {
   "cell_type": "markdown",
   "metadata": {},
   "source": [
    "Commands to download and extract the data;\n",
    "```sh\n",
    "mkdir data\n",
    "wget https://physionet.org/static/published-projects/sleep-edfx/sleep-edf-database-expanded-1.0.0.zip -P data\n",
    "# Extrac all data\n",
    "unzip data/sleep-edf-database-expanded-1.0.0.zip -d data\n",
    "```"
   ]
  },
  {
   "cell_type": "markdown",
   "metadata": {},
   "source": [
    "# Create dataloader"
   ]
  },
  {
   "cell_type": "markdown",
   "metadata": {
    "tags": []
   },
   "source": [
    "## Some EDF loading funcs"
   ]
  },
  {
   "cell_type": "code",
   "execution_count": 6,
   "metadata": {},
   "outputs": [],
   "source": [
    "from data import load_signals, load_annotations, annotation_to_30s_labels"
   ]
  },
  {
   "cell_type": "markdown",
   "metadata": {
    "tags": []
   },
   "source": [
    "## Load some data"
   ]
  },
  {
   "cell_type": "code",
   "execution_count": 7,
   "metadata": {},
   "outputs": [
    {
     "data": {
      "text/plain": [
       "['sleep-telemetry',\n",
       " 'RECORDS-v1',\n",
       " 'SHA256SUMS.txt',\n",
       " 'SC-subjects.xls',\n",
       " 'sleep-cassette',\n",
       " 'ST-subjects.xls',\n",
       " 'RECORDS']"
      ]
     },
     "execution_count": 7,
     "metadata": {},
     "output_type": "execute_result"
    }
   ],
   "source": [
    "data_folder = \"../../../../data/sleep/sleep-edf-database-expanded-1.0.0/\"\n",
    "\n",
    "os.listdir(data_folder)"
   ]
  },
  {
   "cell_type": "code",
   "execution_count": 8,
   "metadata": {},
   "outputs": [
    {
     "data": {
      "text/plain": [
       "['ST7111J0-PSG.edf',\n",
       " 'ST7061J0-PSG.edf',\n",
       " 'ST7051J0-PSG.edf',\n",
       " 'ST7121JE-Hypnogram.edf',\n",
       " 'ST7201J0-PSG.edf',\n",
       " 'ST7241J0-PSG.edf',\n",
       " 'ST7041J0-PSG.edf',\n",
       " 'ST7132JR-Hypnogram.edf',\n",
       " 'ST7022J0-PSG.edf',\n",
       " 'ST7142JE-Hypnogram.edf']"
      ]
     },
     "execution_count": 8,
     "metadata": {},
     "output_type": "execute_result"
    }
   ],
   "source": [
    "os.listdir(data_folder + \"sleep-telemetry\")[:10]"
   ]
  },
  {
   "cell_type": "code",
   "execution_count": 9,
   "metadata": {},
   "outputs": [
    {
     "data": {
      "text/plain": [
       "88"
      ]
     },
     "execution_count": 9,
     "metadata": {},
     "output_type": "execute_result"
    }
   ],
   "source": [
    "len(os.listdir(data_folder + \"sleep-telemetry\"))"
   ]
  },
  {
   "cell_type": "code",
   "execution_count": 10,
   "metadata": {},
   "outputs": [
    {
     "name": "stdout",
     "output_type": "stream",
     "text": [
      "1.1G\t../../../../data/sleep/sleep-edf-database-expanded-1.0.0/sleep-telemetry\n"
     ]
    }
   ],
   "source": [
    "!du -hs ../../../../data/sleep/sleep-edf-database-expanded-1.0.0/sleep-telemetry"
   ]
  },
  {
   "cell_type": "markdown",
   "metadata": {},
   "source": [
    "=> In total 88 files (44 PSG files - 153 hypnogram files) => 1.1 GB"
   ]
  },
  {
   "cell_type": "code",
   "execution_count": null,
   "metadata": {},
   "outputs": [],
   "source": []
  },
  {
   "cell_type": "code",
   "execution_count": 11,
   "metadata": {
    "tags": []
   },
   "outputs": [
    {
     "data": {
      "text/html": [
       "<div>\n",
       "<style scoped>\n",
       "    .dataframe tbody tr th:only-of-type {\n",
       "        vertical-align: middle;\n",
       "    }\n",
       "\n",
       "    .dataframe tbody tr th {\n",
       "        vertical-align: top;\n",
       "    }\n",
       "\n",
       "    .dataframe thead th {\n",
       "        text-align: right;\n",
       "    }\n",
       "</style>\n",
       "<table border=\"1\" class=\"dataframe\">\n",
       "  <thead>\n",
       "    <tr style=\"text-align: right;\">\n",
       "      <th></th>\n",
       "      <th>psg_file</th>\n",
       "      <th>label_file</th>\n",
       "      <th>subfolder</th>\n",
       "      <th>patient_id</th>\n",
       "    </tr>\n",
       "  </thead>\n",
       "  <tbody>\n",
       "    <tr>\n",
       "      <th>0</th>\n",
       "      <td>ST7011J0-PSG.edf</td>\n",
       "      <td>ST7011JP-Hypnogram.edf</td>\n",
       "      <td>sleep-telemetry</td>\n",
       "      <td>ST701</td>\n",
       "    </tr>\n",
       "    <tr>\n",
       "      <th>1</th>\n",
       "      <td>ST7012J0-PSG.edf</td>\n",
       "      <td>ST7012JP-Hypnogram.edf</td>\n",
       "      <td>sleep-telemetry</td>\n",
       "      <td>ST701</td>\n",
       "    </tr>\n",
       "    <tr>\n",
       "      <th>2</th>\n",
       "      <td>ST7021J0-PSG.edf</td>\n",
       "      <td>ST7021JM-Hypnogram.edf</td>\n",
       "      <td>sleep-telemetry</td>\n",
       "      <td>ST702</td>\n",
       "    </tr>\n",
       "    <tr>\n",
       "      <th>3</th>\n",
       "      <td>ST7022J0-PSG.edf</td>\n",
       "      <td>ST7022JM-Hypnogram.edf</td>\n",
       "      <td>sleep-telemetry</td>\n",
       "      <td>ST702</td>\n",
       "    </tr>\n",
       "    <tr>\n",
       "      <th>4</th>\n",
       "      <td>ST7041J0-PSG.edf</td>\n",
       "      <td>ST7041JO-Hypnogram.edf</td>\n",
       "      <td>sleep-telemetry</td>\n",
       "      <td>ST704</td>\n",
       "    </tr>\n",
       "    <tr>\n",
       "      <th>5</th>\n",
       "      <td>ST7042J0-PSG.edf</td>\n",
       "      <td>ST7042JO-Hypnogram.edf</td>\n",
       "      <td>sleep-telemetry</td>\n",
       "      <td>ST704</td>\n",
       "    </tr>\n",
       "    <tr>\n",
       "      <th>6</th>\n",
       "      <td>ST7051J0-PSG.edf</td>\n",
       "      <td>ST7051JA-Hypnogram.edf</td>\n",
       "      <td>sleep-telemetry</td>\n",
       "      <td>ST705</td>\n",
       "    </tr>\n",
       "    <tr>\n",
       "      <th>7</th>\n",
       "      <td>ST7052J0-PSG.edf</td>\n",
       "      <td>ST7052JA-Hypnogram.edf</td>\n",
       "      <td>sleep-telemetry</td>\n",
       "      <td>ST705</td>\n",
       "    </tr>\n",
       "    <tr>\n",
       "      <th>8</th>\n",
       "      <td>ST7061J0-PSG.edf</td>\n",
       "      <td>ST7061JR-Hypnogram.edf</td>\n",
       "      <td>sleep-telemetry</td>\n",
       "      <td>ST706</td>\n",
       "    </tr>\n",
       "    <tr>\n",
       "      <th>9</th>\n",
       "      <td>ST7062J0-PSG.edf</td>\n",
       "      <td>ST7062JR-Hypnogram.edf</td>\n",
       "      <td>sleep-telemetry</td>\n",
       "      <td>ST706</td>\n",
       "    </tr>\n",
       "    <tr>\n",
       "      <th>10</th>\n",
       "      <td>ST7071J0-PSG.edf</td>\n",
       "      <td>ST7071JA-Hypnogram.edf</td>\n",
       "      <td>sleep-telemetry</td>\n",
       "      <td>ST707</td>\n",
       "    </tr>\n",
       "    <tr>\n",
       "      <th>11</th>\n",
       "      <td>ST7072J0-PSG.edf</td>\n",
       "      <td>ST7072JA-Hypnogram.edf</td>\n",
       "      <td>sleep-telemetry</td>\n",
       "      <td>ST707</td>\n",
       "    </tr>\n",
       "    <tr>\n",
       "      <th>12</th>\n",
       "      <td>ST7081J0-PSG.edf</td>\n",
       "      <td>ST7081JW-Hypnogram.edf</td>\n",
       "      <td>sleep-telemetry</td>\n",
       "      <td>ST708</td>\n",
       "    </tr>\n",
       "    <tr>\n",
       "      <th>13</th>\n",
       "      <td>ST7082J0-PSG.edf</td>\n",
       "      <td>ST7082JW-Hypnogram.edf</td>\n",
       "      <td>sleep-telemetry</td>\n",
       "      <td>ST708</td>\n",
       "    </tr>\n",
       "    <tr>\n",
       "      <th>14</th>\n",
       "      <td>ST7091J0-PSG.edf</td>\n",
       "      <td>ST7091JE-Hypnogram.edf</td>\n",
       "      <td>sleep-telemetry</td>\n",
       "      <td>ST709</td>\n",
       "    </tr>\n",
       "    <tr>\n",
       "      <th>15</th>\n",
       "      <td>ST7092J0-PSG.edf</td>\n",
       "      <td>ST7092JE-Hypnogram.edf</td>\n",
       "      <td>sleep-telemetry</td>\n",
       "      <td>ST709</td>\n",
       "    </tr>\n",
       "    <tr>\n",
       "      <th>16</th>\n",
       "      <td>ST7101J0-PSG.edf</td>\n",
       "      <td>ST7101JE-Hypnogram.edf</td>\n",
       "      <td>sleep-telemetry</td>\n",
       "      <td>ST710</td>\n",
       "    </tr>\n",
       "    <tr>\n",
       "      <th>17</th>\n",
       "      <td>ST7102J0-PSG.edf</td>\n",
       "      <td>ST7102JE-Hypnogram.edf</td>\n",
       "      <td>sleep-telemetry</td>\n",
       "      <td>ST710</td>\n",
       "    </tr>\n",
       "    <tr>\n",
       "      <th>18</th>\n",
       "      <td>ST7111J0-PSG.edf</td>\n",
       "      <td>ST7111JE-Hypnogram.edf</td>\n",
       "      <td>sleep-telemetry</td>\n",
       "      <td>ST711</td>\n",
       "    </tr>\n",
       "    <tr>\n",
       "      <th>19</th>\n",
       "      <td>ST7112J0-PSG.edf</td>\n",
       "      <td>ST7112JE-Hypnogram.edf</td>\n",
       "      <td>sleep-telemetry</td>\n",
       "      <td>ST711</td>\n",
       "    </tr>\n",
       "    <tr>\n",
       "      <th>20</th>\n",
       "      <td>ST7121J0-PSG.edf</td>\n",
       "      <td>ST7121JE-Hypnogram.edf</td>\n",
       "      <td>sleep-telemetry</td>\n",
       "      <td>ST712</td>\n",
       "    </tr>\n",
       "    <tr>\n",
       "      <th>21</th>\n",
       "      <td>ST7122J0-PSG.edf</td>\n",
       "      <td>ST7122JE-Hypnogram.edf</td>\n",
       "      <td>sleep-telemetry</td>\n",
       "      <td>ST712</td>\n",
       "    </tr>\n",
       "    <tr>\n",
       "      <th>22</th>\n",
       "      <td>ST7131J0-PSG.edf</td>\n",
       "      <td>ST7131JR-Hypnogram.edf</td>\n",
       "      <td>sleep-telemetry</td>\n",
       "      <td>ST713</td>\n",
       "    </tr>\n",
       "    <tr>\n",
       "      <th>23</th>\n",
       "      <td>ST7132J0-PSG.edf</td>\n",
       "      <td>ST7132JR-Hypnogram.edf</td>\n",
       "      <td>sleep-telemetry</td>\n",
       "      <td>ST713</td>\n",
       "    </tr>\n",
       "    <tr>\n",
       "      <th>24</th>\n",
       "      <td>ST7141J0-PSG.edf</td>\n",
       "      <td>ST7141JE-Hypnogram.edf</td>\n",
       "      <td>sleep-telemetry</td>\n",
       "      <td>ST714</td>\n",
       "    </tr>\n",
       "    <tr>\n",
       "      <th>25</th>\n",
       "      <td>ST7142J0-PSG.edf</td>\n",
       "      <td>ST7142JE-Hypnogram.edf</td>\n",
       "      <td>sleep-telemetry</td>\n",
       "      <td>ST714</td>\n",
       "    </tr>\n",
       "    <tr>\n",
       "      <th>26</th>\n",
       "      <td>ST7151J0-PSG.edf</td>\n",
       "      <td>ST7151JA-Hypnogram.edf</td>\n",
       "      <td>sleep-telemetry</td>\n",
       "      <td>ST715</td>\n",
       "    </tr>\n",
       "    <tr>\n",
       "      <th>27</th>\n",
       "      <td>ST7152J0-PSG.edf</td>\n",
       "      <td>ST7152JA-Hypnogram.edf</td>\n",
       "      <td>sleep-telemetry</td>\n",
       "      <td>ST715</td>\n",
       "    </tr>\n",
       "    <tr>\n",
       "      <th>28</th>\n",
       "      <td>ST7161J0-PSG.edf</td>\n",
       "      <td>ST7161JM-Hypnogram.edf</td>\n",
       "      <td>sleep-telemetry</td>\n",
       "      <td>ST716</td>\n",
       "    </tr>\n",
       "    <tr>\n",
       "      <th>29</th>\n",
       "      <td>ST7162J0-PSG.edf</td>\n",
       "      <td>ST7162JM-Hypnogram.edf</td>\n",
       "      <td>sleep-telemetry</td>\n",
       "      <td>ST716</td>\n",
       "    </tr>\n",
       "    <tr>\n",
       "      <th>30</th>\n",
       "      <td>ST7171J0-PSG.edf</td>\n",
       "      <td>ST7171JA-Hypnogram.edf</td>\n",
       "      <td>sleep-telemetry</td>\n",
       "      <td>ST717</td>\n",
       "    </tr>\n",
       "    <tr>\n",
       "      <th>31</th>\n",
       "      <td>ST7172J0-PSG.edf</td>\n",
       "      <td>ST7172JA-Hypnogram.edf</td>\n",
       "      <td>sleep-telemetry</td>\n",
       "      <td>ST717</td>\n",
       "    </tr>\n",
       "    <tr>\n",
       "      <th>32</th>\n",
       "      <td>ST7181J0-PSG.edf</td>\n",
       "      <td>ST7181JR-Hypnogram.edf</td>\n",
       "      <td>sleep-telemetry</td>\n",
       "      <td>ST718</td>\n",
       "    </tr>\n",
       "    <tr>\n",
       "      <th>33</th>\n",
       "      <td>ST7182J0-PSG.edf</td>\n",
       "      <td>ST7182JR-Hypnogram.edf</td>\n",
       "      <td>sleep-telemetry</td>\n",
       "      <td>ST718</td>\n",
       "    </tr>\n",
       "    <tr>\n",
       "      <th>34</th>\n",
       "      <td>ST7191J0-PSG.edf</td>\n",
       "      <td>ST7191JR-Hypnogram.edf</td>\n",
       "      <td>sleep-telemetry</td>\n",
       "      <td>ST719</td>\n",
       "    </tr>\n",
       "    <tr>\n",
       "      <th>35</th>\n",
       "      <td>ST7192J0-PSG.edf</td>\n",
       "      <td>ST7192JR-Hypnogram.edf</td>\n",
       "      <td>sleep-telemetry</td>\n",
       "      <td>ST719</td>\n",
       "    </tr>\n",
       "    <tr>\n",
       "      <th>36</th>\n",
       "      <td>ST7201J0-PSG.edf</td>\n",
       "      <td>ST7201JO-Hypnogram.edf</td>\n",
       "      <td>sleep-telemetry</td>\n",
       "      <td>ST720</td>\n",
       "    </tr>\n",
       "    <tr>\n",
       "      <th>37</th>\n",
       "      <td>ST7202J0-PSG.edf</td>\n",
       "      <td>ST7202JO-Hypnogram.edf</td>\n",
       "      <td>sleep-telemetry</td>\n",
       "      <td>ST720</td>\n",
       "    </tr>\n",
       "    <tr>\n",
       "      <th>38</th>\n",
       "      <td>ST7211J0-PSG.edf</td>\n",
       "      <td>ST7211JJ-Hypnogram.edf</td>\n",
       "      <td>sleep-telemetry</td>\n",
       "      <td>ST721</td>\n",
       "    </tr>\n",
       "    <tr>\n",
       "      <th>39</th>\n",
       "      <td>ST7212J0-PSG.edf</td>\n",
       "      <td>ST7212JJ-Hypnogram.edf</td>\n",
       "      <td>sleep-telemetry</td>\n",
       "      <td>ST721</td>\n",
       "    </tr>\n",
       "    <tr>\n",
       "      <th>40</th>\n",
       "      <td>ST7221J0-PSG.edf</td>\n",
       "      <td>ST7221JA-Hypnogram.edf</td>\n",
       "      <td>sleep-telemetry</td>\n",
       "      <td>ST722</td>\n",
       "    </tr>\n",
       "    <tr>\n",
       "      <th>41</th>\n",
       "      <td>ST7222J0-PSG.edf</td>\n",
       "      <td>ST7222JA-Hypnogram.edf</td>\n",
       "      <td>sleep-telemetry</td>\n",
       "      <td>ST722</td>\n",
       "    </tr>\n",
       "    <tr>\n",
       "      <th>42</th>\n",
       "      <td>ST7241J0-PSG.edf</td>\n",
       "      <td>ST7241JO-Hypnogram.edf</td>\n",
       "      <td>sleep-telemetry</td>\n",
       "      <td>ST724</td>\n",
       "    </tr>\n",
       "    <tr>\n",
       "      <th>43</th>\n",
       "      <td>ST7242J0-PSG.edf</td>\n",
       "      <td>ST7242JO-Hypnogram.edf</td>\n",
       "      <td>sleep-telemetry</td>\n",
       "      <td>ST724</td>\n",
       "    </tr>\n",
       "  </tbody>\n",
       "</table>\n",
       "</div>"
      ],
      "text/plain": [
       "            psg_file              label_file        subfolder patient_id\n",
       "0   ST7011J0-PSG.edf  ST7011JP-Hypnogram.edf  sleep-telemetry      ST701\n",
       "1   ST7012J0-PSG.edf  ST7012JP-Hypnogram.edf  sleep-telemetry      ST701\n",
       "2   ST7021J0-PSG.edf  ST7021JM-Hypnogram.edf  sleep-telemetry      ST702\n",
       "3   ST7022J0-PSG.edf  ST7022JM-Hypnogram.edf  sleep-telemetry      ST702\n",
       "4   ST7041J0-PSG.edf  ST7041JO-Hypnogram.edf  sleep-telemetry      ST704\n",
       "5   ST7042J0-PSG.edf  ST7042JO-Hypnogram.edf  sleep-telemetry      ST704\n",
       "6   ST7051J0-PSG.edf  ST7051JA-Hypnogram.edf  sleep-telemetry      ST705\n",
       "7   ST7052J0-PSG.edf  ST7052JA-Hypnogram.edf  sleep-telemetry      ST705\n",
       "8   ST7061J0-PSG.edf  ST7061JR-Hypnogram.edf  sleep-telemetry      ST706\n",
       "9   ST7062J0-PSG.edf  ST7062JR-Hypnogram.edf  sleep-telemetry      ST706\n",
       "10  ST7071J0-PSG.edf  ST7071JA-Hypnogram.edf  sleep-telemetry      ST707\n",
       "11  ST7072J0-PSG.edf  ST7072JA-Hypnogram.edf  sleep-telemetry      ST707\n",
       "12  ST7081J0-PSG.edf  ST7081JW-Hypnogram.edf  sleep-telemetry      ST708\n",
       "13  ST7082J0-PSG.edf  ST7082JW-Hypnogram.edf  sleep-telemetry      ST708\n",
       "14  ST7091J0-PSG.edf  ST7091JE-Hypnogram.edf  sleep-telemetry      ST709\n",
       "15  ST7092J0-PSG.edf  ST7092JE-Hypnogram.edf  sleep-telemetry      ST709\n",
       "16  ST7101J0-PSG.edf  ST7101JE-Hypnogram.edf  sleep-telemetry      ST710\n",
       "17  ST7102J0-PSG.edf  ST7102JE-Hypnogram.edf  sleep-telemetry      ST710\n",
       "18  ST7111J0-PSG.edf  ST7111JE-Hypnogram.edf  sleep-telemetry      ST711\n",
       "19  ST7112J0-PSG.edf  ST7112JE-Hypnogram.edf  sleep-telemetry      ST711\n",
       "20  ST7121J0-PSG.edf  ST7121JE-Hypnogram.edf  sleep-telemetry      ST712\n",
       "21  ST7122J0-PSG.edf  ST7122JE-Hypnogram.edf  sleep-telemetry      ST712\n",
       "22  ST7131J0-PSG.edf  ST7131JR-Hypnogram.edf  sleep-telemetry      ST713\n",
       "23  ST7132J0-PSG.edf  ST7132JR-Hypnogram.edf  sleep-telemetry      ST713\n",
       "24  ST7141J0-PSG.edf  ST7141JE-Hypnogram.edf  sleep-telemetry      ST714\n",
       "25  ST7142J0-PSG.edf  ST7142JE-Hypnogram.edf  sleep-telemetry      ST714\n",
       "26  ST7151J0-PSG.edf  ST7151JA-Hypnogram.edf  sleep-telemetry      ST715\n",
       "27  ST7152J0-PSG.edf  ST7152JA-Hypnogram.edf  sleep-telemetry      ST715\n",
       "28  ST7161J0-PSG.edf  ST7161JM-Hypnogram.edf  sleep-telemetry      ST716\n",
       "29  ST7162J0-PSG.edf  ST7162JM-Hypnogram.edf  sleep-telemetry      ST716\n",
       "30  ST7171J0-PSG.edf  ST7171JA-Hypnogram.edf  sleep-telemetry      ST717\n",
       "31  ST7172J0-PSG.edf  ST7172JA-Hypnogram.edf  sleep-telemetry      ST717\n",
       "32  ST7181J0-PSG.edf  ST7181JR-Hypnogram.edf  sleep-telemetry      ST718\n",
       "33  ST7182J0-PSG.edf  ST7182JR-Hypnogram.edf  sleep-telemetry      ST718\n",
       "34  ST7191J0-PSG.edf  ST7191JR-Hypnogram.edf  sleep-telemetry      ST719\n",
       "35  ST7192J0-PSG.edf  ST7192JR-Hypnogram.edf  sleep-telemetry      ST719\n",
       "36  ST7201J0-PSG.edf  ST7201JO-Hypnogram.edf  sleep-telemetry      ST720\n",
       "37  ST7202J0-PSG.edf  ST7202JO-Hypnogram.edf  sleep-telemetry      ST720\n",
       "38  ST7211J0-PSG.edf  ST7211JJ-Hypnogram.edf  sleep-telemetry      ST721\n",
       "39  ST7212J0-PSG.edf  ST7212JJ-Hypnogram.edf  sleep-telemetry      ST721\n",
       "40  ST7221J0-PSG.edf  ST7221JA-Hypnogram.edf  sleep-telemetry      ST722\n",
       "41  ST7222J0-PSG.edf  ST7222JA-Hypnogram.edf  sleep-telemetry      ST722\n",
       "42  ST7241J0-PSG.edf  ST7241JO-Hypnogram.edf  sleep-telemetry      ST724\n",
       "43  ST7242J0-PSG.edf  ST7242JO-Hypnogram.edf  sleep-telemetry      ST724"
      ]
     },
     "execution_count": 11,
     "metadata": {},
     "output_type": "execute_result"
    }
   ],
   "source": [
    "dfs = []\n",
    "sub_folder = \"sleep-telemetry\"\n",
    "sorted_files = sorted(os.listdir(data_folder + sub_folder))\n",
    "psg_hypnogram_files = [(p, h) for p, h in zip(sorted_files[::2], sorted_files[1:][::2])]\n",
    "df_files = pd.DataFrame(psg_hypnogram_files, columns=[\"psg_file\", \"label_file\"])\n",
    "df_files[\"subfolder\"] = sub_folder\n",
    "    \n",
    "# Because for the SC study patients were monitored for 2 consecutive nights\n",
    "df_files[\"patient_id\"] = df_files.psg_file.apply(lambda f: f[:5])\n",
    "df_files"
   ]
  },
  {
   "cell_type": "code",
   "execution_count": 12,
   "metadata": {},
   "outputs": [
    {
     "data": {
      "text/plain": [
       "22"
      ]
     },
     "execution_count": 12,
     "metadata": {},
     "output_type": "execute_result"
    }
   ],
   "source": [
    "df_files.patient_id.nunique()"
   ]
  },
  {
   "cell_type": "code",
   "execution_count": 13,
   "metadata": {},
   "outputs": [
    {
     "data": {
      "text/plain": [
       "44"
      ]
     },
     "execution_count": 13,
     "metadata": {},
     "output_type": "execute_result"
    }
   ],
   "source": [
    "df_files.psg_file.nunique()"
   ]
  },
  {
   "cell_type": "markdown",
   "metadata": {},
   "source": [
    "=> psg file can be used as recordingid   \n",
    "=> patient id can be used as patient id "
   ]
  },
  {
   "cell_type": "code",
   "execution_count": null,
   "metadata": {},
   "outputs": [],
   "source": []
  },
  {
   "cell_type": "code",
   "execution_count": 14,
   "metadata": {},
   "outputs": [
    {
     "data": {
      "text/plain": [
       "[(('EEG Fpz-Cz', 100), 44),\n",
       " (('EEG Pz-Oz', 100), 44),\n",
       " (('EOG horizontal', 100), 44),\n",
       " (('EMG submental', 100), 44),\n",
       " (('Marker', 10), 44)]"
      ]
     },
     "execution_count": 14,
     "metadata": {},
     "output_type": "execute_result"
    }
   ],
   "source": [
    "signal_dict = {}\n",
    "\n",
    "for idx in range(len(df_files)):\n",
    "    sig, freq = load_signals(\n",
    "        data_folder + df_files.iloc[idx].subfolder + \"/\" + df_files.iloc[idx].psg_file,\n",
    "        only_info=True,\n",
    "    )\n",
    "    for s, f in zip(sig, freq):\n",
    "        if (s, f) in signal_dict.keys():\n",
    "            signal_dict[(s, f)].append(idx)\n",
    "        else:\n",
    "            signal_dict[(s, f)] = [idx]\n",
    "\n",
    "[(k, len(v)) for k, v in signal_dict.items()]\n"
   ]
  },
  {
   "cell_type": "code",
   "execution_count": 15,
   "metadata": {},
   "outputs": [],
   "source": [
    "common_signals = [\n",
    "    'EEG Fpz-Cz', 'EEG Pz-Oz', 'EOG horizontal',  # All have the same sampling rate (100 Hz)\n",
    "    'EMG submental',  # Also 100 Hz\n",
    "]"
   ]
  },
  {
   "cell_type": "code",
   "execution_count": 16,
   "metadata": {},
   "outputs": [],
   "source": [
    "data = load_signals(\n",
    "    data_folder + df_files.iloc[0].subfolder + \"/\" + df_files.iloc[0].psg_file,\n",
    "    retrieve_signals=common_signals,\n",
    ")\n",
    "annotations = load_annotations(\n",
    "    data_folder + df_files.iloc[0].subfolder + \"/\" + df_files.iloc[0].label_file,\n",
    "    data_folder + df_files.iloc[0].subfolder + \"/\" + df_files.iloc[0].psg_file,\n",
    ")\n"
   ]
  },
  {
   "cell_type": "code",
   "execution_count": 17,
   "metadata": {},
   "outputs": [],
   "source": [
    "# Used for plotting\n",
    "cats = [\n",
    "    \"Sleep stage ?\",\n",
    "    \"Movement time\",\n",
    "    \"Sleep stage W\",\n",
    "    \"Sleep stage 1\",\n",
    "    \"Sleep stage 2\",\n",
    "    \"Sleep stage 3\",\n",
    "    \"Sleep stage 4\",\n",
    "    \"Sleep stage R\",\n",
    "][::-1]\n"
   ]
  },
  {
   "cell_type": "markdown",
   "metadata": {},
   "source": [
    "# EDA + pipeline (for 1 patient)"
   ]
  },
  {
   "cell_type": "code",
   "execution_count": 18,
   "metadata": {},
   "outputs": [
    {
     "name": "stdout",
     "output_type": "stream",
     "text": [
      "Dash app running on http://127.0.0.1:8043/\n"
     ]
    }
   ],
   "source": [
    "idxs = [s.name for s in data]\n",
    "\n",
    "fig = FigureResampler(\n",
    "    make_subplots(\n",
    "        rows=len(idxs) + 1,\n",
    "        cols=1,\n",
    "        shared_xaxes=True,\n",
    "        subplot_titles=idxs + [\"Hypnogram\"],\n",
    "        vertical_spacing=0.05,\n",
    "    ),\n",
    "    default_n_shown_samples=3_000,\n",
    ")\n",
    "\n",
    "for idx, s in enumerate(data, 1):\n",
    "    fig.add_trace(\n",
    "        go.Scattergl(\n",
    "            x=[], y=[], name=s.name, line_width=1,\n",
    "        ),\n",
    "        hf_x=s.index,\n",
    "        hf_y=s.values,\n",
    "        row=idx,\n",
    "        col=1,\n",
    "    )\n",
    "\n",
    "fig.add_trace(\n",
    "    go.Scattergl(\n",
    "        x=[], y=[], name=\"Hypnogram\", line_width=1.5, line_shape=\"hv\",\n",
    "    ),\n",
    "    hf_x=annotation_to_30s_labels(annotations).index,\n",
    "    hf_y=annotation_to_30s_labels(annotations)[\"label\"].astype(\"category\"),\n",
    "    row=len(idxs) + 1,\n",
    "    col=1,\n",
    ")\n",
    "\n",
    "fig.update_layout(height=900)\n",
    "fig.update_yaxes(categoryorder=\"array\", categoryarray=cats)\n",
    "\n",
    "fig.update_layout(\n",
    "    legend_traceorder=\"normal\",\n",
    "    template=\"plotly_white\",\n",
    "    #     legend=dict(orientation=\"h\", y=1.07, xanchor=\"right\", x=1),\n",
    ")\n",
    "\n",
    "fig.show_dash(port=8043)"
   ]
  },
  {
   "cell_type": "markdown",
   "metadata": {
    "tags": []
   },
   "source": [
    "## Process the signals"
   ]
  },
  {
   "cell_type": "code",
   "execution_count": 19,
   "metadata": {},
   "outputs": [
    {
     "data": {
      "text/plain": [
       "[\n",
       "\tbutter_bandpass_filter {'lowcut': 0.4, 'highcut': 30, 'fs': 100} :  ('EEG Fpz-Cz',) ('EEG Pz-Oz',) ('EOG horizontal',)\n",
       "\tbutter_bandpass_filter {'lowcut': 0.5, 'highcut': 10, 'fs': 100} :  ('EMG submental',)\n",
       "]"
      ]
     },
     "execution_count": 19,
     "metadata": {},
     "output_type": "execute_result"
    }
   ],
   "source": [
    "## Processing\n",
    "from scipy.signal import butter, lfilter\n",
    "\n",
    "from tsflex.processing import SeriesPipeline, SeriesProcessor\n",
    "\n",
    "\n",
    "def butter_bandpass_filter(sig, lowcut, highcut, fs, order=5):\n",
    "    nyq = 0.5 * fs\n",
    "    low = lowcut / nyq\n",
    "    high = highcut / nyq\n",
    "    b, a = butter(order, [low, high], btype=\"band\")\n",
    "    y = lfilter(b, a, sig)\n",
    "    return y\n",
    "\n",
    "eeg_bandpass = SeriesProcessor(\n",
    "    function=butter_bandpass_filter,\n",
    "    series_names=[\"EEG Fpz-Cz\", \"EEG Pz-Oz\", \"EOG horizontal\"],\n",
    "    lowcut=0.4,\n",
    "    highcut=30,\n",
    "    fs=100,\n",
    ")\n",
    "\n",
    "emg_bandpass = SeriesProcessor(\n",
    "    function=butter_bandpass_filter,\n",
    "    series_names=[\"EMG submental\"],\n",
    "    lowcut=0.5,\n",
    "    highcut=10,\n",
    "    fs=100,\n",
    ")\n",
    "\n",
    "process_pipe = SeriesPipeline(\n",
    "    [\n",
    "        eeg_bandpass,\n",
    "        emg_bandpass,\n",
    "    ]\n",
    ")\n",
    "\n",
    "process_pipe"
   ]
  },
  {
   "cell_type": "code",
   "execution_count": 20,
   "metadata": {},
   "outputs": [
    {
     "name": "stdout",
     "output_type": "stream",
     "text": [
      "CPU times: user 230 ms, sys: 37.1 ms, total: 267 ms\n",
      "Wall time: 266 ms\n"
     ]
    }
   ],
   "source": [
    "%%time\n",
    "data_processed = process_pipe.process(data, return_all_series=True)"
   ]
  },
  {
   "cell_type": "code",
   "execution_count": 21,
   "metadata": {},
   "outputs": [
    {
     "name": "stdout",
     "output_type": "stream",
     "text": [
      "Dash app running on http://127.0.0.1:8043/\n"
     ]
    }
   ],
   "source": [
    "for s in data_processed:\n",
    "    idx = idxs.index(s.name.split(\"_\")[-1]) + 1\n",
    "    fig.add_trace(\n",
    "        go.Scatter(x=[], y=[], name=s.name + \" processed\", line_width=1),\n",
    "        hf_x=s.index,\n",
    "        hf_y=s.values,\n",
    "        row=idx,\n",
    "        col=1,\n",
    "    )\n",
    "    \n",
    "fig.show_dash(port=8043)"
   ]
  },
  {
   "cell_type": "markdown",
   "metadata": {
    "tags": []
   },
   "source": [
    "## Extract the features"
   ]
  },
  {
   "cell_type": "code",
   "execution_count": 22,
   "metadata": {},
   "outputs": [
    {
     "data": {
      "text/plain": [
       "{'fft_aggregated': [{'aggtype': 'centroid'},\n",
       "  {'aggtype': 'variance'},\n",
       "  {'aggtype': 'skew'},\n",
       "  {'aggtype': 'kurtosis'}],\n",
       " 'fourier_entropy': [{'bins': 2},\n",
       "  {'bins': 3},\n",
       "  {'bins': 5},\n",
       "  {'bins': 10},\n",
       "  {'bins': 30},\n",
       "  {'bins': 60},\n",
       "  {'bins': 100}],\n",
       " 'binned_entropy': [{'max_bins': 5},\n",
       "  {'max_bins': 10},\n",
       "  {'max_bins': 30},\n",
       "  {'max_bins': 60}]}"
      ]
     },
     "execution_count": 22,
     "metadata": {},
     "output_type": "execute_result"
    }
   ],
   "source": [
    "# Create the collection of tsfresh features to extract\n",
    "\n",
    "tsfresh_settings = {\n",
    "    \"fft_aggregated\": [\n",
    "        {\"aggtype\": \"centroid\"},\n",
    "        {\"aggtype\": \"variance\"},\n",
    "        {\"aggtype\": \"skew\"},\n",
    "        {\"aggtype\": \"kurtosis\"},\n",
    "    ],\n",
    "    \"fourier_entropy\": [\n",
    "        {\"bins\": 2},\n",
    "        {\"bins\": 3},\n",
    "        {\"bins\": 5},\n",
    "        {\"bins\": 10},\n",
    "        {\"bins\": 30},\n",
    "        {\"bins\": 60},\n",
    "        {\"bins\": 100},\n",
    "    ],\n",
    "    \"binned_entropy\": [\n",
    "        {\"max_bins\": 5},\n",
    "        {\"max_bins\": 10},\n",
    "        {\"max_bins\": 30},\n",
    "        {\"max_bins\": 60},\n",
    "    ],\n",
    "}\n",
    "\n",
    "tsfresh_settings\n"
   ]
  },
  {
   "cell_type": "code",
   "execution_count": 23,
   "metadata": {
    "tags": []
   },
   "outputs": [],
   "source": [
    "import antropy as ant\n",
    "import scipy.stats as ss\n",
    "from yasa import bandpower\n",
    "\n",
    "import scipy.stats as ss\n",
    "from tsflex.features import (\n",
    "    FeatureCollection,\n",
    "    FuncWrapper,\n",
    "    MultipleFeatureDescriptors,\n",
    "    FuncWrapper,\n",
    ")\n",
    "from tsflex.features.integrations import tsfresh_settings_wrapper\n",
    "\n",
    "\n",
    "def wrapped_higuchi_fd(x):\n",
    "    x = np.array(x, dtype=\"float64\")\n",
    "    return ant.higuchi_fd(x)\n",
    "\n",
    "\n",
    "bands = [\n",
    "    (0.4, 1, \"sdelta\"),\n",
    "    (1, 4, \"fdelta\"),\n",
    "    (4, 8, \"theta\"),\n",
    "    (8, 12, \"alpha\"),\n",
    "    (12, 16, \"sigma\"),\n",
    "    (16, 30, \"beta\"),\n",
    "]\n",
    "bandpowers_ouputs = [b[2] for b in bands] + [\"TotalAbsPow\"]\n",
    "\n",
    "\n",
    "def wrapped_bandpowers(x, sf, bands):\n",
    "    return bandpower(x, sf=sf, bands=bands).values[0][:-2]\n",
    "\n",
    "\n",
    "time_funcs = [\n",
    "    np.std,\n",
    "    ss.iqr,\n",
    "    ss.skew,\n",
    "    ss.kurtosis,\n",
    "    ant.num_zerocross,\n",
    "    FuncWrapper(\n",
    "        ant.hjorth_params, output_names=[\"horth_mobility\", \"hjorth_complexity\"]\n",
    "    ),\n",
    "    wrapped_higuchi_fd,\n",
    "    ant.petrosian_fd,\n",
    "    ant.perm_entropy,\n",
    "] + tsfresh_settings_wrapper(tsfresh_settings)\n",
    "\n",
    "freq_funcs = [\n",
    "    FuncWrapper(wrapped_bandpowers, sf=100, bands=bands, output_names=bandpowers_ouputs)\n",
    "]\n",
    "\n",
    "time_feats = MultipleFeatureDescriptors(\n",
    "    time_funcs,\n",
    "    [\"EEG Fpz-Cz\", \"EEG Pz-Oz\", \"EOG horizontal\", \"EMG submental\"],\n",
    "    windows=[\"30s\", \"60s\", \"120s\"],\n",
    "    strides=\"30s\",\n",
    ")\n",
    "freq_feats = MultipleFeatureDescriptors(\n",
    "    freq_funcs,\n",
    "    [\"EEG Fpz-Cz\", \"EEG Pz-Oz\", \"EOG horizontal\"],\n",
    "    windows=[\"30s\", \"60s\", \"120s\"],\n",
    "    strides=\"30s\",\n",
    ")\n",
    "\n",
    "feature_collection = FeatureCollection([time_feats, freq_feats])\n",
    "# fc\n"
   ]
  },
  {
   "cell_type": "code",
   "execution_count": 24,
   "metadata": {},
   "outputs": [],
   "source": [
    "import logging\n",
    "\n",
    "from tsflex.features.logger import logger\n",
    "\n",
    "logger.setLevel(level=logging.ERROR)\n",
    "\n",
    "from tsflex.processing.logger import logger\n",
    "\n",
    "logger.setLevel(level=logging.ERROR)\n"
   ]
  },
  {
   "cell_type": "code",
   "execution_count": 25,
   "metadata": {
    "tags": []
   },
   "outputs": [
    {
     "data": {
      "application/vnd.jupyter.widget-view+json": {
       "model_id": "1299f0019992474daa16c61640477ea3",
       "version_major": 2,
       "version_minor": 0
      },
      "text/plain": [
       "  0%|          | 0/261 [00:00<?, ?it/s]"
      ]
     },
     "metadata": {},
     "output_type": "display_data"
    },
    {
     "data": {
      "text/html": [
       "<div>\n",
       "<style scoped>\n",
       "    .dataframe tbody tr th:only-of-type {\n",
       "        vertical-align: middle;\n",
       "    }\n",
       "\n",
       "    .dataframe tbody tr th {\n",
       "        vertical-align: top;\n",
       "    }\n",
       "\n",
       "    .dataframe thead th {\n",
       "        text-align: right;\n",
       "    }\n",
       "</style>\n",
       "<table border=\"1\" class=\"dataframe\">\n",
       "  <thead>\n",
       "    <tr style=\"text-align: right;\">\n",
       "      <th></th>\n",
       "      <th>EEG Fpz-Cz__TotalAbsPow__w=1m_s=30s</th>\n",
       "      <th>EEG Fpz-Cz__TotalAbsPow__w=2m_s=30s</th>\n",
       "      <th>EEG Fpz-Cz__TotalAbsPow__w=30s_s=30s</th>\n",
       "      <th>EEG Fpz-Cz__alpha__w=1m_s=30s</th>\n",
       "      <th>EEG Fpz-Cz__alpha__w=2m_s=30s</th>\n",
       "      <th>EEG Fpz-Cz__alpha__w=30s_s=30s</th>\n",
       "      <th>EEG Fpz-Cz__beta__w=1m_s=30s</th>\n",
       "      <th>EEG Fpz-Cz__beta__w=2m_s=30s</th>\n",
       "      <th>EEG Fpz-Cz__beta__w=30s_s=30s</th>\n",
       "      <th>EEG Fpz-Cz__binned_entropy_{'max_bins': 10}__w=1m_s=30s</th>\n",
       "      <th>...</th>\n",
       "      <th>EOG horizontal__skew__w=30s_s=30s</th>\n",
       "      <th>EOG horizontal__std__w=1m_s=30s</th>\n",
       "      <th>EOG horizontal__std__w=2m_s=30s</th>\n",
       "      <th>EOG horizontal__std__w=30s_s=30s</th>\n",
       "      <th>EOG horizontal__theta__w=1m_s=30s</th>\n",
       "      <th>EOG horizontal__theta__w=2m_s=30s</th>\n",
       "      <th>EOG horizontal__theta__w=30s_s=30s</th>\n",
       "      <th>EOG horizontal__wrapped_higuchi_fd__w=1m_s=30s</th>\n",
       "      <th>EOG horizontal__wrapped_higuchi_fd__w=2m_s=30s</th>\n",
       "      <th>EOG horizontal__wrapped_higuchi_fd__w=30s_s=30s</th>\n",
       "    </tr>\n",
       "  </thead>\n",
       "  <tbody>\n",
       "    <tr>\n",
       "      <th>1994-07-12 23:00:30</th>\n",
       "      <td>NaN</td>\n",
       "      <td>NaN</td>\n",
       "      <td>0.000129</td>\n",
       "      <td>NaN</td>\n",
       "      <td>NaN</td>\n",
       "      <td>0.001455</td>\n",
       "      <td>NaN</td>\n",
       "      <td>NaN</td>\n",
       "      <td>0.00123</td>\n",
       "      <td>NaN</td>\n",
       "      <td>...</td>\n",
       "      <td>-16.375955</td>\n",
       "      <td>NaN</td>\n",
       "      <td>NaN</td>\n",
       "      <td>9.131014e+01</td>\n",
       "      <td>NaN</td>\n",
       "      <td>NaN</td>\n",
       "      <td>0.004138</td>\n",
       "      <td>NaN</td>\n",
       "      <td>NaN</td>\n",
       "      <td>1.668797</td>\n",
       "    </tr>\n",
       "    <tr>\n",
       "      <th>1994-07-12 23:01:00</th>\n",
       "      <td>59.160905</td>\n",
       "      <td>NaN</td>\n",
       "      <td>430.740613</td>\n",
       "      <td>0.047708</td>\n",
       "      <td>NaN</td>\n",
       "      <td>0.012491</td>\n",
       "      <td>0.139694</td>\n",
       "      <td>NaN</td>\n",
       "      <td>0.027748</td>\n",
       "      <td>0.148398</td>\n",
       "      <td>...</td>\n",
       "      <td>-0.420953</td>\n",
       "      <td>7.912056e+01</td>\n",
       "      <td>NaN</td>\n",
       "      <td>6.467190e+01</td>\n",
       "      <td>0.087044</td>\n",
       "      <td>NaN</td>\n",
       "      <td>0.027942</td>\n",
       "      <td>1.559840</td>\n",
       "      <td>NaN</td>\n",
       "      <td>1.490229</td>\n",
       "    </tr>\n",
       "    <tr>\n",
       "      <th>1994-07-12 23:01:30</th>\n",
       "      <td>275.008346</td>\n",
       "      <td>NaN</td>\n",
       "      <td>163.929489</td>\n",
       "      <td>0.023462</td>\n",
       "      <td>NaN</td>\n",
       "      <td>0.045098</td>\n",
       "      <td>0.029236</td>\n",
       "      <td>NaN</td>\n",
       "      <td>0.034775</td>\n",
       "      <td>1.077765</td>\n",
       "      <td>...</td>\n",
       "      <td>0.516501</td>\n",
       "      <td>6.126265e+01</td>\n",
       "      <td>NaN</td>\n",
       "      <td>5.764924e+01</td>\n",
       "      <td>0.066995</td>\n",
       "      <td>NaN</td>\n",
       "      <td>0.056915</td>\n",
       "      <td>1.478861</td>\n",
       "      <td>NaN</td>\n",
       "      <td>1.461830</td>\n",
       "    </tr>\n",
       "    <tr>\n",
       "      <th>1994-07-12 23:02:00</th>\n",
       "      <td>60.26556</td>\n",
       "      <td>59.483989</td>\n",
       "      <td>48.112712</td>\n",
       "      <td>0.123613</td>\n",
       "      <td>0.086158</td>\n",
       "      <td>0.140403</td>\n",
       "      <td>0.100283</td>\n",
       "      <td>0.111048</td>\n",
       "      <td>0.137473</td>\n",
       "      <td>0.969259</td>\n",
       "      <td>...</td>\n",
       "      <td>-0.474760</td>\n",
       "      <td>5.134973e+01</td>\n",
       "      <td>6.669676e+01</td>\n",
       "      <td>4.414832e+01</td>\n",
       "      <td>0.069228</td>\n",
       "      <td>0.072615</td>\n",
       "      <td>0.075371</td>\n",
       "      <td>1.463777</td>\n",
       "      <td>1.518748</td>\n",
       "      <td>1.467424</td>\n",
       "    </tr>\n",
       "    <tr>\n",
       "      <th>1994-07-12 23:02:30</th>\n",
       "      <td>62.164828</td>\n",
       "      <td>77.648944</td>\n",
       "      <td>69.751903</td>\n",
       "      <td>0.128999</td>\n",
       "      <td>0.095438</td>\n",
       "      <td>0.154207</td>\n",
       "      <td>0.09944</td>\n",
       "      <td>0.087943</td>\n",
       "      <td>0.081213</td>\n",
       "      <td>0.912503</td>\n",
       "      <td>...</td>\n",
       "      <td>0.941957</td>\n",
       "      <td>3.561747e+01</td>\n",
       "      <td>5.010879e+01</td>\n",
       "      <td>2.423127e+01</td>\n",
       "      <td>0.090551</td>\n",
       "      <td>0.076312</td>\n",
       "      <td>0.100799</td>\n",
       "      <td>1.524624</td>\n",
       "      <td>1.496532</td>\n",
       "      <td>1.598236</td>\n",
       "    </tr>\n",
       "    <tr>\n",
       "      <th>...</th>\n",
       "      <td>...</td>\n",
       "      <td>...</td>\n",
       "      <td>...</td>\n",
       "      <td>...</td>\n",
       "      <td>...</td>\n",
       "      <td>...</td>\n",
       "      <td>...</td>\n",
       "      <td>...</td>\n",
       "      <td>...</td>\n",
       "      <td>...</td>\n",
       "      <td>...</td>\n",
       "      <td>...</td>\n",
       "      <td>...</td>\n",
       "      <td>...</td>\n",
       "      <td>...</td>\n",
       "      <td>...</td>\n",
       "      <td>...</td>\n",
       "      <td>...</td>\n",
       "      <td>...</td>\n",
       "      <td>...</td>\n",
       "      <td>...</td>\n",
       "    </tr>\n",
       "    <tr>\n",
       "      <th>1994-07-13 08:56:00</th>\n",
       "      <td>0.0</td>\n",
       "      <td>0.0</td>\n",
       "      <td>0.0</td>\n",
       "      <td>0.000402</td>\n",
       "      <td>0.000226</td>\n",
       "      <td>0.000454</td>\n",
       "      <td>0.000322</td>\n",
       "      <td>0.000181</td>\n",
       "      <td>0.000364</td>\n",
       "      <td>1.930830</td>\n",
       "      <td>...</td>\n",
       "      <td>-0.011193</td>\n",
       "      <td>3.468444e-07</td>\n",
       "      <td>3.880236e-07</td>\n",
       "      <td>3.681260e-07</td>\n",
       "      <td>0.000564</td>\n",
       "      <td>0.000494</td>\n",
       "      <td>0.000852</td>\n",
       "      <td>1.001069</td>\n",
       "      <td>1.000867</td>\n",
       "      <td>1.000949</td>\n",
       "    </tr>\n",
       "    <tr>\n",
       "      <th>1994-07-13 08:56:30</th>\n",
       "      <td>0.0</td>\n",
       "      <td>0.0</td>\n",
       "      <td>0.0</td>\n",
       "      <td>0.00044</td>\n",
       "      <td>0.000209</td>\n",
       "      <td>0.000376</td>\n",
       "      <td>0.000352</td>\n",
       "      <td>0.000168</td>\n",
       "      <td>0.000301</td>\n",
       "      <td>1.959112</td>\n",
       "      <td>...</td>\n",
       "      <td>0.067448</td>\n",
       "      <td>3.664674e-07</td>\n",
       "      <td>3.795429e-07</td>\n",
       "      <td>3.233459e-07</td>\n",
       "      <td>0.000456</td>\n",
       "      <td>0.000392</td>\n",
       "      <td>0.000201</td>\n",
       "      <td>1.001320</td>\n",
       "      <td>1.001323</td>\n",
       "      <td>1.001806</td>\n",
       "    </tr>\n",
       "    <tr>\n",
       "      <th>1994-07-13 08:57:00</th>\n",
       "      <td>0.0</td>\n",
       "      <td>0.0</td>\n",
       "      <td>0.0</td>\n",
       "      <td>0.000271</td>\n",
       "      <td>0.000349</td>\n",
       "      <td>0.000168</td>\n",
       "      <td>0.000217</td>\n",
       "      <td>0.00028</td>\n",
       "      <td>0.000134</td>\n",
       "      <td>2.054787</td>\n",
       "      <td>...</td>\n",
       "      <td>-0.509429</td>\n",
       "      <td>3.599661e-07</td>\n",
       "      <td>3.578874e-07</td>\n",
       "      <td>3.518555e-07</td>\n",
       "      <td>0.000207</td>\n",
       "      <td>0.000367</td>\n",
       "      <td>0.000294</td>\n",
       "      <td>1.001208</td>\n",
       "      <td>1.001047</td>\n",
       "      <td>1.001589</td>\n",
       "    </tr>\n",
       "    <tr>\n",
       "      <th>1994-07-13 08:57:30</th>\n",
       "      <td>0.0</td>\n",
       "      <td>0.0</td>\n",
       "      <td>0.0</td>\n",
       "      <td>0.000188</td>\n",
       "      <td>0.000319</td>\n",
       "      <td>0.000236</td>\n",
       "      <td>0.000151</td>\n",
       "      <td>0.000256</td>\n",
       "      <td>0.000189</td>\n",
       "      <td>2.124022</td>\n",
       "      <td>...</td>\n",
       "      <td>0.659906</td>\n",
       "      <td>3.353580e-07</td>\n",
       "      <td>3.546282e-07</td>\n",
       "      <td>3.149321e-07</td>\n",
       "      <td>0.00054</td>\n",
       "      <td>0.000365</td>\n",
       "      <td>0.000613</td>\n",
       "      <td>1.001866</td>\n",
       "      <td>1.001306</td>\n",
       "      <td>1.002720</td>\n",
       "    </tr>\n",
       "    <tr>\n",
       "      <th>1994-07-13 08:58:00</th>\n",
       "      <td>0.0</td>\n",
       "      <td>0.0</td>\n",
       "      <td>0.0</td>\n",
       "      <td>0.000198</td>\n",
       "      <td>0.000219</td>\n",
       "      <td>0.000169</td>\n",
       "      <td>0.000158</td>\n",
       "      <td>0.000176</td>\n",
       "      <td>0.000136</td>\n",
       "      <td>2.082010</td>\n",
       "      <td>...</td>\n",
       "      <td>-0.185616</td>\n",
       "      <td>3.331369e-07</td>\n",
       "      <td>3.483530e-07</td>\n",
       "      <td>3.503567e-07</td>\n",
       "      <td>0.00068</td>\n",
       "      <td>0.000443</td>\n",
       "      <td>0.00085</td>\n",
       "      <td>1.001621</td>\n",
       "      <td>1.001304</td>\n",
       "      <td>1.002232</td>\n",
       "    </tr>\n",
       "  </tbody>\n",
       "</table>\n",
       "<p>1196 rows × 363 columns</p>\n",
       "</div>"
      ],
      "text/plain": [
       "                    EEG Fpz-Cz__TotalAbsPow__w=1m_s=30s  \\\n",
       "1994-07-12 23:00:30                                 NaN   \n",
       "1994-07-12 23:01:00                           59.160905   \n",
       "1994-07-12 23:01:30                          275.008346   \n",
       "1994-07-12 23:02:00                            60.26556   \n",
       "1994-07-12 23:02:30                           62.164828   \n",
       "...                                                 ...   \n",
       "1994-07-13 08:56:00                                 0.0   \n",
       "1994-07-13 08:56:30                                 0.0   \n",
       "1994-07-13 08:57:00                                 0.0   \n",
       "1994-07-13 08:57:30                                 0.0   \n",
       "1994-07-13 08:58:00                                 0.0   \n",
       "\n",
       "                    EEG Fpz-Cz__TotalAbsPow__w=2m_s=30s  \\\n",
       "1994-07-12 23:00:30                                 NaN   \n",
       "1994-07-12 23:01:00                                 NaN   \n",
       "1994-07-12 23:01:30                                 NaN   \n",
       "1994-07-12 23:02:00                           59.483989   \n",
       "1994-07-12 23:02:30                           77.648944   \n",
       "...                                                 ...   \n",
       "1994-07-13 08:56:00                                 0.0   \n",
       "1994-07-13 08:56:30                                 0.0   \n",
       "1994-07-13 08:57:00                                 0.0   \n",
       "1994-07-13 08:57:30                                 0.0   \n",
       "1994-07-13 08:58:00                                 0.0   \n",
       "\n",
       "                    EEG Fpz-Cz__TotalAbsPow__w=30s_s=30s  \\\n",
       "1994-07-12 23:00:30                             0.000129   \n",
       "1994-07-12 23:01:00                           430.740613   \n",
       "1994-07-12 23:01:30                           163.929489   \n",
       "1994-07-12 23:02:00                            48.112712   \n",
       "1994-07-12 23:02:30                            69.751903   \n",
       "...                                                  ...   \n",
       "1994-07-13 08:56:00                                  0.0   \n",
       "1994-07-13 08:56:30                                  0.0   \n",
       "1994-07-13 08:57:00                                  0.0   \n",
       "1994-07-13 08:57:30                                  0.0   \n",
       "1994-07-13 08:58:00                                  0.0   \n",
       "\n",
       "                    EEG Fpz-Cz__alpha__w=1m_s=30s  \\\n",
       "1994-07-12 23:00:30                           NaN   \n",
       "1994-07-12 23:01:00                      0.047708   \n",
       "1994-07-12 23:01:30                      0.023462   \n",
       "1994-07-12 23:02:00                      0.123613   \n",
       "1994-07-12 23:02:30                      0.128999   \n",
       "...                                           ...   \n",
       "1994-07-13 08:56:00                      0.000402   \n",
       "1994-07-13 08:56:30                       0.00044   \n",
       "1994-07-13 08:57:00                      0.000271   \n",
       "1994-07-13 08:57:30                      0.000188   \n",
       "1994-07-13 08:58:00                      0.000198   \n",
       "\n",
       "                    EEG Fpz-Cz__alpha__w=2m_s=30s  \\\n",
       "1994-07-12 23:00:30                           NaN   \n",
       "1994-07-12 23:01:00                           NaN   \n",
       "1994-07-12 23:01:30                           NaN   \n",
       "1994-07-12 23:02:00                      0.086158   \n",
       "1994-07-12 23:02:30                      0.095438   \n",
       "...                                           ...   \n",
       "1994-07-13 08:56:00                      0.000226   \n",
       "1994-07-13 08:56:30                      0.000209   \n",
       "1994-07-13 08:57:00                      0.000349   \n",
       "1994-07-13 08:57:30                      0.000319   \n",
       "1994-07-13 08:58:00                      0.000219   \n",
       "\n",
       "                    EEG Fpz-Cz__alpha__w=30s_s=30s  \\\n",
       "1994-07-12 23:00:30                       0.001455   \n",
       "1994-07-12 23:01:00                       0.012491   \n",
       "1994-07-12 23:01:30                       0.045098   \n",
       "1994-07-12 23:02:00                       0.140403   \n",
       "1994-07-12 23:02:30                       0.154207   \n",
       "...                                            ...   \n",
       "1994-07-13 08:56:00                       0.000454   \n",
       "1994-07-13 08:56:30                       0.000376   \n",
       "1994-07-13 08:57:00                       0.000168   \n",
       "1994-07-13 08:57:30                       0.000236   \n",
       "1994-07-13 08:58:00                       0.000169   \n",
       "\n",
       "                    EEG Fpz-Cz__beta__w=1m_s=30s EEG Fpz-Cz__beta__w=2m_s=30s  \\\n",
       "1994-07-12 23:00:30                          NaN                          NaN   \n",
       "1994-07-12 23:01:00                     0.139694                          NaN   \n",
       "1994-07-12 23:01:30                     0.029236                          NaN   \n",
       "1994-07-12 23:02:00                     0.100283                     0.111048   \n",
       "1994-07-12 23:02:30                      0.09944                     0.087943   \n",
       "...                                          ...                          ...   \n",
       "1994-07-13 08:56:00                     0.000322                     0.000181   \n",
       "1994-07-13 08:56:30                     0.000352                     0.000168   \n",
       "1994-07-13 08:57:00                     0.000217                      0.00028   \n",
       "1994-07-13 08:57:30                     0.000151                     0.000256   \n",
       "1994-07-13 08:58:00                     0.000158                     0.000176   \n",
       "\n",
       "                    EEG Fpz-Cz__beta__w=30s_s=30s  \\\n",
       "1994-07-12 23:00:30                       0.00123   \n",
       "1994-07-12 23:01:00                      0.027748   \n",
       "1994-07-12 23:01:30                      0.034775   \n",
       "1994-07-12 23:02:00                      0.137473   \n",
       "1994-07-12 23:02:30                      0.081213   \n",
       "...                                           ...   \n",
       "1994-07-13 08:56:00                      0.000364   \n",
       "1994-07-13 08:56:30                      0.000301   \n",
       "1994-07-13 08:57:00                      0.000134   \n",
       "1994-07-13 08:57:30                      0.000189   \n",
       "1994-07-13 08:58:00                      0.000136   \n",
       "\n",
       "                     EEG Fpz-Cz__binned_entropy_{'max_bins': 10}__w=1m_s=30s  \\\n",
       "1994-07-12 23:00:30                                                NaN         \n",
       "1994-07-12 23:01:00                                           0.148398         \n",
       "1994-07-12 23:01:30                                           1.077765         \n",
       "1994-07-12 23:02:00                                           0.969259         \n",
       "1994-07-12 23:02:30                                           0.912503         \n",
       "...                                                                ...         \n",
       "1994-07-13 08:56:00                                           1.930830         \n",
       "1994-07-13 08:56:30                                           1.959112         \n",
       "1994-07-13 08:57:00                                           2.054787         \n",
       "1994-07-13 08:57:30                                           2.124022         \n",
       "1994-07-13 08:58:00                                           2.082010         \n",
       "\n",
       "                     ...  EOG horizontal__skew__w=30s_s=30s  \\\n",
       "1994-07-12 23:00:30  ...                         -16.375955   \n",
       "1994-07-12 23:01:00  ...                          -0.420953   \n",
       "1994-07-12 23:01:30  ...                           0.516501   \n",
       "1994-07-12 23:02:00  ...                          -0.474760   \n",
       "1994-07-12 23:02:30  ...                           0.941957   \n",
       "...                  ...                                ...   \n",
       "1994-07-13 08:56:00  ...                          -0.011193   \n",
       "1994-07-13 08:56:30  ...                           0.067448   \n",
       "1994-07-13 08:57:00  ...                          -0.509429   \n",
       "1994-07-13 08:57:30  ...                           0.659906   \n",
       "1994-07-13 08:58:00  ...                          -0.185616   \n",
       "\n",
       "                     EOG horizontal__std__w=1m_s=30s  \\\n",
       "1994-07-12 23:00:30                              NaN   \n",
       "1994-07-12 23:01:00                     7.912056e+01   \n",
       "1994-07-12 23:01:30                     6.126265e+01   \n",
       "1994-07-12 23:02:00                     5.134973e+01   \n",
       "1994-07-12 23:02:30                     3.561747e+01   \n",
       "...                                              ...   \n",
       "1994-07-13 08:56:00                     3.468444e-07   \n",
       "1994-07-13 08:56:30                     3.664674e-07   \n",
       "1994-07-13 08:57:00                     3.599661e-07   \n",
       "1994-07-13 08:57:30                     3.353580e-07   \n",
       "1994-07-13 08:58:00                     3.331369e-07   \n",
       "\n",
       "                     EOG horizontal__std__w=2m_s=30s  \\\n",
       "1994-07-12 23:00:30                              NaN   \n",
       "1994-07-12 23:01:00                              NaN   \n",
       "1994-07-12 23:01:30                              NaN   \n",
       "1994-07-12 23:02:00                     6.669676e+01   \n",
       "1994-07-12 23:02:30                     5.010879e+01   \n",
       "...                                              ...   \n",
       "1994-07-13 08:56:00                     3.880236e-07   \n",
       "1994-07-13 08:56:30                     3.795429e-07   \n",
       "1994-07-13 08:57:00                     3.578874e-07   \n",
       "1994-07-13 08:57:30                     3.546282e-07   \n",
       "1994-07-13 08:58:00                     3.483530e-07   \n",
       "\n",
       "                     EOG horizontal__std__w=30s_s=30s  \\\n",
       "1994-07-12 23:00:30                      9.131014e+01   \n",
       "1994-07-12 23:01:00                      6.467190e+01   \n",
       "1994-07-12 23:01:30                      5.764924e+01   \n",
       "1994-07-12 23:02:00                      4.414832e+01   \n",
       "1994-07-12 23:02:30                      2.423127e+01   \n",
       "...                                               ...   \n",
       "1994-07-13 08:56:00                      3.681260e-07   \n",
       "1994-07-13 08:56:30                      3.233459e-07   \n",
       "1994-07-13 08:57:00                      3.518555e-07   \n",
       "1994-07-13 08:57:30                      3.149321e-07   \n",
       "1994-07-13 08:58:00                      3.503567e-07   \n",
       "\n",
       "                     EOG horizontal__theta__w=1m_s=30s  \\\n",
       "1994-07-12 23:00:30                                NaN   \n",
       "1994-07-12 23:01:00                           0.087044   \n",
       "1994-07-12 23:01:30                           0.066995   \n",
       "1994-07-12 23:02:00                           0.069228   \n",
       "1994-07-12 23:02:30                           0.090551   \n",
       "...                                                ...   \n",
       "1994-07-13 08:56:00                           0.000564   \n",
       "1994-07-13 08:56:30                           0.000456   \n",
       "1994-07-13 08:57:00                           0.000207   \n",
       "1994-07-13 08:57:30                            0.00054   \n",
       "1994-07-13 08:58:00                            0.00068   \n",
       "\n",
       "                     EOG horizontal__theta__w=2m_s=30s  \\\n",
       "1994-07-12 23:00:30                                NaN   \n",
       "1994-07-12 23:01:00                                NaN   \n",
       "1994-07-12 23:01:30                                NaN   \n",
       "1994-07-12 23:02:00                           0.072615   \n",
       "1994-07-12 23:02:30                           0.076312   \n",
       "...                                                ...   \n",
       "1994-07-13 08:56:00                           0.000494   \n",
       "1994-07-13 08:56:30                           0.000392   \n",
       "1994-07-13 08:57:00                           0.000367   \n",
       "1994-07-13 08:57:30                           0.000365   \n",
       "1994-07-13 08:58:00                           0.000443   \n",
       "\n",
       "                     EOG horizontal__theta__w=30s_s=30s  \\\n",
       "1994-07-12 23:00:30                            0.004138   \n",
       "1994-07-12 23:01:00                            0.027942   \n",
       "1994-07-12 23:01:30                            0.056915   \n",
       "1994-07-12 23:02:00                            0.075371   \n",
       "1994-07-12 23:02:30                            0.100799   \n",
       "...                                                 ...   \n",
       "1994-07-13 08:56:00                            0.000852   \n",
       "1994-07-13 08:56:30                            0.000201   \n",
       "1994-07-13 08:57:00                            0.000294   \n",
       "1994-07-13 08:57:30                            0.000613   \n",
       "1994-07-13 08:58:00                             0.00085   \n",
       "\n",
       "                     EOG horizontal__wrapped_higuchi_fd__w=1m_s=30s  \\\n",
       "1994-07-12 23:00:30                                             NaN   \n",
       "1994-07-12 23:01:00                                        1.559840   \n",
       "1994-07-12 23:01:30                                        1.478861   \n",
       "1994-07-12 23:02:00                                        1.463777   \n",
       "1994-07-12 23:02:30                                        1.524624   \n",
       "...                                                             ...   \n",
       "1994-07-13 08:56:00                                        1.001069   \n",
       "1994-07-13 08:56:30                                        1.001320   \n",
       "1994-07-13 08:57:00                                        1.001208   \n",
       "1994-07-13 08:57:30                                        1.001866   \n",
       "1994-07-13 08:58:00                                        1.001621   \n",
       "\n",
       "                     EOG horizontal__wrapped_higuchi_fd__w=2m_s=30s  \\\n",
       "1994-07-12 23:00:30                                             NaN   \n",
       "1994-07-12 23:01:00                                             NaN   \n",
       "1994-07-12 23:01:30                                             NaN   \n",
       "1994-07-12 23:02:00                                        1.518748   \n",
       "1994-07-12 23:02:30                                        1.496532   \n",
       "...                                                             ...   \n",
       "1994-07-13 08:56:00                                        1.000867   \n",
       "1994-07-13 08:56:30                                        1.001323   \n",
       "1994-07-13 08:57:00                                        1.001047   \n",
       "1994-07-13 08:57:30                                        1.001306   \n",
       "1994-07-13 08:58:00                                        1.001304   \n",
       "\n",
       "                     EOG horizontal__wrapped_higuchi_fd__w=30s_s=30s  \n",
       "1994-07-12 23:00:30                                         1.668797  \n",
       "1994-07-12 23:01:00                                         1.490229  \n",
       "1994-07-12 23:01:30                                         1.461830  \n",
       "1994-07-12 23:02:00                                         1.467424  \n",
       "1994-07-12 23:02:30                                         1.598236  \n",
       "...                                                              ...  \n",
       "1994-07-13 08:56:00                                         1.000949  \n",
       "1994-07-13 08:56:30                                         1.001806  \n",
       "1994-07-13 08:57:00                                         1.001589  \n",
       "1994-07-13 08:57:30                                         1.002720  \n",
       "1994-07-13 08:58:00                                         1.002232  \n",
       "\n",
       "[1196 rows x 363 columns]"
      ]
     },
     "execution_count": 25,
     "metadata": {},
     "output_type": "execute_result"
    }
   ],
   "source": [
    "# %%time\n",
    "feats = feature_collection.calculate(data_processed, return_df=True, show_progress=True)\n",
    "feats"
   ]
  },
  {
   "cell_type": "markdown",
   "metadata": {
    "tags": []
   },
   "source": [
    "# Pipeline for all patients"
   ]
  },
  {
   "cell_type": "code",
   "execution_count": 26,
   "metadata": {
    "tags": []
   },
   "outputs": [
    {
     "data": {
      "application/vnd.jupyter.widget-view+json": {
       "model_id": "6e319f6d1c094e6b9f084208413d9d9d",
       "version_major": 2,
       "version_minor": 0
      },
      "text/plain": [
       "0it [00:00, ?it/s]"
      ]
     },
     "metadata": {},
     "output_type": "display_data"
    }
   ],
   "source": [
    "from tqdm.auto import tqdm\n",
    "\n",
    "df_feats = []\n",
    "for sub_folder, psg_file, hypnogram_file in tqdm(zip(df_files.subfolder, df_files.psg_file, df_files.label_file)):\n",
    "    file_folder = data_folder + sub_folder + \"/\"\n",
    "    # Load the data, process the data and extract features\n",
    "    data = load_signals(file_folder + psg_file)\n",
    "    data_processed = process_pipe.process(data)\n",
    "    df_feat = feature_collection.calculate(\n",
    "        data_processed, return_df=True, window_idx=\"begin\"\n",
    "    ).astype(\"float32\")\n",
    "    # Add the labels (and reduce features to only data for which we have labels)\n",
    "    annotations = load_annotations(file_folder + hypnogram_file, file_folder + psg_file)\n",
    "    annotations = annotation_to_30s_labels(annotations)\n",
    "    df_feat = df_feat.merge(annotations, left_index=True, right_index=True)\n",
    "    # Add the file name & folder\n",
    "    df_feat[\"psg_file\"] = psg_file\n",
    "    df_feat[\"patient_id\"] = psg_file[:5]\n",
    "    # Collect the dataframes\n",
    "    df_feats += [df_feat]\n",
    "\n",
    "df_feats = pd.concat(df_feats)\n",
    "df_feats.rename(columns={\"description\": \"label\"}, inplace=True)"
   ]
  },
  {
   "cell_type": "code",
   "execution_count": 27,
   "metadata": {},
   "outputs": [],
   "source": [
    "df_feats.to_parquet(\"../features/sleep-edf__telemetry_features_ALL.parquet\")"
   ]
  },
  {
   "cell_type": "markdown",
   "metadata": {},
   "source": [
    "## Load data"
   ]
  },
  {
   "cell_type": "code",
   "execution_count": 28,
   "metadata": {},
   "outputs": [
    {
     "data": {
      "text/plain": [
       "(42839, 366)"
      ]
     },
     "execution_count": 28,
     "metadata": {},
     "output_type": "execute_result"
    }
   ],
   "source": [
    "df_feats = pd.read_parquet(\"../features/sleep-edf__telemetry_features_ALL.parquet\")\n",
    "df_feats.shape"
   ]
  },
  {
   "cell_type": "code",
   "execution_count": 29,
   "metadata": {},
   "outputs": [
    {
     "data": {
      "text/plain": [
       "Sleep stage 2    19851\n",
       "Sleep stage R     8349\n",
       "Sleep stage W     4488\n",
       "Sleep stage 1     3653\n",
       "Sleep stage 3     3398\n",
       "Sleep stage 4     3017\n",
       "Movement time       83\n",
       "Name: label, dtype: int64"
      ]
     },
     "execution_count": 29,
     "metadata": {},
     "output_type": "execute_result"
    }
   ],
   "source": [
    "df_feats[\"label\"].value_counts()"
   ]
  },
  {
   "cell_type": "code",
   "execution_count": 30,
   "metadata": {},
   "outputs": [
    {
     "data": {
      "text/plain": [
       "0"
      ]
     },
     "execution_count": 30,
     "metadata": {},
     "output_type": "execute_result"
    }
   ],
   "source": [
    "df_feats[~df_feats.psg_file.isin(df_files.psg_file.unique())].psg_file.nunique()"
   ]
  },
  {
   "cell_type": "code",
   "execution_count": 31,
   "metadata": {},
   "outputs": [
    {
     "name": "stdout",
     "output_type": "stream",
     "text": [
      "<class 'pandas.core.frame.DataFrame'>\n",
      "DatetimeIndex: 42839 entries, 1994-07-12 23:00:00 to 1994-09-16 07:44:00\n",
      "Columns: 366 entries, EEG Fpz-Cz__TotalAbsPow__w=1m_s=30s to patient_id\n",
      "dtypes: float32(363), object(3)\n",
      "memory usage: 60.6+ MB\n"
     ]
    }
   ],
   "source": [
    "df_feats.info()"
   ]
  },
  {
   "cell_type": "code",
   "execution_count": 32,
   "metadata": {
    "tags": []
   },
   "outputs": [
    {
     "data": {
      "text/plain": [
       "(42839, 396)"
      ]
     },
     "execution_count": 32,
     "metadata": {},
     "output_type": "execute_result"
    }
   ],
   "source": [
    "eeg_signals = [d.name for d in data_processed if \"EEG\" in d.name]\n",
    "bands = [\"alpha\", \"beta\", \"sdelta\", \"fdelta\", \"sigma\", \"theta\"]\n",
    "for eeg_sig in eeg_signals:\n",
    "    eeg_bands = [c for c in df_feats.columns if c.startswith(eeg_sig) and c.split(\"__\")[1] in bands]\n",
    "    windows = sorted(set(b.split(\"__\")[-1] for b in eeg_bands))\n",
    "    for window in windows:\n",
    "        # Select the spectral powers\n",
    "        delta = df_feats[\"__\".join([eeg_sig, \"sdelta\", window])] + df_feats[\"__\".join([eeg_sig, \"fdelta\", window])]\n",
    "        fdelta_theta = df_feats[\"__\".join([eeg_sig, \"fdelta\", window])] + df_feats[\"__\".join([eeg_sig, \"theta\", window])]\n",
    "        alpha = df_feats[\"__\".join([eeg_sig, \"alpha\", window])]\n",
    "        beta = df_feats[\"__\".join([eeg_sig, \"beta\", window])]\n",
    "        theta = df_feats[\"__\".join([eeg_sig, \"theta\", window])]\n",
    "        sigma = df_feats[\"__\".join([eeg_sig, \"sigma\", window])]\n",
    "        # Calculate the ratios\n",
    "        df_feats[\"__\".join([eeg_sig, \"fdelta+theta\", window])] = fdelta_theta.astype(\"float32\")        \n",
    "\n",
    "        df_feats[\"__\".join([eeg_sig, \"alpha/theta\", window])] = (alpha / theta).astype(\"float32\")\n",
    "        df_feats[\"__\".join([eeg_sig, \"delta/beta\", window])] = (delta / beta).astype(\"float32\")\n",
    "        df_feats[\"__\".join([eeg_sig, \"delta/sigma\", window])] = (delta / sigma).astype(\"float32\")\n",
    "        df_feats[\"__\".join([eeg_sig, \"delta/theta\", window])] = (delta / theta).astype(\"float32\")\n",
    "df_feats.shape"
   ]
  },
  {
   "cell_type": "code",
   "execution_count": 33,
   "metadata": {},
   "outputs": [],
   "source": [
    "skip_cols = [\"psg_file\", \"label\", \"patient_id\"]\n",
    "feat_cols = [c for c in df_feats.columns if c not in skip_cols]"
   ]
  },
  {
   "cell_type": "code",
   "execution_count": 34,
   "metadata": {},
   "outputs": [
    {
     "data": {
      "text/plain": [
       "(42839, 920)"
      ]
     },
     "execution_count": 34,
     "metadata": {},
     "output_type": "execute_result"
    }
   ],
   "source": [
    "# Add the 30s features from the minute before and the minute after the epoch (= current sample of 30s) to the epoch\n",
    "feats_30s = [f for f in df_feats.columns if \"w=30s\" in f]\n",
    "dfs = []\n",
    "for psg_file in df_feats.psg_file.unique():\n",
    "    sub_df = df_feats[df_feats.psg_file == psg_file]\n",
    "    sub_df = sub_df.merge(sub_df[feats_30s].shift(2).add_suffix(\"_shift=1m\"), left_index=True, right_index=True)\n",
    "    sub_df = sub_df.merge(sub_df[feats_30s].shift(1).add_suffix(\"_shift=30s\"), left_index=True, right_index=True)\n",
    "    sub_df = sub_df.merge(sub_df[feats_30s].shift(-1).add_suffix(\"_shift=-30s\"), left_index=True, right_index=True)\n",
    "    sub_df = sub_df.merge(sub_df[feats_30s].shift(-2).add_suffix(\"_shift=-1m\"), left_index=True, right_index=True)\n",
    "    dfs += [sub_df]\n",
    "df_feats = pd.concat(dfs)\n",
    "df_feats.shape"
   ]
  },
  {
   "cell_type": "code",
   "execution_count": 35,
   "metadata": {},
   "outputs": [
    {
     "name": "stdout",
     "output_type": "stream",
     "text": [
      "<class 'pandas.core.frame.DataFrame'>\n",
      "DatetimeIndex: 42839 entries, 1994-07-12 23:00:00 to 1994-09-16 07:44:00\n",
      "Columns: 920 entries, EEG Fpz-Cz__TotalAbsPow__w=1m_s=30s to EEG Pz-Oz__delta/theta__w=30s_s=30s_shift=-1m\n",
      "dtypes: float32(917), object(3)\n",
      "memory usage: 151.2+ MB\n"
     ]
    }
   ],
   "source": [
    "df_feats.info()"
   ]
  },
  {
   "cell_type": "code",
   "execution_count": 36,
   "metadata": {},
   "outputs": [],
   "source": [
    "# Postprocess labels\n",
    "df_feats.loc[df_feats[\"label\"] == \"Sleep stage 4\", \"label\"] = \"Sleep stage 3\"\n",
    "df_feats = df_feats[df_feats[\"label\"] != \"Movement time\"]\n",
    "df_feats = df_feats[df_feats[\"label\"] != \"Sleep stage ?\"]  # Label that is given when recording is done / end of the night\n",
    "\n",
    "df_feats = df_feats[~df_feats[\"label\"].isna()]"
   ]
  },
  {
   "cell_type": "code",
   "execution_count": 37,
   "metadata": {},
   "outputs": [
    {
     "data": {
      "text/plain": [
       "(42756, 920)"
      ]
     },
     "execution_count": 37,
     "metadata": {},
     "output_type": "execute_result"
    }
   ],
   "source": [
    "df_feats.shape"
   ]
  },
  {
   "cell_type": "markdown",
   "metadata": {},
   "source": [
    "Matches with the samples from the paper"
   ]
  },
  {
   "cell_type": "markdown",
   "metadata": {},
   "source": [
    "The trimmed wake value count now matches (roughly) the amount of the IITNet paper"
   ]
  },
  {
   "cell_type": "markdown",
   "metadata": {
    "tags": []
   },
   "source": [
    "## EDA on labels"
   ]
  },
  {
   "cell_type": "code",
   "execution_count": 38,
   "metadata": {},
   "outputs": [
    {
     "data": {
      "text/plain": [
       "<AxesSubplot:>"
      ]
     },
     "execution_count": 38,
     "metadata": {},
     "output_type": "execute_result"
    },
    {
     "data": {
      "image/png": "[encoded data removed]",
      "text/plain": [
       "<Figure size 432x288 with 1 Axes>"
      ]
     },
     "metadata": {
      "needs_background": "light"
     },
     "output_type": "display_data"
    }
   ],
   "source": [
    "df_feats[\"label\"].value_counts().plot(kind=\"bar\")"
   ]
  },
  {
   "cell_type": "code",
   "execution_count": 39,
   "metadata": {},
   "outputs": [
    {
     "data": {
      "text/plain": [
       "Sleep stage 2    19851\n",
       "Sleep stage R     8349\n",
       "Sleep stage 3     6415\n",
       "Sleep stage W     4488\n",
       "Sleep stage 1     3653\n",
       "Name: label, dtype: int64"
      ]
     },
     "execution_count": 39,
     "metadata": {},
     "output_type": "execute_result"
    }
   ],
   "source": [
    "df_feats[\"label\"].value_counts()"
   ]
  },
  {
   "cell_type": "markdown",
   "metadata": {},
   "source": [
    "=> There is quite some label imbalance"
   ]
  },
  {
   "cell_type": "markdown",
   "metadata": {},
   "source": [
    "## EDA on features"
   ]
  },
  {
   "cell_type": "code",
   "execution_count": 40,
   "metadata": {},
   "outputs": [],
   "source": [
    "skip_cols = [\"psg_file\", \"label\", \"patient_id\"]\n",
    "feat_cols = [c for c in df_feats.columns if c not in skip_cols]"
   ]
  },
  {
   "cell_type": "code",
   "execution_count": 41,
   "metadata": {
    "tags": []
   },
   "outputs": [],
   "source": [
    "import math\n",
    "\n",
    "import matplotlib.pyplot as plt\n",
    "\n",
    "plot_cols = [c for c in feat_cols if not \"_shift=\" in c]\n",
    "\n",
    "# n_cols = 10\n",
    "# n_rows = math.ceil(len(plot_cols) / n_cols)\n",
    "# plt.figure(figsize=(n_cols * 4.5, n_rows * 4.5))\n",
    "\n",
    "# for idx, col in enumerate(plot_cols):\n",
    "#     plt.subplot(n_rows, n_cols, idx + 1)\n",
    "#     plt.boxplot(df_feats[col].dropna(), vert=True)\n",
    "#     plt.xlabel(col)\n",
    "\n",
    "# plt.tight_layout()\n",
    "# plt.show()"
   ]
  },
  {
   "cell_type": "markdown",
   "metadata": {
    "tags": []
   },
   "source": [
    "# ML"
   ]
  },
  {
   "cell_type": "code",
   "execution_count": 42,
   "metadata": {},
   "outputs": [],
   "source": [
    "from sklearn.impute import SimpleImputer\n",
    "from sklearn.metrics import (\n",
    "    accuracy_score,\n",
    "    classification_report,\n",
    "    f1_score,\n",
    "    cohen_kappa_score,\n",
    "    log_loss,\n",
    ")\n",
    "from sklearn.model_selection import GroupKFold, StratifiedGroupKFold, cross_validate\n",
    "from sklearn.pipeline import Pipeline\n",
    "from sklearn.preprocessing import QuantileTransformer\n",
    "\n",
    "from sklearn.linear_model import SGDClassifier\n",
    "from sklearn.feature_selection import SelectFpr, chi2"
   ]
  },
  {
   "cell_type": "code",
   "execution_count": 44,
   "metadata": {},
   "outputs": [],
   "source": [
    "from ml_tools.visualizations.models_linear import plot_linear_classification_coefs\n",
    "from ml_tools.visualizations.models import plot_learning_curve\n",
    "from ml_tools.visualizations.evaluation import plot_confusion_matrix"
   ]
  },
  {
   "cell_type": "markdown",
   "metadata": {
    "tags": []
   },
   "source": [
    "## The simple, linear pipeline"
   ]
  },
  {
   "cell_type": "code",
   "execution_count": 45,
   "metadata": {},
   "outputs": [],
   "source": [
    "### Create pipeline\n",
    "pipe = Pipeline(\n",
    "    [\n",
    "        (\"impute\", SimpleImputer()),\n",
    "        (\"scale\", QuantileTransformer()),\n",
    "        (\"selector\", SelectFpr(chi2, alpha=1e-5)),\n",
    "        (\n",
    "            \"linear_model\",\n",
    "            SGDClassifier(\n",
    "                loss=\"log\",\n",
    "                average=True,\n",
    "                class_weight=\"balanced\",\n",
    "                n_jobs=5,\n",
    "                random_state=0,\n",
    "            ),\n",
    "        ),\n",
    "    ]\n",
    ")"
   ]
  },
  {
   "cell_type": "markdown",
   "metadata": {},
   "source": [
    "### Grouped 10-fold results for all the data"
   ]
  },
  {
   "cell_type": "code",
   "execution_count": 46,
   "metadata": {
    "tags": []
   },
   "outputs": [],
   "source": [
    "# Total of 10 folds\n",
    "gkfold = StratifiedGroupKFold(n_splits=10)\n",
    "cv = gkfold.split(df_feats, df_feats[\"label\"], groups=df_feats.patient_id)\n",
    "\n",
    "res = cross_validate(\n",
    "    pipe,\n",
    "    df_feats[feat_cols],\n",
    "    df_feats[\"label\"],\n",
    "    scoring=[\"f1_macro\", \"balanced_accuracy\", \"accuracy\", \"neg_log_loss\"],\n",
    "    cv=cv,\n",
    "    n_jobs=25,\n",
    "    return_train_score=True,\n",
    "    return_estimator=True,\n",
    ")"
   ]
  },
  {
   "cell_type": "code",
   "execution_count": 47,
   "metadata": {},
   "outputs": [
    {
     "name": "stdout",
     "output_type": "stream",
     "text": [
      "10-FOLD: TRAIN\n",
      "  MACRO F1:           0.8435\n",
      "  Balanced accuracy:  0.8481\n",
      "  Accuracy:           0.8723\n",
      "  Log loss:           0.5986\n"
     ]
    }
   ],
   "source": [
    "print(\"10-FOLD: TRAIN\")\n",
    "print(\"  MACRO F1:          \", round(np.mean(res[\"train_f1_macro\"]), 4))\n",
    "print(\"  Balanced accuracy: \", round(np.mean(res[\"train_balanced_accuracy\"]), 4))\n",
    "print(\"  Accuracy:          \", round(np.mean(res[\"train_accuracy\"]), 4))\n",
    "print(\"  Log loss:          \", round(np.mean(-1 * res[\"train_neg_log_loss\"]), 4))"
   ]
  },
  {
   "cell_type": "code",
   "execution_count": 48,
   "metadata": {
    "tags": []
   },
   "outputs": [
    {
     "name": "stdout",
     "output_type": "stream",
     "text": [
      "10-FOLD: TEST\n",
      "  MACRO F1:           0.7936\n",
      "  Balanced accuracy:  0.8042\n",
      "  Accuracy:           0.8311\n",
      "  Log loss:           0.9901\n"
     ]
    }
   ],
   "source": [
    "print(\"10-FOLD: TEST\")\n",
    "print(\"  MACRO F1:          \", round(np.mean(res[\"test_f1_macro\"]), 4))\n",
    "print(\"  Balanced accuracy: \", round(np.mean(res[\"test_balanced_accuracy\"]), 4))\n",
    "print(\"  Accuracy:          \", round(np.mean(res[\"test_accuracy\"]), 4))\n",
    "print(\"  Log loss:          \", round(np.mean(-1 * res[\"test_neg_log_loss\"]), 4))"
   ]
  },
  {
   "cell_type": "code",
   "execution_count": 49,
   "metadata": {
    "tags": []
   },
   "outputs": [],
   "source": [
    "preds = []\n",
    "preds_proba = []\n",
    "y_trues = []\n",
    "selected_feats = []\n",
    "cv = gkfold.split(df_feats, df_feats[\"label\"], groups=df_feats.patient_id)\n",
    "for fold_ix, (train_idx, test_idx) in enumerate(cv):\n",
    "    X_train = df_feats[feat_cols].iloc[train_idx]\n",
    "    y_train = df_feats[\"label\"].iloc[train_idx]\n",
    "    X_test = df_feats[feat_cols].iloc[test_idx]\n",
    "    y_test = df_feats[\"label\"].iloc[test_idx]\n",
    "    \n",
    "    estimator = res[\"estimator\"][fold_ix]\n",
    "    preds += [estimator.predict(X_test)]\n",
    "    preds_proba += [estimator.predict_proba(X_test)]\n",
    "    y_trues += [y_test]\n",
    "    selected_feats += [np.array(feat_cols)[estimator[\"selector\"].get_support()]]\n",
    "\n",
    "preds = np.hstack(preds)\n",
    "y_trues = np.hstack(y_trues)\n",
    "preds_proba = np.vstack(preds_proba)"
   ]
  },
  {
   "cell_type": "code",
   "execution_count": 50,
   "metadata": {},
   "outputs": [
    {
     "name": "stdout",
     "output_type": "stream",
     "text": [
      "917 features in total\n",
      "fold 0  901 features selected\n",
      "fold 1  901 features selected\n",
      "fold 2  898 features selected\n",
      "fold 3  901 features selected\n",
      "fold 4  901 features selected\n",
      "fold 5  901 features selected\n",
      "fold 6  901 features selected\n",
      "fold 7  900 features selected\n",
      "fold 8  899 features selected\n",
      "fold 9  900 features selected\n",
      "\n",
      "897 features in intersection\n",
      "902 features in union\n"
     ]
    },
    {
     "data": {
      "text/plain": [
       "Text(0.5, 0, 'times selected')"
      ]
     },
     "execution_count": 50,
     "metadata": {},
     "output_type": "execute_result"
    },
    {
     "data": {
      "image/png": "[encoded data removed]",
      "text/plain": [
       "<Figure size 1008x360 with 1 Axes>"
      ]
     },
     "metadata": {
      "needs_background": "light"
     },
     "output_type": "display_data"
    }
   ],
   "source": [
    "print(f\"{len(feat_cols)} features in total\")\n",
    "\n",
    "selection_df = pd.DataFrame(data=set.union(*map(set, selected_feats)), columns=[\"feature\"])\n",
    "selection_df[\"times_selected\"] = 0\n",
    "\n",
    "for fold, feats in enumerate(selected_feats):\n",
    "    print(f\"fold {fold}  {len(feats)} features selected\")\n",
    "    selection_df.loc[selection_df.feature.isin(feats), \"times_selected\"] += 1\n",
    "\n",
    "print()\n",
    "print(f\"{len(set.intersection(*map(set, selected_feats)))} features in intersection\")\n",
    "print(f\"{len(set.union(*map(set, selected_feats)))} features in union\")\n",
    "\n",
    "ax = selection_df[\"times_selected\"].plot(kind=\"hist\", bins=10, figsize=(14,5))\n",
    "plt.xlabel(\"times selected\")"
   ]
  },
  {
   "cell_type": "code",
   "execution_count": 51,
   "metadata": {},
   "outputs": [
    {
     "name": "stdout",
     "output_type": "stream",
     "text": [
      "F1: 0.7924403393355173\n",
      "ACC: 0.8303396014594443\n",
      "KAPPA: 0.7606419919118883\n",
      "LOG LOSS: 0.9901801749377925\n"
     ]
    }
   ],
   "source": [
    "print(\"F1:\", f1_score(preds, y_trues, average=\"macro\"))\n",
    "print(\"ACC:\", accuracy_score(preds, y_trues))\n",
    "print(\"KAPPA:\", cohen_kappa_score(preds, y_trues))\n",
    "print(\"LOG LOSS:\", log_loss(y_trues, preds_proba))"
   ]
  },
  {
   "cell_type": "code",
   "execution_count": 52,
   "metadata": {
    "tags": []
   },
   "outputs": [
    {
     "name": "stdout",
     "output_type": "stream",
     "text": [
      "               precision    recall  f1-score   support\n",
      "\n",
      "Sleep stage 1       0.57      0.56      0.57      3708\n",
      "Sleep stage 2       0.85      0.87      0.86     19468\n",
      "Sleep stage 3       0.84      0.79      0.81      6843\n",
      "Sleep stage R       0.86      0.89      0.88      8092\n",
      "Sleep stage W       0.86      0.83      0.84      4645\n",
      "\n",
      "     accuracy                           0.83     42756\n",
      "    macro avg       0.80      0.79      0.79     42756\n",
      " weighted avg       0.83      0.83      0.83     42756\n",
      "\n"
     ]
    }
   ],
   "source": [
    "print(classification_report(preds, y_trues))"
   ]
  },
  {
   "cell_type": "code",
   "execution_count": 53,
   "metadata": {},
   "outputs": [
    {
     "data": {
      "text/plain": [
       "<AxesSubplot:title={'center':'Normalized confusion matrix'}, xlabel='Predicted label', ylabel='True label'>"
      ]
     },
     "execution_count": 53,
     "metadata": {},
     "output_type": "execute_result"
    },
    {
     "data": {
      "image/png": "[encoded data removed]",
      "text/plain": [
       "<Figure size 1800x864 with 4 Axes>"
      ]
     },
     "metadata": {
      "needs_background": "light"
     },
     "output_type": "display_data"
    }
   ],
   "source": [
    "classes = [\n",
    "    'Sleep stage W',\n",
    "    'Sleep stage 1',\n",
    "    'Sleep stage 2',\n",
    "    'Sleep stage 3',\n",
    "    'Sleep stage R'\n",
    "]\n",
    "\n",
    "plt.figure(figsize=(25,12))\n",
    "ax = plt.subplot(1,2,1)\n",
    "plot_confusion_matrix(y_pred=preds, y_true=y_trues, classes=classes, normalize=False, ax=ax)\n",
    "ax = plt.subplot(1,2,2)\n",
    "plot_confusion_matrix(y_pred=preds, y_true=y_trues, classes=classes, normalize=True, ax=ax)"
   ]
  },
  {
   "cell_type": "code",
   "execution_count": null,
   "metadata": {},
   "outputs": [],
   "source": []
  },
  {
   "cell_type": "code",
   "execution_count": 54,
   "metadata": {},
   "outputs": [
    {
     "data": {
      "image/png": "[encoded data removed]",
      "text/plain": [
       "<Figure size 1440x720 with 1 Axes>"
      ]
     },
     "metadata": {
      "needs_background": "light"
     },
     "output_type": "display_data"
    }
   ],
   "source": [
    "cv = gkfold.split(df_feats, df_feats[\"label\"], groups=df_feats.patient_id)\n",
    "\n",
    "_ = plot_learning_curve(\n",
    "    pipe,\n",
    "    title=\"Learning curve - F1 Macro\",\n",
    "    X=df_feats[feat_cols],\n",
    "    y=df_feats[\"label\"],\n",
    "    cv=cv,\n",
    "    scoring=\"f1_macro\",\n",
    "    n_jobs=25,\n",
    "    train_sizes=[0.05] + list(np.linspace(0.1,1,10))\n",
    ")"
   ]
  },
  {
   "cell_type": "markdown",
   "metadata": {},
   "source": [
    "### Grouped 22-fold for all the data"
   ]
  },
  {
   "cell_type": "code",
   "execution_count": 55,
   "metadata": {},
   "outputs": [
    {
     "data": {
      "text/plain": [
       "22"
      ]
     },
     "execution_count": 55,
     "metadata": {},
     "output_type": "execute_result"
    }
   ],
   "source": [
    "df_feats.patient_id.nunique()"
   ]
  },
  {
   "cell_type": "code",
   "execution_count": 56,
   "metadata": {
    "tags": []
   },
   "outputs": [],
   "source": [
    "# Total of 10 folds\n",
    "gkfold = GroupKFold(n_splits=22)\n",
    "cv = gkfold.split(df_feats, groups=df_feats.patient_id)\n",
    "\n",
    "res = cross_validate(\n",
    "    pipe,\n",
    "    df_feats[feat_cols],\n",
    "    df_feats[\"label\"],\n",
    "    scoring=[\"f1_macro\", \"balanced_accuracy\", \"accuracy\", \"neg_log_loss\"],\n",
    "    cv=cv,\n",
    "    n_jobs=30,\n",
    "    return_train_score=True,\n",
    "    return_estimator=True,\n",
    ")"
   ]
  },
  {
   "cell_type": "code",
   "execution_count": 57,
   "metadata": {},
   "outputs": [
    {
     "name": "stdout",
     "output_type": "stream",
     "text": [
      "22-FOLD: TRAIN\n",
      "  MACRO F1:           0.8419\n",
      "  Balanced accuracy:  0.8469\n",
      "  Accuracy:           0.8709\n",
      "  Log loss:           0.5945\n"
     ]
    }
   ],
   "source": [
    "print(\"22-FOLD: TRAIN\")\n",
    "print(\"  MACRO F1:          \", round(np.mean(res[\"train_f1_macro\"]), 4))\n",
    "print(\"  Balanced accuracy: \", round(np.mean(res[\"train_balanced_accuracy\"]), 4))\n",
    "print(\"  Accuracy:          \", round(np.mean(res[\"train_accuracy\"]), 4))\n",
    "print(\"  Log loss:          \", round(np.mean(-1 * res[\"train_neg_log_loss\"]), 4))"
   ]
  },
  {
   "cell_type": "code",
   "execution_count": 58,
   "metadata": {
    "tags": []
   },
   "outputs": [
    {
     "name": "stdout",
     "output_type": "stream",
     "text": [
      "22-FOLD: TEST\n",
      "  MACRO F1:           0.7792\n",
      "  Balanced accuracy:  0.8062\n",
      "  Accuracy:           0.83\n",
      "  Log loss:           0.9693\n"
     ]
    }
   ],
   "source": [
    "print(\"22-FOLD: TEST\")\n",
    "print(\"  MACRO F1:          \", round(np.mean(res[\"test_f1_macro\"]), 4))\n",
    "print(\"  Balanced accuracy: \", round(np.mean(res[\"test_balanced_accuracy\"]), 4))\n",
    "print(\"  Accuracy:          \", round(np.mean(res[\"test_accuracy\"]), 4))\n",
    "print(\"  Log loss:          \", round(np.mean(-1 * res[\"test_neg_log_loss\"]), 4))"
   ]
  },
  {
   "cell_type": "code",
   "execution_count": 59,
   "metadata": {
    "tags": []
   },
   "outputs": [],
   "source": [
    "preds = []\n",
    "preds_proba = []\n",
    "y_trues = []\n",
    "selected_feats = []\n",
    "cv = gkfold.split(df_feats, df_feats[\"label\"], groups=df_feats.patient_id)\n",
    "for fold_ix, (train_idx, test_idx) in enumerate(cv):\n",
    "    X_train = df_feats[feat_cols].iloc[train_idx]\n",
    "    y_train = df_feats[\"label\"].iloc[train_idx]\n",
    "    X_test = df_feats[feat_cols].iloc[test_idx]\n",
    "    y_test = df_feats[\"label\"].iloc[test_idx]\n",
    "    \n",
    "    estimator = res[\"estimator\"][fold_ix]\n",
    "    preds += [estimator.predict(X_test)]\n",
    "    preds_proba += [estimator.predict_proba(X_test)]\n",
    "    y_trues += [y_test]\n",
    "    selected_feats += [np.array(feat_cols)[estimator[\"selector\"].get_support()]]\n",
    "\n",
    "preds = np.hstack(preds)\n",
    "y_trues = np.hstack(y_trues)\n",
    "preds_proba = np.vstack(preds_proba)"
   ]
  },
  {
   "cell_type": "code",
   "execution_count": 60,
   "metadata": {},
   "outputs": [
    {
     "name": "stdout",
     "output_type": "stream",
     "text": [
      "917 features in total\n",
      "fold 0  902 features selected\n",
      "fold 1  902 features selected\n",
      "fold 2  900 features selected\n",
      "fold 3  901 features selected\n",
      "fold 4  902 features selected\n",
      "fold 5  901 features selected\n",
      "fold 6  901 features selected\n",
      "fold 7  902 features selected\n",
      "fold 8  901 features selected\n",
      "fold 9  901 features selected\n",
      "fold 10  900 features selected\n",
      "fold 11  901 features selected\n",
      "fold 12  901 features selected\n",
      "fold 13  901 features selected\n",
      "fold 14  901 features selected\n",
      "fold 15  901 features selected\n",
      "fold 16  900 features selected\n",
      "fold 17  898 features selected\n",
      "fold 18  901 features selected\n",
      "fold 19  901 features selected\n",
      "fold 20  901 features selected\n",
      "fold 21  901 features selected\n",
      "\n",
      "898 features in intersection\n",
      "902 features in union\n"
     ]
    },
    {
     "data": {
      "text/plain": [
       "Text(0.5, 0, 'times selected')"
      ]
     },
     "execution_count": 60,
     "metadata": {},
     "output_type": "execute_result"
    },
    {
     "data": {
      "image/png": "[encoded data removed]",
      "text/plain": [
       "<Figure size 1008x360 with 1 Axes>"
      ]
     },
     "metadata": {
      "needs_background": "light"
     },
     "output_type": "display_data"
    }
   ],
   "source": [
    "print(f\"{len(feat_cols)} features in total\")\n",
    "\n",
    "selection_df = pd.DataFrame(data=set.union(*map(set, selected_feats)), columns=[\"feature\"])\n",
    "selection_df[\"times_selected\"] = 0\n",
    "\n",
    "for fold, feats in enumerate(selected_feats):\n",
    "    print(f\"fold {fold}  {len(feats)} features selected\")\n",
    "    selection_df.loc[selection_df.feature.isin(feats), \"times_selected\"] += 1\n",
    "\n",
    "print()\n",
    "print(f\"{len(set.intersection(*map(set, selected_feats)))} features in intersection\")\n",
    "print(f\"{len(set.union(*map(set, selected_feats)))} features in union\")\n",
    "\n",
    "ax = selection_df[\"times_selected\"].plot(kind=\"hist\", bins=10, figsize=(14,5))\n",
    "plt.xlabel(\"times selected\")"
   ]
  },
  {
   "cell_type": "code",
   "execution_count": 61,
   "metadata": {},
   "outputs": [
    {
     "name": "stdout",
     "output_type": "stream",
     "text": [
      "F1: 0.7922472754951763\n",
      "ACC: 0.829988773505473\n",
      "KAPPA: 0.7602453653184077\n",
      "LOG LOSS: 0.9705850289258298\n"
     ]
    }
   ],
   "source": [
    "print(\"F1:\", f1_score(preds, y_trues, average=\"macro\"))\n",
    "print(\"ACC:\", accuracy_score(preds, y_trues))\n",
    "print(\"KAPPA:\", cohen_kappa_score(preds, y_trues))\n",
    "print(\"LOG LOSS:\", log_loss(y_trues, preds_proba))"
   ]
  },
  {
   "cell_type": "code",
   "execution_count": 62,
   "metadata": {
    "tags": []
   },
   "outputs": [
    {
     "name": "stdout",
     "output_type": "stream",
     "text": [
      "               precision    recall  f1-score   support\n",
      "\n",
      "Sleep stage 1       0.57      0.56      0.57      3743\n",
      "Sleep stage 2       0.85      0.87      0.86     19424\n",
      "Sleep stage 3       0.84      0.79      0.81      6827\n",
      "Sleep stage R       0.87      0.89      0.88      8145\n",
      "Sleep stage W       0.85      0.83      0.84      4617\n",
      "\n",
      "     accuracy                           0.83     42756\n",
      "    macro avg       0.80      0.79      0.79     42756\n",
      " weighted avg       0.83      0.83      0.83     42756\n",
      "\n"
     ]
    }
   ],
   "source": [
    "print(classification_report(preds, y_trues))"
   ]
  },
  {
   "cell_type": "code",
   "execution_count": 63,
   "metadata": {},
   "outputs": [
    {
     "data": {
      "text/plain": [
       "<AxesSubplot:title={'center':'Normalized confusion matrix'}, xlabel='Predicted label', ylabel='True label'>"
      ]
     },
     "execution_count": 63,
     "metadata": {},
     "output_type": "execute_result"
    },
    {
     "data": {
      "image/png": "[encoded data removed]",
      "text/plain": [
       "<Figure size 1800x864 with 4 Axes>"
      ]
     },
     "metadata": {
      "needs_background": "light"
     },
     "output_type": "display_data"
    }
   ],
   "source": [
    "classes = [\n",
    "    'Sleep stage W',\n",
    "    'Sleep stage 1',\n",
    "    'Sleep stage 2',\n",
    "    'Sleep stage 3',\n",
    "    'Sleep stage R'\n",
    "]\n",
    "\n",
    "plt.figure(figsize=(25,12))\n",
    "ax = plt.subplot(1,2,1)\n",
    "plot_confusion_matrix(y_pred=preds, y_true=y_trues, classes=classes, normalize=False, ax=ax)\n",
    "ax = plt.subplot(1,2,2)\n",
    "plot_confusion_matrix(y_pred=preds, y_true=y_trues, classes=classes, normalize=True, ax=ax)"
   ]
  },
  {
   "cell_type": "code",
   "execution_count": null,
   "metadata": {},
   "outputs": [],
   "source": []
  },
  {
   "cell_type": "code",
   "execution_count": 64,
   "metadata": {},
   "outputs": [
    {
     "data": {
      "image/png": "[encoded data removed]",
      "text/plain": [
       "<Figure size 1440x720 with 1 Axes>"
      ]
     },
     "metadata": {
      "needs_background": "light"
     },
     "output_type": "display_data"
    }
   ],
   "source": [
    "cv = gkfold.split(df_feats, groups=df_feats.patient_id)\n",
    "\n",
    "_ = plot_learning_curve(\n",
    "    pipe,\n",
    "    title=\"Learning curve - F1 Macro\",\n",
    "    X=df_feats[feat_cols],\n",
    "    y=df_feats[\"label\"],\n",
    "    cv=cv,\n",
    "    scoring=\"f1_macro\",\n",
    "    n_jobs=25,\n",
    "    train_sizes=[0.05] + list(np.linspace(0.1,1,10))\n",
    ")"
   ]
  }
 ],
 "metadata": {
  "kernelspec": {
   "display_name": "Python 3 (ipykernel)",
   "language": "python",
   "name": "python3"
  },
  "language_info": {
   "codemirror_mode": {
    "name": "ipython",
    "version": 3
   },
   "file_extension": ".py",
   "mimetype": "text/x-python",
   "name": "python",
   "nbconvert_exporter": "python",
   "pygments_lexer": "ipython3",
   "version": "3.7.5"
  },
  "toc-autonumbering": true
 },
 "nbformat": 4,
 "nbformat_minor": 4
}
